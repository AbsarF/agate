{
 "cells": [
  {
   "cell_type": "markdown",
   "metadata": {},
   "source": [
    "# The Agate Tutorial\n",
    "\n",
    "The best way to learn to use any tool is to actually use it. In this tutorial we will use agate to answer some basic questions about a dataset.\n",
    "\n",
    "The data we will be using is a copy of the [National Registery of Exonerations]( http://www.law.umich.edu/special/exoneration/Pages/detaillist.aspx) made on August 28th, 2015. This dataset lists individuals who are known to have been exonerated after having been wrongly convicted in United States courts. At the time this data was copied there were 1,651 entries in the registry."
   ]
  },
  {
   "cell_type": "markdown",
   "metadata": {},
   "source": [
    "## Installing agate\n",
    "\n",
    "Installing agate from the command line is easy:\n",
    "\n",
    "    pip install agate\n",
    "\n",
    "Note: You should be installing agate inside a [virtualenv](http://virtualenv.readthedocs.org/en/1.5.0/>). If for some crazy reason you aren't using virtualenv you will need to add a ``sudo`` to the previous command.*\n",
    "\n",
    "For more detailed installation instructions, see the [Installation](http://agate.readthedocs.io/en/1.5.0/install.html) section of the documentation."
   ]
  },
  {
   "cell_type": "markdown",
   "metadata": {},
   "source": [
    "## Getting the data\n",
    "\n",
    "If you're just reading this tutorial you can skip this section. If you want to try working through it on your own then you'll need to download the data.\n",
    "\n",
    "It can be downloaded from\n",
    "\n",
    "    curl -L -O https://github.com/onyxfish/agate/raw/master/examples/realdata/exonerations-20150828.csv\n",
    "\n",
    "The rest of this tutorial will expect that data to be located in `examples/realdata`."
   ]
  },
  {
   "cell_type": "markdown",
   "metadata": {},
   "source": [
    "## Importing agate\n",
    "\n",
    "Let's get started!"
   ]
  },
  {
   "cell_type": "code",
   "execution_count": 75,
   "metadata": {
    "collapsed": true
   },
   "outputs": [],
   "source": [
    "import agate"
   ]
  },
  {
   "cell_type": "markdown",
   "metadata": {},
   "source": [
    "## Loading data from a CSV\n",
    "\n",
    "The [`Table`](http://agate.readthedocs.io/en/1.5.0/api/table.html#module-agate.table) is the basic class in agate. To create a table from a CSV we use the [`Table.from_csv`](http://agate.readthedocs.io/en/1.5.0/api/table.html#agate.Table.from_csv) class method:"
   ]
  },
  {
   "cell_type": "code",
   "execution_count": 2,
   "metadata": {
    "collapsed": false
   },
   "outputs": [],
   "source": [
    "exonerations = agate.Table.from_csv('examples/realdata/exonerations-20150828.csv')"
   ]
  },
  {
   "cell_type": "markdown",
   "metadata": {},
   "source": [
    "With no other arguments specified, agate will automatically create an instance of [`TypeTester`](http://agate.readthedocs.io/en/1.5.0/api/type_tester.html#agate.TypeTester) and use it to figure out the type of each column. TypeTester is a \"best guess\" approach to determining the kinds of data in your table. It can guess wrong. In that case you can create a TypeTester manually and use the ``force`` argument to override its guess for a specific column:"
   ]
  },
  {
   "cell_type": "code",
   "execution_count": 3,
   "metadata": {
    "collapsed": false
   },
   "outputs": [],
   "source": [
    "tester = agate.TypeTester(force={\n",
    "    'false_evidence': agate.Boolean()\n",
    "})\n",
    "\n",
    "exonerations = agate.Table.from_csv('examples/realdata/exonerations-20150828.csv', column_types=tester)"
   ]
  },
  {
   "cell_type": "markdown",
   "metadata": {},
   "source": [
    "If you already know the types of your data you may wish to skip the TypeTester entirely. You may pass sequences of column names and column types to [`Table.from_csv`](http://agate.readthedocs.io/en/1.5.0/api/table.html#agate.Table.from_csv) as the ``column_names`` and ``column_types`` arguments, respectively.\n",
    "\n",
    "For larger datasets the [`TypeTester`](http://agate.readthedocs.io/en/1.5.0/api/type_tester.html#agate.TypeTester) can be slow to evaluate the data. In that case you can specify a `limit` argument to restrict the amount of data it will use to infer types:"
   ]
  },
  {
   "cell_type": "code",
   "execution_count": 4,
   "metadata": {
    "collapsed": false
   },
   "outputs": [],
   "source": [
    "tester = agate.TypeTester(limit=100)\n",
    "\n",
    "exonerations = agate.Table.from_csv('examples/realdata/exonerations-20150828.csv', column_types=tester)"
   ]
  },
  {
   "cell_type": "markdown",
   "metadata": {},
   "source": [
    "The dataset we are using in this tutorial is simple enough that we can rely on the built-in TypeTester to guess quickly and accurately.\n",
    "\n",
    "**Note:** agate's CSV reader and writer support unicode and other encodings for both Python 2 and Python 3. Try using them as a drop-in replacement for Python's builtin module: `from agate import csv`.\n",
    "\n",
    "**Note:** agate also has [`Table.from_json`](http://agate.readthedocs.io/en/1.5.0/api/table.html#agate.Table.from_json) for creating tables from JSON data."
   ]
  },
  {
   "cell_type": "markdown",
   "metadata": {},
   "source": [
    "Describing the table\n",
    "====================\n",
    "\n",
    "If you're working with new data, or you just need a refresher, you may want to review what columns are in the table. You can do this with the [`.Table.print_structure`](http://agate.readthedocs.io/en/1.5.0/api/table.html#agate.Table.print_structure) method or by just calling `print` on the table:"
   ]
  },
  {
   "cell_type": "code",
   "execution_count": 5,
   "metadata": {
    "collapsed": false
   },
   "outputs": [
    {
     "name": "stdout",
     "output_type": "stream",
     "text": [
      "| column              | data_type |\n",
      "| ------------------- | --------- |\n",
      "| last_name           | Text      |\n",
      "| first_name          | Text      |\n",
      "| age                 | Number    |\n",
      "| race                | Text      |\n",
      "| state               | Text      |\n",
      "| tags                | Text      |\n",
      "| crime               | Text      |\n",
      "| sentence            | Text      |\n",
      "| convicted           | Number    |\n",
      "| exonerated          | Number    |\n",
      "| dna                 | Boolean   |\n",
      "| dna_essential       | Text      |\n",
      "| mistake_witness     | Boolean   |\n",
      "| false_confession    | Boolean   |\n",
      "| perjury             | Boolean   |\n",
      "| false_evidence      | Boolean   |\n",
      "| official_misconduct | Boolean   |\n",
      "| inadequate_defense  | Boolean   |\n",
      "\n"
     ]
    }
   ],
   "source": [
    "print(exonerations)"
   ]
  },
  {
   "cell_type": "markdown",
   "metadata": {},
   "source": [
    "Navigating table data\n",
    "=====================\n",
    "\n",
    "agate goes to great pains to make accessing the data in your tables work seamlessly for a wide variety of use-cases. Access by both [`Column`](http://agate.readthedocs.io/en/1.5.0/api/columns_and_rows.html#agate.Column) and [`Row`](http://agate.readthedocs.io/en/1.5.0/api/columns_and_rows.html#agate.Row) is supported, via the [`Table.columns`](http://agate.readthedocs.io/en/1.5.0/api/table.html#agate.Table.columns) and [`Table.rows`](http://agate.readthedocs.io/en/1.5.0/api/table.html#agate.Table.rows) attributes respectively.\n",
    "\n",
    "All four of these objects are examples of [`.MappedSequence`](http://agate.readthedocs.io/en/1.5.0/api/columns_and_rows.html#agate.MappedSequence), the foundational type that underlies much of agate's functionality. A MappedSequence functions very similar to a standard Python [`dict`](https://docs.python.org/3/tutorial/datastructures.html#dictionaries), with a few important exceptions:\n",
    "\n",
    "* Data may be accessed either by numeric index (e.g. column number) or by a non-integer key (e.g. column name).\n",
    "* Items are ordered, just like an instance of [`collections.OrderedDict`](https://docs.python.org/3.5/library/collections.html#collections.OrderedDict).\n",
    "* Iterating over the sequence returns its *values*, rather than its *keys*.\n",
    "\n",
    "To demonstrate the first point, these two lines are both valid ways of getting the first column in the `exonerations` table:"
   ]
  },
  {
   "cell_type": "code",
   "execution_count": 6,
   "metadata": {
    "collapsed": false
   },
   "outputs": [
    {
     "name": "stderr",
     "output_type": "stream",
     "text": [
      "/Users/cgroskopf/.pyenv/versions/3.5.0/lib/python3.5/site-packages/IPython/core/formatters.py:92: DeprecationWarning: DisplayFormatter._ipython_display_formatter_default is deprecated: use @default decorator instead.\n",
      "/Users/cgroskopf/.pyenv/versions/3.5.0/lib/python3.5/site-packages/IPython/core/formatters.py:98: DeprecationWarning: DisplayFormatter._formatters_default is deprecated: use @default decorator instead.\n",
      "/Users/cgroskopf/.pyenv/versions/3.5.0/lib/python3.5/site-packages/IPython/core/formatters.py:677: DeprecationWarning: PlainTextFormatter._deferred_printers_default is deprecated: use @default decorator instead.\n",
      "/Users/cgroskopf/.pyenv/versions/3.5.0/lib/python3.5/site-packages/IPython/core/formatters.py:669: DeprecationWarning: PlainTextFormatter._singleton_printers_default is deprecated: use @default decorator instead.\n",
      "/Users/cgroskopf/.pyenv/versions/3.5.0/lib/python3.5/site-packages/IPython/core/formatters.py:672: DeprecationWarning: PlainTextFormatter._type_printers_default is deprecated: use @default decorator instead.\n",
      "/Users/cgroskopf/.pyenv/versions/3.5.0/lib/python3.5/site-packages/IPython/core/formatters.py:669: DeprecationWarning: PlainTextFormatter._singleton_printers_default is deprecated: use @default decorator instead.\n",
      "/Users/cgroskopf/.pyenv/versions/3.5.0/lib/python3.5/site-packages/IPython/core/formatters.py:672: DeprecationWarning: PlainTextFormatter._type_printers_default is deprecated: use @default decorator instead.\n",
      "/Users/cgroskopf/.pyenv/versions/3.5.0/lib/python3.5/site-packages/IPython/core/formatters.py:677: DeprecationWarning: PlainTextFormatter._deferred_printers_default is deprecated: use @default decorator instead.\n"
     ]
    },
    {
     "data": {
      "text/plain": [
       "<agate.columns.Column at 0x10d5375e8>"
      ]
     },
     "execution_count": 6,
     "metadata": {},
     "output_type": "execute_result"
    }
   ],
   "source": [
    "exonerations.columns['last_name']"
   ]
  },
  {
   "cell_type": "code",
   "execution_count": 7,
   "metadata": {
    "collapsed": false
   },
   "outputs": [
    {
     "data": {
      "text/plain": [
       "<agate.columns.Column at 0x10d5375e8>"
      ]
     },
     "execution_count": 7,
     "metadata": {},
     "output_type": "execute_result"
    }
   ],
   "source": [
    "exonerations.columns[0]"
   ]
  },
  {
   "cell_type": "markdown",
   "metadata": {},
   "source": [
    "In the same way, rows can be accessed either by numeric index or by an optional, unique \"row name\" specified when the table is created. In this tutorial we won't use row names, but here is an example of how they work:"
   ]
  },
  {
   "cell_type": "code",
   "execution_count": 8,
   "metadata": {
    "collapsed": false
   },
   "outputs": [
    {
     "data": {
      "text/plain": [
       "<agate.rows.Row at 0x10d9da480>"
      ]
     },
     "execution_count": 8,
     "metadata": {},
     "output_type": "execute_result"
    }
   ],
   "source": [
    "exonerations = agate.Table.from_csv('examples/realdata/exonerations-20150828.csv', row_names=lambda r: '%(last_name)s, %(first_name)s' % (r))\n",
    "\n",
    "exonerations.rows[0]"
   ]
  },
  {
   "cell_type": "code",
   "execution_count": 9,
   "metadata": {
    "collapsed": false
   },
   "outputs": [
    {
     "data": {
      "text/plain": [
       "<agate.rows.Row at 0x10d9da480>"
      ]
     },
     "execution_count": 9,
     "metadata": {},
     "output_type": "execute_result"
    }
   ],
   "source": [
    "exonerations.rows['Abbitt, Joseph Lamont']"
   ]
  },
  {
   "cell_type": "markdown",
   "metadata": {},
   "source": [
    "In this case we create our row names using a [`lambda`](https://docs.python.org/3/tutorial/controlflow.html#lambda-expressions) function that takes a row and returns an unique identifer. If your data has a unique column, you can also just pass the column name. (For example, a column of USPS abbrevations or FIPS codes.) Note, however, that your row names can never be `int`, because that is reserved for indexing by numeric order. (A [`decimal.Decimal`](https://docs.python.org/3.5/library/decimal.html#decimal.Decimal) or stringified integer is just fine.)\n",
    "\n",
    "Once you've got a specific row, you can then access its individual values (cells, in spreadsheet-speak) either by numeric index or column name:"
   ]
  },
  {
   "cell_type": "code",
   "execution_count": 10,
   "metadata": {
    "collapsed": false
   },
   "outputs": [
    {
     "data": {
      "text/plain": [
       "'Abbitt'"
      ]
     },
     "execution_count": 10,
     "metadata": {},
     "output_type": "execute_result"
    }
   ],
   "source": [
    "row = exonerations.rows[0]\n",
    "\n",
    "row[0]"
   ]
  },
  {
   "cell_type": "code",
   "execution_count": 11,
   "metadata": {
    "collapsed": false
   },
   "outputs": [
    {
     "data": {
      "text/plain": [
       "'Abbitt'"
      ]
     },
     "execution_count": 11,
     "metadata": {},
     "output_type": "execute_result"
    }
   ],
   "source": [
    "row['last_name']"
   ]
  },
  {
   "cell_type": "markdown",
   "metadata": {},
   "source": [
    "And the same goes for columns, which can be indexed numerically or by row name (if one has been setup):"
   ]
  },
  {
   "cell_type": "code",
   "execution_count": 12,
   "metadata": {
    "collapsed": false
   },
   "outputs": [
    {
     "data": {
      "text/plain": [
       "'Child Sex Abuse'"
      ]
     },
     "execution_count": 12,
     "metadata": {},
     "output_type": "execute_result"
    }
   ],
   "source": [
    "column = exonerations.columns['crime']\n",
    "\n",
    "column[0]"
   ]
  },
  {
   "cell_type": "code",
   "execution_count": 13,
   "metadata": {
    "collapsed": false
   },
   "outputs": [
    {
     "data": {
      "text/plain": [
       "'Child Sex Abuse'"
      ]
     },
     "execution_count": 13,
     "metadata": {},
     "output_type": "execute_result"
    }
   ],
   "source": [
    "column['Abbitt, Joseph Lamont']"
   ]
  },
  {
   "cell_type": "markdown",
   "metadata": {},
   "source": [
    "For any instance of [`.MappedSequence`](http://agate.readthedocs.io/en/1.5.0/api/columns_and_rows.html#agate.MappedSequence), iteration returns values, *in order*. Here we print only the first ten:"
   ]
  },
  {
   "cell_type": "code",
   "execution_count": 14,
   "metadata": {
    "collapsed": false
   },
   "outputs": [
    {
     "name": "stdout",
     "output_type": "stream",
     "text": [
      "Abbitt\n",
      "Abdal\n",
      "Abernathy\n",
      "Acero\n",
      "Adams\n",
      "Adams\n",
      "Adams\n",
      "Adams\n",
      "Adams\n",
      "Adams\n"
     ]
    }
   ],
   "source": [
    "for row in exonerations.rows[:10]:\n",
    "    print(row['last_name'])"
   ]
  },
  {
   "cell_type": "markdown",
   "metadata": {
    "collapsed": true
   },
   "source": [
    "To summarize, the four most common data structures in agate ([`Column`](http://agate.readthedocs.io/en/1.5.0/api/columns_and_rows.html#agate.Column), [`Row`](http://agate.readthedocs.io/en/1.5.0/api/columns_and_rows.html#agate.Row), [`Table.columns`](http://agate.readthedocs.io/en/1.5.0/api/table.html#agate.Table.columns) and [`Table.rows`](http://agate.readthedocs.io/en/1.5.0/api/table.html#agate.Table.rows)) are all instances of [`MappedSequence`](http://agate.readthedocs.io/en/1.5.0/api/columns_and_rows.html#agate.MappedSequence) and therefore all behave in a uniform way. This is also true of [`TableSet`](http://agate.readthedocs.io/en/1.5.0/api/tableset.html), which will discuss later on."
   ]
  },
  {
   "cell_type": "markdown",
   "metadata": {},
   "source": [
    "Aggregating column data\n",
    "=======================\n",
    "\n",
    "With the basics out of the way, let's do some actual analysis. Analysis begins with questions, so let's ask some.\n",
    "\n",
    "**Question:** How many exonerations involved a false confession?\n",
    "\n",
    "Answering this question involves counting the number of ``True`` values in the ``false_confession`` column. When we created the table we specified that the data in this column contained [`Boolean`](http://agate.readthedocs.io/en/1.5.0/api/data_types.html#agate.Boolean) data. Because of this, agate has taken care of coercing the original text data from the CSV into Python's ``True`` and ``False`` values.\n",
    "\n",
    "We'll answer the question using an instance of [`Count`](http://agate.readthedocs.io/en/1.5.0/api/aggregations.html#agate.Count) which is a type of [`Aggregation`](http://agate.readthedocs.io/en/1.5.0/api/aggregations.html#agate.Aggregation). Aggregations are used to perform \"column-wise\" calculations. That is, they derive a new single value from the contents of a column. The [`Count`](http://agate.readthedocs.io/en/1.5.0/api/aggregations.html#agate.Count) aggregation can count either all values in a column, or how many times a particular value appears.\n",
    "\n",
    "An Aggregation is applied to a table using [`Table.aggregate`](http://agate.readthedocs.io/en/1.5.0/api/table.html#agate.Table.aggregate).\n",
    "\n",
    "It sounds complicated, but it's really simple. Putting it all together looks like this:"
   ]
  },
  {
   "cell_type": "code",
   "execution_count": 15,
   "metadata": {
    "collapsed": false
   },
   "outputs": [
    {
     "data": {
      "text/plain": [
       "211"
      ]
     },
     "execution_count": 15,
     "metadata": {},
     "output_type": "execute_result"
    }
   ],
   "source": [
    "exonerations.aggregate(agate.Count('false_confession', True))"
   ]
  },
  {
   "cell_type": "markdown",
   "metadata": {},
   "source": [
    "Let's look at another example, this time using a numerical aggregation.\n",
    "\n",
    "**Question:** What was the median age of exonerated indviduals at time of arrest?"
   ]
  },
  {
   "cell_type": "code",
   "execution_count": 16,
   "metadata": {
    "collapsed": false
   },
   "outputs": [
    {
     "name": "stderr",
     "output_type": "stream",
     "text": [
      "/Users/cgroskopf/src/agate/agate/aggregations/median.py:37: NullCalculationWarning: Column \"age\" contains nulls. These will be excluded from Median calculation.\n"
     ]
    },
    {
     "data": {
      "text/plain": [
       "Decimal('26')"
      ]
     },
     "execution_count": 16,
     "metadata": {},
     "output_type": "execute_result"
    }
   ],
   "source": [
    "exonerations.aggregate(agate.Median('age'))"
   ]
  },
  {
   "cell_type": "markdown",
   "metadata": {},
   "source": [
    "The answer to our question is \"26 years old\", however, as the warnings indicate, not every exonerated individual in the data has a value for the ``age`` column. The [`Median`](http://agate.readthedocs.io/en/1.5.0/api/aggregations.html#agate.Median) statistical operation has no standard way of accounting for null values, so it leaves them out of the calculation.\n",
    "\n",
    "**Question:** How many individuals do not have an age specified in the data?\n",
    "\n",
    "Now that we know there are null values in the ``age`` column, we might worry about our sample size. What if most of the rows don't have an age?"
   ]
  },
  {
   "cell_type": "code",
   "execution_count": 17,
   "metadata": {
    "collapsed": false
   },
   "outputs": [
    {
     "data": {
      "text/plain": [
       "9"
      ]
     },
     "execution_count": 17,
     "metadata": {},
     "output_type": "execute_result"
    }
   ],
   "source": [
    "exonerations.aggregate(agate.Count('age', None))"
   ]
  },
  {
   "cell_type": "markdown",
   "metadata": {
    "collapsed": true
   },
   "source": [
    "Only nine rows in this dataset don't have age, so it's certainly still useful to compute a median. However, we might still want to filter those rows out so we could have a consistent sample for all of our calculations. In the next section you'll learn how to do just that.\n",
    "\n",
    "Different [`aggregations`](http://agate.readthedocs.io/en/1.5.0/api/aggregations.html) can be applied depending on the type of data in each column. If none of the provided aggregations suit your needs you can use [`Summary`](http://agate.readthedocs.io/en/1.5.0/api/aggregations.html#agate.Summary) to apply an arbitrary function to a column. If that still doesn't suit your needs you can always create your own aggregation from scratch by subclassing [`Aggregation`](http://agate.readthedocs.io/en/1.5.0/api/aggregations.html#agate.Aggregation)."
   ]
  },
  {
   "cell_type": "markdown",
   "metadata": {},
   "source": [
    "Selecting and filtering data\n",
    "============================\n",
    "\n",
    "So what if those rows with no age were going to flummox our analysis? Agate's [`Table`](http://agate.readthedocs.io/en/1.5.0/api/table.html#agate.Table) class provides a full suite of SQL-like operations including [`Table.select`](http://agate.readthedocs.io/en/1.5.0/api/table.html#agate.Table.select) for grabbing specific columns, [`Table.where`](http://agate.readthedocs.io/en/1.5.0/api/table.html#agate.Table.where) for selecting particular rows and [`Table.group_by`](http://agate.readthedocs.io/en/1.5.0/api/table.html#agate.Table.group_by) for grouping rows by common values.\n",
    "\n",
    "Let's use [`Table.where`](http://agate.readthedocs.io/en/1.5.0/api/table.html#agate.Table.where) to filter our exonerations table to only those individuals that have an age specified."
   ]
  },
  {
   "cell_type": "code",
   "execution_count": 18,
   "metadata": {
    "collapsed": true
   },
   "outputs": [],
   "source": [
    "with_age = exonerations.where(lambda row: row['age'] is not None)"
   ]
  },
  {
   "cell_type": "markdown",
   "metadata": {},
   "source": [
    "You'll notice we provide a [`lambda`](https://docs.python.org/3/tutorial/controlflow.html#lambda-expressions) function to the [`Table.where`](http://agate.readthedocs.io/en/1.5.0/api/table.html#agate.Table.where). This function is applied to each row and if it returns ``True``, then the row is included in the output table.\n",
    "\n",
    "A crucial thing to understand about these table methods is that they return **new tables**. In our example above ``exonerations`` was a [`Table`](http://agate.readthedocs.io/en/1.5.0/api/table.html#agate.Table) instance and we applied [`Table.where`](http://agate.readthedocs.io/en/1.5.0/api/table.html#agate.Table.where), so ``with_age`` is a new, different [`Table`](http://agate.readthedocs.io/en/1.5.0/api/table.html#agate.Table). The tables themselves can't be changed. You can create new tables with these methods, but you can't modify them in-place. (If this seems weird, just trust me. There are lots of good computer science-y reasons to do it this way.)\n",
    "\n",
    "We can verify this did what we expected by counting the rows in the original table and rows in the new table:"
   ]
  },
  {
   "cell_type": "code",
   "execution_count": 19,
   "metadata": {
    "collapsed": false
   },
   "outputs": [
    {
     "data": {
      "text/plain": [
       "9"
      ]
     },
     "execution_count": 19,
     "metadata": {},
     "output_type": "execute_result"
    }
   ],
   "source": [
    "len(exonerations.rows) - len(with_age.rows)"
   ]
  },
  {
   "cell_type": "markdown",
   "metadata": {},
   "source": [
    "Nine rows were removed, which is the number of nulls we had already identified were in the column.\n",
    "\n",
    "Now if we calculate the median age of these individuals, we don't see the warning anymore."
   ]
  },
  {
   "cell_type": "code",
   "execution_count": 20,
   "metadata": {
    "collapsed": false
   },
   "outputs": [
    {
     "data": {
      "text/plain": [
       "Decimal('26')"
      ]
     },
     "execution_count": 20,
     "metadata": {},
     "output_type": "execute_result"
    }
   ],
   "source": [
    "with_age.aggregate(agate.Median('age'))"
   ]
  },
  {
   "cell_type": "markdown",
   "metadata": {},
   "source": [
    "Computing new columns\n",
    "=====================\n",
    "\n",
    "In addition to \"column-wise\" [`aggregations`](http://agate.readthedocs.io/en/1.5.0/api/aggregations.html#module-agate.aggregations) there are also \"row-wise\" [`computations`](http://agate.readthedocs.io/en/1.5.0/api/computations.html#module-agate.computations). Computations go through a [`Table`](http://agate.readthedocs.io/en/1.5.0/api/table.html#agate.Table) row-by-row and derive a new column using the existing data. To perform row computations in agate we use subclasses of [`Computation`](http://agate.readthedocs.io/en/1.5.0/api/computations.html#agate.Computation).\n",
    "\n",
    "When one or more instances of [`Computation`](http://agate.readthedocs.io/en/1.5.0/api/computations.html#agate.Computation) are applied with the [`Table.compute`](http://agate.readthedocs.io/en/1.5.0/api/table.html#agate.Table.compute) method, a new table is created with additional columns.\n",
    "\n",
    "**Question:** How long did individuals remain in prison before being exonerated?\n",
    "\n",
    "To answer this question we will apply the [`Change`](http://agate.readthedocs.io/en/1.5.0/api/computations.html#agate.Change) computation to the ``convicted`` and ``exonerated`` columns. Each of these columns contains the individual's age at the time of that event. All that [`Change`](http://agate.readthedocs.io/en/1.5.0/api/computations.html#agate.Change) does is compute the difference between two numbers. (In this case each of these columns contain a [`Number`](http://agate.readthedocs.io/en/1.5.0/api/data_types.html#agate.Number), but this will also work with [`Date`](http://agate.readthedocs.io/en/1.5.0/api/data_types.html#agate.Date) or [`DateTime`](http://agate.readthedocs.io/en/1.5.0/api/data_types.html#agate.DateTime).)"
   ]
  },
  {
   "cell_type": "code",
   "execution_count": 21,
   "metadata": {
    "collapsed": false
   },
   "outputs": [
    {
     "data": {
      "text/plain": [
       "Decimal('8')"
      ]
     },
     "execution_count": 21,
     "metadata": {},
     "output_type": "execute_result"
    }
   ],
   "source": [
    "with_years_in_prison = exonerations.compute([\n",
    "    ('years_in_prison', agate.Change('convicted', 'exonerated'))\n",
    "])\n",
    "\n",
    "with_years_in_prison.aggregate(agate.Median('years_in_prison'))"
   ]
  },
  {
   "cell_type": "markdown",
   "metadata": {},
   "source": [
    "The median number of years an exonerated individual spent in prison was 8 years.\n",
    "\n",
    "Sometimes, the built-in computations, such as [`Change`](http://agate.readthedocs.io/en/1.5.0/api/computations.html#agate.Change) won't suffice. I mentioned before that you could perform arbitrary column-wise aggregations using [`Summary`](http://agate.readthedocs.io/en/1.5.0/api/aggregations.html#agate.Summary). You can do the same thing for row-wise computations using [`Formula`](http://agate.readthedocs.io/en/1.5.0/api/computations.html#agate.Formula). This is somewhat analogous to Excel's cell formulas.\n",
    "\n",
    "For example, this code will create a ``full_name`` column from the ``first_name`` and ``last_name`` columns in the data:"
   ]
  },
  {
   "cell_type": "code",
   "execution_count": 22,
   "metadata": {
    "collapsed": true
   },
   "outputs": [],
   "source": [
    "full_names = exonerations.compute([\n",
    "    ('full_name', agate.Formula(agate.Text(), lambda row: '%(first_name)s %(last_name)s' % row))\n",
    "])"
   ]
  },
  {
   "cell_type": "markdown",
   "metadata": {},
   "source": [
    "For efficiency's sake, agate allows you to perform several computations at once (though their results can't depend on one another):"
   ]
  },
  {
   "cell_type": "code",
   "execution_count": 23,
   "metadata": {
    "collapsed": true
   },
   "outputs": [],
   "source": [
    "with_computations = exonerations.compute([\n",
    "    ('full_name', agate.Formula(agate.Text(), lambda row: '%(first_name)s %(last_name)s' % row)),\n",
    "    ('years_in_prison', agate.Change('convicted', 'exonerated'))\n",
    "])"
   ]
  },
  {
   "cell_type": "markdown",
   "metadata": {},
   "source": [
    "You can also compute new columns to clean up your raw data. In the initial data, the ``state`` column has some values with a 'F-' prefix on the state abbreviation. Cases with that prefix are federal cases as opposed to state prosecutions. To make the data easier to use, we can create a new ``federal`` column to tag federal cases and clean up the original state column:"
   ]
  },
  {
   "cell_type": "code",
   "execution_count": 24,
   "metadata": {
    "collapsed": true
   },
   "outputs": [],
   "source": [
    "clean_state_data = exonerations.compute([\n",
    "    ('federal', agate.Formula(agate.Boolean(), lambda row: row['state'].startswith('F-'))),\n",
    "    ('state', agate.Formula(agate.Text(), lambda row: row['state'][2:] if row['state'].startswith('F-') else row['state']))\n",
    "], replace=True)"
   ]
  },
  {
   "cell_type": "markdown",
   "metadata": {
    "collapsed": true
   },
   "source": [
    "We add the ``replace`` argument to our ``compute`` method to replace the state column in place.\n",
    "\n",
    "If [`Formula`](http://agate.readthedocs.io/en/1.5.0/api/computations.html#agate.Formula) is not flexible enough (for instance, if you needed to compute a new value based on the distribution of data in a column) you can always implement your own subclass of [`Computation`](http://agate.readthedocs.io/en/1.5.0/api/computations.html#agate.Computation). See the API documentation for [`computations`](http://agate.readthedocs.io/en/1.5.0/api/computations.html#module-agate.computations to see all of the supported ways to compute new data."
   ]
  },
  {
   "cell_type": "markdown",
   "metadata": {},
   "source": [
    "Sorting and slicing\n",
    "===================\n",
    "\n",
    "**Question:** Who are the ten exonerated individuals who were youngest at the time they were arrested?\n",
    "\n",
    "Remembering that methods of tables return tables, we will use [`Table.order_by`](http://agate.readthedocs.io/en/1.5.0/api/table.html#agate.Table.order_by) to sort our table:"
   ]
  },
  {
   "cell_type": "code",
   "execution_count": 25,
   "metadata": {
    "collapsed": true
   },
   "outputs": [],
   "source": [
    "sorted_by_age = exonerations.order_by('age')"
   ]
  },
  {
   "cell_type": "markdown",
   "metadata": {},
   "source": [
    "We can then use [`Table.limit`](http://agate.readthedocs.io/en/1.5.0/api/table.html#agate.Table.limit) get only the first ten rows of the data."
   ]
  },
  {
   "cell_type": "code",
   "execution_count": 26,
   "metadata": {
    "collapsed": true
   },
   "outputs": [],
   "source": [
    "youngest_ten = sorted_by_age.limit(10)"
   ]
  },
  {
   "cell_type": "markdown",
   "metadata": {},
   "source": [
    "Now let's use [`Table.print_table`](http://agate.readthedocs.io/en/1.5.0/api/table.html#agate.Table.print_table) to help us pretty the results in a way we can easily review:"
   ]
  },
  {
   "cell_type": "code",
   "execution_count": 27,
   "metadata": {
    "collapsed": false
   },
   "outputs": [
    {
     "name": "stdout",
     "output_type": "stream",
     "text": [
      "| last_name | first_name | age | race      | state | tags    | crime   | ... |\n",
      "| --------- | ---------- | --- | --------- | ----- | ------- | ------- | --- |\n",
      "| Murray    | Lacresha   |  11 | Black     | TX    | CV, F   | Murder  | ... |\n",
      "| Adams     | Johnathan  |  12 | Caucasian | GA    | CV, P   | Murder  | ... |\n",
      "| Harris    | Anthony    |  12 | Black     | OH    | CV      | Murder  | ... |\n",
      "| Edmonds   | Tyler      |  13 | Caucasian | MS    |         | Murder  | ... |\n",
      "| Handley   | Zachary    |  13 | Caucasian | PA    | A, CV   | Arson   | ... |\n",
      "| Jimenez   | Thaddeus   |  13 | Hispanic  | IL    |         | Murder  | ... |\n",
      "| Pacek     | Jerry      |  13 | Caucasian | PA    |         | Murder  | ... |\n",
      "| Barr      | Jonathan   |  14 | Black     | IL    | CDC, CV | Murder  | ... |\n",
      "| Brim      | Dominique  |  14 | Black     | MI    | F       | Assault | ... |\n",
      "| Brown     | Timothy    |  14 | Black     | FL    |         | Murder  | ... |\n"
     ]
    }
   ],
   "source": [
    "youngest_ten.print_table(max_columns=7)"
   ]
  },
  {
   "cell_type": "markdown",
   "metadata": {},
   "source": [
    "If you find it impossible to believe that an eleven year-old was convicted of murder, I encourage you to read the Registry's [description of the case](http://www.law.umich.edu/special/exoneration/Pages/casedetail.aspx?caseid=3499>).\n",
    "\n",
    "**Note:**  In the previous example we could have omitted the [`Table.limit`](http://agate.readthedocs.io/en/1.5.0/api/table.html#agate.Table.limit) and passed a ``max_rows=10`` to [`Table.print_table`](http://agate.readthedocs.io/en/1.5.0/api/table.html#agate.Table.print_table) instead. In this case they accomplish exactly the same goal.\n",
    "\n",
    "What if we were more curious about the *distribution* of ages, rather than the highest or lowest? agate includes the [`Table.pivot`](http://agate.readthedocs.io/en/1.5.0/api/table.html#agate.Table.pivot) and [`Table.bins`](http://agate.readthedocs.io/en/1.5.0/api/table.html#agate.Table.bins) methods for counting values individually or by ranges. Let's try binning the ages. Then, instead of using [`Table.print_table`](http://agate.readthedocs.io/en/1.5.0/api/table.html#agate.Table.print_table), we'll use [`Table.print_bars`](http://agate.readthedocs.io/en/1.5.0/api/table.html#agate.Table.print_bars) to generate a simple, text bar chart."
   ]
  },
  {
   "cell_type": "code",
   "execution_count": 28,
   "metadata": {
    "collapsed": false
   },
   "outputs": [
    {
     "name": "stdout",
     "output_type": "stream",
     "text": [
      "age       Count\n",
      "[10 - 19)   227 ▓░░░░░░░░░░░░░░░░░░░░                                           \n",
      "[19 - 28)   688 ▓░░░░░░░░░░░░░░░░░░░░░░░░░░░░░░░░░░░░░░░░░░░░░░░░░░░░░░░░░░░░░░ \n",
      "[28 - 37)   405 ▓░░░░░░░░░░░░░░░░░░░░░░░░░░░░░░░░░░░░                           \n",
      "[37 - 46)   213 ▓░░░░░░░░░░░░░░░░░░░                                            \n",
      "[46 - 55)    81 ▓░░░░░░░                                                        \n",
      "[55 - 64)    24 ▓░░                                                             \n",
      "[64 - 73)     3 ▓                                                               \n",
      "[82 - 91)     1 ▓                                                               \n",
      "None          9 ▓░                                                              \n",
      "                +---------------+---------------+--------------+---------------+\n",
      "                0              175             350            525            700\n"
     ]
    }
   ],
   "source": [
    "binned_ages = exonerations.bins('age', 10, 0, 100)\n",
    "binned_ages.print_bars('age', 'Count', width=80)"
   ]
  },
  {
   "cell_type": "markdown",
   "metadata": {
    "collapsed": true
   },
   "source": [
    "Notice that we specify we want :code:`10` bins spanning the range :code:`0` to :code:`100`. If these values are omitted agate will attempt to infer good defaults. We also specify that we want our bar chart to span a width of :code:`80` characters. This can be adjusted to a suitable width for your terminal or document.\n",
    "\n",
    "**Note:** If you use a monospaced font, such as Courier, you can copy and paste agate bar charts into emails or documents. No screenshots required."
   ]
  },
  {
   "cell_type": "markdown",
   "metadata": {},
   "source": [
    "Grouping and aggregating\n",
    "========================\n",
    "\n",
    "**Question:** Which state has seen the most exonerations?\n",
    "\n",
    "This question can't be answered by operating on a single column. What we need is the equivalent of SQL's ``GROUP BY``. agate supports a full set of SQL-like operations on tables. Unlike SQL, agate breaks grouping and aggregation into two discrete steps.\n",
    "\n",
    "First, we use [`Table.group_by`](http://agate.readthedocs.io/en/1.5.0/api/table.html#agate.Table.group_by) to group the data by state."
   ]
  },
  {
   "cell_type": "code",
   "execution_count": 29,
   "metadata": {
    "collapsed": true
   },
   "outputs": [],
   "source": [
    "by_state = clean_state_data.group_by('state')"
   ]
  },
  {
   "cell_type": "markdown",
   "metadata": {},
   "source": [
    "This takes our original [`Table`](http://agate.readthedocs.io/en/1.5.0/api/table.html#agate.Table) and groups it into a [`TableSet`](http://agate.readthedocs.io/en/1.5.0/api/tableset.html#agate.TableSet), which contains one table per state. As mentioned much earlier in this tutorial, TableSets are instances of [`MappedSequence`](http://agate.readthedocs.io/en/1.5.0/api/columns_and_rows.html#agate.MappedSequence). That means they work very much like [`Column`](http://agate.readthedocs.io/en/1.5.0/api/columns_and_rows.html#agate.Column) and [`Row`](http://agate.readthedocs.io/en/1.5.0/api/columns_and_rows.html#agate.Row).\n",
    "\n",
    "Now we need to aggregate the total for each state. This works in a very similar way to how it did when we were aggregating columns of a single table, except that we'll use the [`Count`](http://agate.readthedocs.io/en/1.5.0/api/aggregations.html#agate.Count) aggregation to count the total number of rows in each group."
   ]
  },
  {
   "cell_type": "code",
   "execution_count": 30,
   "metadata": {
    "collapsed": false
   },
   "outputs": [
    {
     "name": "stdout",
     "output_type": "stream",
     "text": [
      "| state | count |\n",
      "| ----- | ----- |\n",
      "| TX    |   217 |\n",
      "| NY    |   209 |\n",
      "| CA    |   164 |\n",
      "| IL    |   158 |\n",
      "| MI    |    63 |\n",
      "| ...   |   ... |\n"
     ]
    }
   ],
   "source": [
    "state_totals = by_state.aggregate([\n",
    "    ('count', agate.Count())\n",
    "])\n",
    "\n",
    "sorted_totals = state_totals.order_by('count', reverse=True)\n",
    "\n",
    "sorted_totals.print_table(max_rows=5)"
   ]
  },
  {
   "cell_type": "markdown",
   "metadata": {},
   "source": [
    "You'll notice we pass a sequence of tuples to [`TableSet.aggregate`](http://agate.readthedocs.io/en/1.5.0/api/tableset.html#agate.TableSet.aggregate). Each one includes two elements. The first is the new column name being created. The second is an instance of some [`Aggregation`](http://agate.readthedocs.io/en/1.5.0/api/aggregations.html#agate.Aggregation). Unsurpringly, in this case the results appear to be roughly proportional to population.\n",
    "\n",
    "**Question:** What state has the longest median time in prison prior to exoneration?\n",
    "\n",
    "This is a much more complicated question that's going to pull together a lot of the features we've been using. We'll repeat the computations we applied before, but this time we're going to roll those computations up in state-by-state groups and then take the [`Median`](http://agate.readthedocs.io/en/1.5.0/api/aggregations.html#agate.Median of each group. Then we'll sort the data and see where people have been stuck in prison the longest."
   ]
  },
  {
   "cell_type": "code",
   "execution_count": 31,
   "metadata": {
    "collapsed": false
   },
   "outputs": [
    {
     "name": "stdout",
     "output_type": "stream",
     "text": [
      "| state | count | median_years_in_p... |\n",
      "| ----- | ----- | -------------------- |\n",
      "| DC    |    15 |                   27 |\n",
      "| NE    |     9 |                   20 |\n",
      "| ID    |     2 |                   19 |\n",
      "| VT    |     1 |                   18 |\n",
      "| LA    |    45 |                   16 |\n",
      "| ...   |   ... |                  ... |\n"
     ]
    }
   ],
   "source": [
    "with_years_in_prison = exonerations.compute([\n",
    "    ('years_in_prison', agate.Change('convicted', 'exonerated'))\n",
    "])\n",
    "\n",
    "state_totals = with_years_in_prison.group_by('state')\n",
    "\n",
    "medians = state_totals.aggregate([\n",
    "    ('count', agate.Count()),\n",
    "    ('median_years_in_prison', agate.Median('years_in_prison'))\n",
    "])\n",
    "\n",
    "sorted_medians = medians.order_by('median_years_in_prison', reverse=True)\n",
    "\n",
    "sorted_medians.print_table(max_rows=5)"
   ]
  },
  {
   "cell_type": "markdown",
   "metadata": {
    "collapsed": true
   },
   "source": [
    "DC? Nebraska? What accounts for these states having the longest times in prison before exoneration? I have no idea! Given that the group sizes are small, it would probably be wise to look for outliers.\n",
    "\n",
    "As with [`Table.aggregate`]()http://agate.readthedocs.io/en/1.5.0/api/table.html#agate.Table.aggregate and [`Table.compute`](http://agate.readthedocs.io/en/1.5.0/api/table.html#agate.Table.compute), the [`TableSet.aggregate`](http://agate.readthedocs.io/en/1.5.0/api/tableset.html#agate.TableSet.aggregate) method takes a list of aggregations to perform. You can aggregate as many columns as you like in a single step and they will all appear in the output table."
   ]
  },
  {
   "cell_type": "markdown",
   "metadata": {},
   "source": [
    "Multi-dimensional aggregation\n",
    "=============================\n",
    "\n",
    "I've already shown you that you can use [`TableSet`](http://agate.readthedocs.io/en/1.5.0/api/tableset.html#agate.TableSet) to group instances of [`Table`](http://agate.readthedocs.io/en/1.5.0/api/table.html#agate.Table). However, you can also use a [`TableSet`](http://agate.readthedocs.io/en/1.5.0/api/tableset.html#agate.TableSet) to group *other TableSets*. To put that another way, instances of [`TableSet`](http://agate.readthedocs.io/en/1.5.0/api/tableset.html#agate.TableSet) can be *nested*.\n",
    "\n",
    "The key to nesting data in this way is to use [`TableSet.group_by`](http://agate.readthedocs.io/en/1.5.0/api/tableset.html#agate.TableSet.group_by). This is one of many methods that can be called on a TableSet, which will then be applied to all the tables it contains. In the last section we used [`Table.group_by`](http://agate.readthedocs.io/en/1.5.0/api/table.html#agate.Table.group_by) to split data up into a group of tables. By calling [`TableSet.group_by`](http://agate.readthedocs.io/en/1.5.0/api/tableset.html#agate.TableSet.group_by), which essentially called ``group_by`` on each table and collect the results. This can be pretty hard to wrap your head around, so let's look at a concrete example.\n",
    "\n",
    "**Question:** Is there a collective relationship between race, age and time spent in prison prior to exoneration?\n",
    "\n",
    "I'm not going to explain every stage of this analysis as most of it repeats patterns used previously. The key part to look for is the two separate uses of ``group_by``:"
   ]
  },
  {
   "cell_type": "code",
   "execution_count": 32,
   "metadata": {
    "collapsed": false
   },
   "outputs": [
    {
     "name": "stdout",
     "output_type": "stream",
     "text": [
      "| race            | age_group | count | median_years_in_p... |\n",
      "| --------------- | --------- | ----- | -------------------- |\n",
      "| Native American | 20s       |     2 |                 21.5 |\n",
      "|                 | 20s       |     1 |                 19.0 |\n",
      "| Native American | 10s       |     2 |                 15.0 |\n",
      "| Native American | 30s       |     2 |                 14.5 |\n",
      "| Black           | 10s       |   188 |                 14.0 |\n",
      "| Black           | 20s       |   358 |                 13.0 |\n",
      "| Asian           | 20s       |     4 |                 12.0 |\n",
      "| Black           | 30s       |   156 |                 10.0 |\n",
      "| Caucasian       | 10s       |    76 |                  8.0 |\n",
      "| Caucasian       | 20s       |   255 |                  8.0 |\n",
      "| ...             | ...       |   ... |                  ... |\n"
     ]
    }
   ],
   "source": [
    "# Filters rows without age data\n",
    "only_with_age = with_years_in_prison.where(\n",
    "    lambda r: r['age'] is not None\n",
    ")\n",
    "\n",
    "# Group by race\n",
    "race_groups = only_with_age.group_by('race')\n",
    "\n",
    "# Sub-group by age cohorts (20s, 30s, etc.)\n",
    "race_and_age_groups = race_groups.group_by(\n",
    "    lambda r: '%i0s' % (r['age'] // 10),\n",
    "    key_name='age_group'\n",
    ")\n",
    "\n",
    "# Aggregate medians for each group\n",
    "medians = race_and_age_groups.aggregate([\n",
    "    ('count', agate.Count()),\n",
    "    ('median_years_in_prison', agate.Median('years_in_prison'))\n",
    "])\n",
    "\n",
    "# Sort the results\n",
    "sorted_groups = medians.order_by('median_years_in_prison', reverse=True)\n",
    "\n",
    "# Print out the results\n",
    "sorted_groups.print_table(max_rows=10)"
   ]
  },
  {
   "cell_type": "markdown",
   "metadata": {},
   "source": [
    "## Exploratory charting\n",
    "\n",
    "Beginning with version 1.5.0, agate includes the pure-Python SVG charting library [leather](http://leather.readthedocs.io/en/latest/). Leather allows you to generate \"good enough\" charts with as little as one line of code. It's especially useful if you're working in a Jupyter Notebook, as the results will render inline.\n",
    "\n",
    "There are currently four chart types support: [`Table.bar_chart`](http://agate.readthedocs.io/en/1.5.0/api/table.html#agate.Table.bar_chart), [`Table.column_chart`](http://agate.readthedocs.io/en/1.5.0/api/table.html#agate.Table.column_chart), [`Table.line_chart`](http://agate.readthedocs.io/en/1.5.0/api/table.html#agate.Table.line_chart), and [`Table.scatterplot`](http://agate.readthedocs.io/en/1.5.0/api/table.html#agate.Table.scatterplot).\n",
    "\n",
    "To better illustrate the possiblities of the charting we're going to switch to a different dataset: a subset of the United States Defense Logistic Agency Law Enforcement Support Office’s (LESO) 1033 Program dataset, which describes how surplus military arms have been distributed to local police forces. This is the same data used in the [csvkit tutorial](http://csvkit.readthedocs.io/en/0.9.1/tutorial/1_getting_started.html).\n",
    "\n",
    "The slice of data we'll be using is all items distributed to police in Kansas."
   ]
  },
  {
   "cell_type": "code",
   "execution_count": 59,
   "metadata": {
    "collapsed": false
   },
   "outputs": [
    {
     "name": "stdout",
     "output_type": "stream",
     "text": [
      "| column                       | data_type |\n",
      "| ---------------------------- | --------- |\n",
      "| state                        | Text      |\n",
      "| county                       | Text      |\n",
      "| fips                         | Number    |\n",
      "| nsn                          | Text      |\n",
      "| item_name                    | Text      |\n",
      "| quantity                     | Number    |\n",
      "| ui                           | Text      |\n",
      "| acquisition_cost             | Number    |\n",
      "| total_cost                   | Number    |\n",
      "| ship_date                    | DateTime  |\n",
      "| federal_supply_category      | Number    |\n",
      "| federal_supply_category_name | Text      |\n",
      "| federal_supply_class         | Number    |\n",
      "| federal_supply_class_name    | Text      |\n",
      "\n"
     ]
    }
   ],
   "source": [
    "leso = agate.Table.from_csv('examples/realdata/ks_1033_data.csv')\n",
    "\n",
    "print(leso)"
   ]
  },
  {
   "cell_type": "markdown",
   "metadata": {},
   "source": [
    "Now let's make a simple bar chart showing the counties that received most money."
   ]
  },
  {
   "cell_type": "code",
   "execution_count": 63,
   "metadata": {
    "collapsed": false
   },
   "outputs": [
    {
     "data": {
      "image/svg+xml": [
       "<svg height=\"1200\" version=\"1.1\" width=\"800\" xmlns=\"http://www.w3.org/2000/svg\"><g><rect fill=\"#f9f9f9\" height=\"1200\" width=\"800\" x=\"0\" y=\"0\"/><g transform=\"translate(40 40)\"><g transform=\"translate(134 0)\"/><g transform=\"translate(0 0)\"><g transform=\"translate(134 0)\"><g class=\"axis bottom\"><text dy=\"1em\" fill=\"#666\" font-family=\"Monaco\" text-anchor=\"middle\" transform=\"\" x=\"293.0\" y=\"1106.0\">total_cost_sum</text><g class=\"tick\"><line stroke=\"#eee\" stroke-width=\"1\" x1=\"146.50\" x2=\"146.50\" y1=\"0\" y2=\"1072.0\"/><text dy=\"1em\" fill=\"#9c9c9c\" font-family=\"Monaco\" text-anchor=\"middle\" x=\"146.50\" y=\"1076.0\">250000</text></g><g class=\"tick\"><line stroke=\"#eee\" stroke-width=\"1\" x1=\"293.0\" x2=\"293.0\" y1=\"0\" y2=\"1072.0\"/><text dy=\"1em\" fill=\"#9c9c9c\" font-family=\"Monaco\" text-anchor=\"middle\" x=\"293.0\" y=\"1076.0\">500000</text></g><g class=\"tick\"><line stroke=\"#eee\" stroke-width=\"1\" x1=\"439.50\" x2=\"439.50\" y1=\"0\" y2=\"1072.0\"/><text dy=\"1em\" fill=\"#9c9c9c\" font-family=\"Monaco\" text-anchor=\"middle\" x=\"439.50\" y=\"1076.0\">750000</text></g><g class=\"tick\"><line stroke=\"#eee\" stroke-width=\"1\" x1=\"586\" x2=\"586\" y1=\"0\" y2=\"1072.0\"/><text dy=\"1em\" fill=\"#9c9c9c\" font-family=\"Monaco\" text-anchor=\"middle\" x=\"586\" y=\"1076.0\">1000000</text></g><g class=\"tick\"><line stroke=\"#a8a8a8\" stroke-width=\"1\" x1=\"0\" x2=\"0\" y1=\"0\" y2=\"1072.0\"/><text dy=\"1em\" fill=\"#9c9c9c\" font-family=\"Monaco\" text-anchor=\"middle\" x=\"0\" y=\"1076.0\">0</text></g></g><g class=\"axis left\"><text dy=\"\" fill=\"#666\" font-family=\"Monaco\" text-anchor=\"middle\" transform=\"rotate(270 -112 534)\" x=\"-112\" y=\"534.0\">county</text><g class=\"tick\"><line stroke=\"#eee\" stroke-width=\"1\" x1=\"-4\" x2=\"586.0\" y1=\"1060.684931506849315068493151\" y2=\"1060.684931506849315068493151\"/><text dy=\"0.32em\" fill=\"#9c9c9c\" font-family=\"Monaco\" text-anchor=\"end\" x=\"-8\" y=\"1060.684931506849315068493151\">COMANCHE</text></g><g class=\"tick\"><line stroke=\"#eee\" stroke-width=\"1\" x1=\"-4\" x2=\"586.0\" y1=\"1046.054794520547945205479452\" y2=\"1046.054794520547945205479452\"/><text dy=\"0.32em\" fill=\"#9c9c9c\" font-family=\"Monaco\" text-anchor=\"end\" x=\"-8\" y=\"1046.054794520547945205479452\">SUMNER</text></g><g class=\"tick\"><line stroke=\"#eee\" stroke-width=\"1\" x1=\"-4\" x2=\"586.0\" y1=\"1031.424657534246575342465754\" y2=\"1031.424657534246575342465754\"/><text dy=\"0.32em\" fill=\"#9c9c9c\" font-family=\"Monaco\" text-anchor=\"end\" x=\"-8\" y=\"1031.424657534246575342465754\">DECATUR</text></g><g class=\"tick\"><line stroke=\"#eee\" stroke-width=\"1\" x1=\"-4\" x2=\"586.0\" y1=\"1016.794520547945205479452055\" y2=\"1016.794520547945205479452055\"/><text dy=\"0.32em\" fill=\"#9c9c9c\" font-family=\"Monaco\" text-anchor=\"end\" x=\"-8\" y=\"1016.794520547945205479452055\">WICHITA</text></g><g class=\"tick\"><line stroke=\"#eee\" stroke-width=\"1\" x1=\"-4\" x2=\"586.0\" y1=\"1002.164383561643835616438356\" y2=\"1002.164383561643835616438356\"/><text dy=\"0.32em\" fill=\"#9c9c9c\" font-family=\"Monaco\" text-anchor=\"end\" x=\"-8\" y=\"1002.164383561643835616438356\">LOGAN</text></g><g class=\"tick\"><line stroke=\"#eee\" stroke-width=\"1\" x1=\"-4\" x2=\"586.0\" y1=\"987.5342465753424657534246575\" y2=\"987.5342465753424657534246575\"/><text dy=\"0.32em\" fill=\"#9c9c9c\" font-family=\"Monaco\" text-anchor=\"end\" x=\"-8\" y=\"987.5342465753424657534246575\">LABETTE</text></g><g class=\"tick\"><line stroke=\"#eee\" stroke-width=\"1\" x1=\"-4\" x2=\"586.0\" y1=\"972.9041095890410958904109589\" y2=\"972.9041095890410958904109589\"/><text dy=\"0.32em\" fill=\"#9c9c9c\" font-family=\"Monaco\" text-anchor=\"end\" x=\"-8\" y=\"972.9041095890410958904109589\">ANDERSON</text></g><g class=\"tick\"><line stroke=\"#eee\" stroke-width=\"1\" x1=\"-4\" x2=\"586.0\" y1=\"958.2739726027397260273972603\" y2=\"958.2739726027397260273972603\"/><text dy=\"0.32em\" fill=\"#9c9c9c\" font-family=\"Monaco\" text-anchor=\"end\" x=\"-8\" y=\"958.2739726027397260273972603\">OSAGE</text></g><g class=\"tick\"><line stroke=\"#eee\" stroke-width=\"1\" x1=\"-4\" x2=\"586.0\" y1=\"943.6438356164383561643835617\" y2=\"943.6438356164383561643835617\"/><text dy=\"0.32em\" fill=\"#9c9c9c\" font-family=\"Monaco\" text-anchor=\"end\" x=\"-8\" y=\"943.6438356164383561643835617\">GRAHAM</text></g><g class=\"tick\"><line stroke=\"#eee\" stroke-width=\"1\" x1=\"-4\" x2=\"586.0\" y1=\"929.0136986301369863013698630\" y2=\"929.0136986301369863013698630\"/><text dy=\"0.32em\" fill=\"#9c9c9c\" font-family=\"Monaco\" text-anchor=\"end\" x=\"-8\" y=\"929.0136986301369863013698630\">HASKELL</text></g><g class=\"tick\"><line stroke=\"#eee\" stroke-width=\"1\" x1=\"-4\" x2=\"586.0\" y1=\"914.3835616438356164383561644\" y2=\"914.3835616438356164383561644\"/><text dy=\"0.32em\" fill=\"#9c9c9c\" font-family=\"Monaco\" text-anchor=\"end\" x=\"-8\" y=\"914.3835616438356164383561644\">NORTON</text></g><g class=\"tick\"><line stroke=\"#eee\" stroke-width=\"1\" x1=\"-4\" x2=\"586.0\" y1=\"899.7534246575342465753424658\" y2=\"899.7534246575342465753424658\"/><text dy=\"0.32em\" fill=\"#9c9c9c\" font-family=\"Monaco\" text-anchor=\"end\" x=\"-8\" y=\"899.7534246575342465753424658\">MARSHALL</text></g><g class=\"tick\"><line stroke=\"#eee\" stroke-width=\"1\" x1=\"-4\" x2=\"586.0\" y1=\"885.1232876712328767123287671\" y2=\"885.1232876712328767123287671\"/><text dy=\"0.32em\" fill=\"#9c9c9c\" font-family=\"Monaco\" text-anchor=\"end\" x=\"-8\" y=\"885.1232876712328767123287671\">JACKSON</text></g><g class=\"tick\"><line stroke=\"#eee\" stroke-width=\"1\" x1=\"-4\" x2=\"586.0\" y1=\"870.4931506849315068493150685\" y2=\"870.4931506849315068493150685\"/><text dy=\"0.32em\" fill=\"#9c9c9c\" font-family=\"Monaco\" text-anchor=\"end\" x=\"-8\" y=\"870.4931506849315068493150685\">RAWLINS</text></g><g class=\"tick\"><line stroke=\"#eee\" stroke-width=\"1\" x1=\"-4\" x2=\"586.0\" y1=\"855.8630136986301369863013699\" y2=\"855.8630136986301369863013699\"/><text dy=\"0.32em\" fill=\"#9c9c9c\" font-family=\"Monaco\" text-anchor=\"end\" x=\"-8\" y=\"855.8630136986301369863013699\">STAFFORD</text></g><g class=\"tick\"><line stroke=\"#eee\" stroke-width=\"1\" x1=\"-4\" x2=\"586.0\" y1=\"841.2328767123287671232876713\" y2=\"841.2328767123287671232876713\"/><text dy=\"0.32em\" fill=\"#9c9c9c\" font-family=\"Monaco\" text-anchor=\"end\" x=\"-8\" y=\"841.2328767123287671232876713\">GREELEY</text></g><g class=\"tick\"><line stroke=\"#eee\" stroke-width=\"1\" x1=\"-4\" x2=\"586.0\" y1=\"826.6027397260273972602739726\" y2=\"826.6027397260273972602739726\"/><text dy=\"0.32em\" fill=\"#9c9c9c\" font-family=\"Monaco\" text-anchor=\"end\" x=\"-8\" y=\"826.6027397260273972602739726\">SCOTT</text></g><g class=\"tick\"><line stroke=\"#eee\" stroke-width=\"1\" x1=\"-4\" x2=\"586.0\" y1=\"811.9726027397260273972602740\" y2=\"811.9726027397260273972602740\"/><text dy=\"0.32em\" fill=\"#9c9c9c\" font-family=\"Monaco\" text-anchor=\"end\" x=\"-8\" y=\"811.9726027397260273972602740\">OTTAWA</text></g><g class=\"tick\"><line stroke=\"#eee\" stroke-width=\"1\" x1=\"-4\" x2=\"586.0\" y1=\"797.3424657534246575342465754\" y2=\"797.3424657534246575342465754\"/><text dy=\"0.32em\" fill=\"#9c9c9c\" font-family=\"Monaco\" text-anchor=\"end\" x=\"-8\" y=\"797.3424657534246575342465754\">ELLSWORTH</text></g><g class=\"tick\"><line stroke=\"#eee\" stroke-width=\"1\" x1=\"-4\" x2=\"586.0\" y1=\"782.7123287671232876712328767\" y2=\"782.7123287671232876712328767\"/><text dy=\"0.32em\" fill=\"#9c9c9c\" font-family=\"Monaco\" text-anchor=\"end\" x=\"-8\" y=\"782.7123287671232876712328767\">NEMAHA</text></g><g class=\"tick\"><line stroke=\"#eee\" stroke-width=\"1\" x1=\"-4\" x2=\"586.0\" y1=\"768.0821917808219178082191781\" y2=\"768.0821917808219178082191781\"/><text dy=\"0.32em\" fill=\"#9c9c9c\" font-family=\"Monaco\" text-anchor=\"end\" x=\"-8\" y=\"768.0821917808219178082191781\">JEFFERSON</text></g><g class=\"tick\"><line stroke=\"#eee\" stroke-width=\"1\" x1=\"-4\" x2=\"586.0\" y1=\"753.4520547945205479452054795\" y2=\"753.4520547945205479452054795\"/><text dy=\"0.32em\" fill=\"#9c9c9c\" font-family=\"Monaco\" text-anchor=\"end\" x=\"-8\" y=\"753.4520547945205479452054795\">MCPHERSON</text></g><g class=\"tick\"><line stroke=\"#eee\" stroke-width=\"1\" x1=\"-4\" x2=\"586.0\" y1=\"738.8219178082191780821917808\" y2=\"738.8219178082191780821917808\"/><text dy=\"0.32em\" fill=\"#9c9c9c\" font-family=\"Monaco\" text-anchor=\"end\" x=\"-8\" y=\"738.8219178082191780821917808\">NEOSHO</text></g><g class=\"tick\"><line stroke=\"#eee\" stroke-width=\"1\" x1=\"-4\" x2=\"586.0\" y1=\"724.1917808219178082191780822\" y2=\"724.1917808219178082191780822\"/><text dy=\"0.32em\" fill=\"#9c9c9c\" font-family=\"Monaco\" text-anchor=\"end\" x=\"-8\" y=\"724.1917808219178082191780822\">CHEROKEE</text></g><g class=\"tick\"><line stroke=\"#eee\" stroke-width=\"1\" x1=\"-4\" x2=\"586.0\" y1=\"709.5616438356164383561643836\" y2=\"709.5616438356164383561643836\"/><text dy=\"0.32em\" fill=\"#9c9c9c\" font-family=\"Monaco\" text-anchor=\"end\" x=\"-8\" y=\"709.5616438356164383561643836\">MEADE</text></g><g class=\"tick\"><line stroke=\"#eee\" stroke-width=\"1\" x1=\"-4\" x2=\"586.0\" y1=\"694.9315068493150684931506849\" y2=\"694.9315068493150684931506849\"/><text dy=\"0.32em\" fill=\"#9c9c9c\" font-family=\"Monaco\" text-anchor=\"end\" x=\"-8\" y=\"694.9315068493150684931506849\">CLAY</text></g><g class=\"tick\"><line stroke=\"#eee\" stroke-width=\"1\" x1=\"-4\" x2=\"586.0\" y1=\"680.3013698630136986301369863\" y2=\"680.3013698630136986301369863\"/><text dy=\"0.32em\" fill=\"#9c9c9c\" font-family=\"Monaco\" text-anchor=\"end\" x=\"-8\" y=\"680.3013698630136986301369863\">SMITH</text></g><g class=\"tick\"><line stroke=\"#eee\" stroke-width=\"1\" x1=\"-4\" x2=\"586.0\" y1=\"665.6712328767123287671232877\" y2=\"665.6712328767123287671232877\"/><text dy=\"0.32em\" fill=\"#9c9c9c\" font-family=\"Monaco\" text-anchor=\"end\" x=\"-8\" y=\"665.6712328767123287671232877\">CHAUTAUQUA</text></g><g class=\"tick\"><line stroke=\"#eee\" stroke-width=\"1\" x1=\"-4\" x2=\"586.0\" y1=\"651.0410958904109589041095891\" y2=\"651.0410958904109589041095891\"/><text dy=\"0.32em\" fill=\"#9c9c9c\" font-family=\"Monaco\" text-anchor=\"end\" x=\"-8\" y=\"651.0410958904109589041095891\">DICKINSON</text></g><g class=\"tick\"><line stroke=\"#eee\" stroke-width=\"1\" x1=\"-4\" x2=\"586.0\" y1=\"636.4109589041095890410958904\" y2=\"636.4109589041095890410958904\"/><text dy=\"0.32em\" fill=\"#9c9c9c\" font-family=\"Monaco\" text-anchor=\"end\" x=\"-8\" y=\"636.4109589041095890410958904\">BOURBON</text></g><g class=\"tick\"><line stroke=\"#eee\" stroke-width=\"1\" x1=\"-4\" x2=\"586.0\" y1=\"621.7808219178082191780821918\" y2=\"621.7808219178082191780821918\"/><text dy=\"0.32em\" fill=\"#9c9c9c\" font-family=\"Monaco\" text-anchor=\"end\" x=\"-8\" y=\"621.7808219178082191780821918\">ROOKS</text></g><g class=\"tick\"><line stroke=\"#eee\" stroke-width=\"1\" x1=\"-4\" x2=\"586.0\" y1=\"607.1506849315068493150684932\" y2=\"607.1506849315068493150684932\"/><text dy=\"0.32em\" fill=\"#9c9c9c\" font-family=\"Monaco\" text-anchor=\"end\" x=\"-8\" y=\"607.1506849315068493150684932\">ALLEN</text></g><g class=\"tick\"><line stroke=\"#eee\" stroke-width=\"1\" x1=\"-4\" x2=\"586.0\" y1=\"592.5205479452054794520547945\" y2=\"592.5205479452054794520547945\"/><text dy=\"0.32em\" fill=\"#9c9c9c\" font-family=\"Monaco\" text-anchor=\"end\" x=\"-8\" y=\"592.5205479452054794520547945\">MARION</text></g><g class=\"tick\"><line stroke=\"#eee\" stroke-width=\"1\" x1=\"-4\" x2=\"586.0\" y1=\"577.8904109589041095890410959\" y2=\"577.8904109589041095890410959\"/><text dy=\"0.32em\" fill=\"#9c9c9c\" font-family=\"Monaco\" text-anchor=\"end\" x=\"-8\" y=\"577.8904109589041095890410959\">THOMAS</text></g><g class=\"tick\"><line stroke=\"#eee\" stroke-width=\"1\" x1=\"-4\" x2=\"586.0\" y1=\"563.2602739726027397260273973\" y2=\"563.2602739726027397260273973\"/><text dy=\"0.32em\" fill=\"#9c9c9c\" font-family=\"Monaco\" text-anchor=\"end\" x=\"-8\" y=\"563.2602739726027397260273973\">LINN</text></g><g class=\"tick\"><line stroke=\"#eee\" stroke-width=\"1\" x1=\"-4\" x2=\"586.0\" y1=\"548.6301369863013698630136987\" y2=\"548.6301369863013698630136987\"/><text dy=\"0.32em\" fill=\"#9c9c9c\" font-family=\"Monaco\" text-anchor=\"end\" x=\"-8\" y=\"548.6301369863013698630136987\">WOODSON</text></g><g class=\"tick\"><line stroke=\"#eee\" stroke-width=\"1\" x1=\"-4\" x2=\"586.0\" y1=\"534.0000000000000000000000000\" y2=\"534.0000000000000000000000000\"/><text dy=\"0.32em\" fill=\"#9c9c9c\" font-family=\"Monaco\" text-anchor=\"end\" x=\"-8\" y=\"534.0000000000000000000000000\">POTTAWATOMIE</text></g><g class=\"tick\"><line stroke=\"#eee\" stroke-width=\"1\" x1=\"-4\" x2=\"586.0\" y1=\"519.3698630136986301369863014\" y2=\"519.3698630136986301369863014\"/><text dy=\"0.32em\" fill=\"#9c9c9c\" font-family=\"Monaco\" text-anchor=\"end\" x=\"-8\" y=\"519.3698630136986301369863014\">RILEY</text></g><g class=\"tick\"><line stroke=\"#eee\" stroke-width=\"1\" x1=\"-4\" x2=\"586.0\" y1=\"504.7397260273972602739726028\" y2=\"504.7397260273972602739726028\"/><text dy=\"0.32em\" fill=\"#9c9c9c\" font-family=\"Monaco\" text-anchor=\"end\" x=\"-8\" y=\"504.7397260273972602739726028\">BUTLER</text></g><g class=\"tick\"><line stroke=\"#eee\" stroke-width=\"1\" x1=\"-4\" x2=\"586.0\" y1=\"490.1095890410958904109589041\" y2=\"490.1095890410958904109589041\"/><text dy=\"0.32em\" fill=\"#9c9c9c\" font-family=\"Monaco\" text-anchor=\"end\" x=\"-8\" y=\"490.1095890410958904109589041\">ELLIS</text></g><g class=\"tick\"><line stroke=\"#eee\" stroke-width=\"1\" x1=\"-4\" x2=\"586.0\" y1=\"475.4794520547945205479452055\" y2=\"475.4794520547945205479452055\"/><text dy=\"0.32em\" fill=\"#9c9c9c\" font-family=\"Monaco\" text-anchor=\"end\" x=\"-8\" y=\"475.4794520547945205479452055\">RICE</text></g><g class=\"tick\"><line stroke=\"#eee\" stroke-width=\"1\" x1=\"-4\" x2=\"586.0\" y1=\"460.8493150684931506849315069\" y2=\"460.8493150684931506849315069\"/><text dy=\"0.32em\" fill=\"#9c9c9c\" font-family=\"Monaco\" text-anchor=\"end\" x=\"-8\" y=\"460.8493150684931506849315069\">RENO</text></g><g class=\"tick\"><line stroke=\"#eee\" stroke-width=\"1\" x1=\"-4\" x2=\"586.0\" y1=\"446.2191780821917808219178082\" y2=\"446.2191780821917808219178082\"/><text dy=\"0.32em\" fill=\"#9c9c9c\" font-family=\"Monaco\" text-anchor=\"end\" x=\"-8\" y=\"446.2191780821917808219178082\">LEAVENWORTH</text></g><g class=\"tick\"><line stroke=\"#eee\" stroke-width=\"1\" x1=\"-4\" x2=\"586.0\" y1=\"431.5890410958904109589041096\" y2=\"431.5890410958904109589041096\"/><text dy=\"0.32em\" fill=\"#9c9c9c\" font-family=\"Monaco\" text-anchor=\"end\" x=\"-8\" y=\"431.5890410958904109589041096\">BARTON</text></g><g class=\"tick\"><line stroke=\"#eee\" stroke-width=\"1\" x1=\"-4\" x2=\"586.0\" y1=\"416.9589041095890410958904110\" y2=\"416.9589041095890410958904110\"/><text dy=\"0.32em\" fill=\"#9c9c9c\" font-family=\"Monaco\" text-anchor=\"end\" x=\"-8\" y=\"416.9589041095890410958904110\">COWLEY</text></g><g class=\"tick\"><line stroke=\"#eee\" stroke-width=\"1\" x1=\"-4\" x2=\"586.0\" y1=\"402.3287671232876712328767123\" y2=\"402.3287671232876712328767123\"/><text dy=\"0.32em\" fill=\"#9c9c9c\" font-family=\"Monaco\" text-anchor=\"end\" x=\"-8\" y=\"402.3287671232876712328767123\">GEARY</text></g><g class=\"tick\"><line stroke=\"#eee\" stroke-width=\"1\" x1=\"-4\" x2=\"586.0\" y1=\"387.6986301369863013698630137\" y2=\"387.6986301369863013698630137\"/><text dy=\"0.32em\" fill=\"#9c9c9c\" font-family=\"Monaco\" text-anchor=\"end\" x=\"-8\" y=\"387.6986301369863013698630137\">CRAWFORD</text></g><g class=\"tick\"><line stroke=\"#eee\" stroke-width=\"1\" x1=\"-4\" x2=\"586.0\" y1=\"373.0684931506849315068493151\" y2=\"373.0684931506849315068493151\"/><text dy=\"0.32em\" fill=\"#9c9c9c\" font-family=\"Monaco\" text-anchor=\"end\" x=\"-8\" y=\"373.0684931506849315068493151\">SHAWNEE</text></g><g class=\"tick\"><line stroke=\"#eee\" stroke-width=\"1\" x1=\"-4\" x2=\"586.0\" y1=\"358.4383561643835616438356165\" y2=\"358.4383561643835616438356165\"/><text dy=\"0.32em\" fill=\"#9c9c9c\" font-family=\"Monaco\" text-anchor=\"end\" x=\"-8\" y=\"358.4383561643835616438356165\">SHERMAN</text></g><g class=\"tick\"><line stroke=\"#eee\" stroke-width=\"1\" x1=\"-4\" x2=\"586.0\" y1=\"343.8082191780821917808219178\" y2=\"343.8082191780821917808219178\"/><text dy=\"0.32em\" fill=\"#9c9c9c\" font-family=\"Monaco\" text-anchor=\"end\" x=\"-8\" y=\"343.8082191780821917808219178\">PAWNEE</text></g><g class=\"tick\"><line stroke=\"#eee\" stroke-width=\"1\" x1=\"-4\" x2=\"586.0\" y1=\"329.1780821917808219178082192\" y2=\"329.1780821917808219178082192\"/><text dy=\"0.32em\" fill=\"#9c9c9c\" font-family=\"Monaco\" text-anchor=\"end\" x=\"-8\" y=\"329.1780821917808219178082192\">GRAY</text></g><g class=\"tick\"><line stroke=\"#eee\" stroke-width=\"1\" x1=\"-4\" x2=\"586.0\" y1=\"314.5479452054794520547945206\" y2=\"314.5479452054794520547945206\"/><text dy=\"0.32em\" fill=\"#9c9c9c\" font-family=\"Monaco\" text-anchor=\"end\" x=\"-8\" y=\"314.5479452054794520547945206\">GRANT</text></g><g class=\"tick\"><line stroke=\"#eee\" stroke-width=\"1\" x1=\"-4\" x2=\"586.0\" y1=\"299.9178082191780821917808219\" y2=\"299.9178082191780821917808219\"/><text dy=\"0.32em\" fill=\"#9c9c9c\" font-family=\"Monaco\" text-anchor=\"end\" x=\"-8\" y=\"299.9178082191780821917808219\">WABAUNSEE</text></g><g class=\"tick\"><line stroke=\"#eee\" stroke-width=\"1\" x1=\"-4\" x2=\"586.0\" y1=\"285.2876712328767123287671233\" y2=\"285.2876712328767123287671233\"/><text dy=\"0.32em\" fill=\"#9c9c9c\" font-family=\"Monaco\" text-anchor=\"end\" x=\"-8\" y=\"285.2876712328767123287671233\">HARVEY</text></g><g class=\"tick\"><line stroke=\"#eee\" stroke-width=\"1\" x1=\"-4\" x2=\"586.0\" y1=\"270.6575342465753424657534247\" y2=\"270.6575342465753424657534247\"/><text dy=\"0.32em\" fill=\"#9c9c9c\" font-family=\"Monaco\" text-anchor=\"end\" x=\"-8\" y=\"270.6575342465753424657534247\">FRANKLIN</text></g><g class=\"tick\"><line stroke=\"#eee\" stroke-width=\"1\" x1=\"-4\" x2=\"586.0\" y1=\"256.0273972602739726027397261\" y2=\"256.0273972602739726027397261\"/><text dy=\"0.32em\" fill=\"#9c9c9c\" font-family=\"Monaco\" text-anchor=\"end\" x=\"-8\" y=\"256.0273972602739726027397261\">PRATT</text></g><g class=\"tick\"><line stroke=\"#eee\" stroke-width=\"1\" x1=\"-4\" x2=\"586.0\" y1=\"241.3972602739726027397260274\" y2=\"241.3972602739726027397260274\"/><text dy=\"0.32em\" fill=\"#9c9c9c\" font-family=\"Monaco\" text-anchor=\"end\" x=\"-8\" y=\"241.3972602739726027397260274\">CHEYENNE</text></g><g class=\"tick\"><line stroke=\"#eee\" stroke-width=\"1\" x1=\"-4\" x2=\"586.0\" y1=\"226.7671232876712328767123288\" y2=\"226.7671232876712328767123288\"/><text dy=\"0.32em\" fill=\"#9c9c9c\" font-family=\"Monaco\" text-anchor=\"end\" x=\"-8\" y=\"226.7671232876712328767123288\">WYANDOTTE</text></g><g class=\"tick\"><line stroke=\"#eee\" stroke-width=\"1\" x1=\"-4\" x2=\"586.0\" y1=\"212.1369863013698630136986302\" y2=\"212.1369863013698630136986302\"/><text dy=\"0.32em\" fill=\"#9c9c9c\" font-family=\"Monaco\" text-anchor=\"end\" x=\"-8\" y=\"212.1369863013698630136986302\">HAMILTON</text></g><g class=\"tick\"><line stroke=\"#eee\" stroke-width=\"1\" x1=\"-4\" x2=\"586.0\" y1=\"197.5068493150684931506849315\" y2=\"197.5068493150684931506849315\"/><text dy=\"0.32em\" fill=\"#9c9c9c\" font-family=\"Monaco\" text-anchor=\"end\" x=\"-8\" y=\"197.5068493150684931506849315\">LYON</text></g><g class=\"tick\"><line stroke=\"#eee\" stroke-width=\"1\" x1=\"-4\" x2=\"586.0\" y1=\"182.8767123287671232876712329\" y2=\"182.8767123287671232876712329\"/><text dy=\"0.32em\" fill=\"#9c9c9c\" font-family=\"Monaco\" text-anchor=\"end\" x=\"-8\" y=\"182.8767123287671232876712329\">MIAMI</text></g><g class=\"tick\"><line stroke=\"#eee\" stroke-width=\"1\" x1=\"-4\" x2=\"586.0\" y1=\"168.2465753424657534246575343\" y2=\"168.2465753424657534246575343\"/><text dy=\"0.32em\" fill=\"#9c9c9c\" font-family=\"Monaco\" text-anchor=\"end\" x=\"-8\" y=\"168.2465753424657534246575343\">DOUGLAS</text></g><g class=\"tick\"><line stroke=\"#eee\" stroke-width=\"1\" x1=\"-4\" x2=\"586.0\" y1=\"153.6164383561643835616438356\" y2=\"153.6164383561643835616438356\"/><text dy=\"0.32em\" fill=\"#9c9c9c\" font-family=\"Monaco\" text-anchor=\"end\" x=\"-8\" y=\"153.6164383561643835616438356\">GREENWOOD</text></g><g class=\"tick\"><line stroke=\"#eee\" stroke-width=\"1\" x1=\"-4\" x2=\"586.0\" y1=\"138.9863013698630136986301370\" y2=\"138.9863013698630136986301370\"/><text dy=\"0.32em\" fill=\"#9c9c9c\" font-family=\"Monaco\" text-anchor=\"end\" x=\"-8\" y=\"138.9863013698630136986301370\">FORD</text></g><g class=\"tick\"><line stroke=\"#eee\" stroke-width=\"1\" x1=\"-4\" x2=\"586.0\" y1=\"124.3561643835616438356164384\" y2=\"124.3561643835616438356164384\"/><text dy=\"0.32em\" fill=\"#9c9c9c\" font-family=\"Monaco\" text-anchor=\"end\" x=\"-8\" y=\"124.3561643835616438356164384\">WILSON</text></g><g class=\"tick\"><line stroke=\"#eee\" stroke-width=\"1\" x1=\"-4\" x2=\"586.0\" y1=\"109.7260273972602739726027397\" y2=\"109.7260273972602739726027397\"/><text dy=\"0.32em\" fill=\"#9c9c9c\" font-family=\"Monaco\" text-anchor=\"end\" x=\"-8\" y=\"109.7260273972602739726027397\">KIOWA</text></g><g class=\"tick\"><line stroke=\"#eee\" stroke-width=\"1\" x1=\"-4\" x2=\"586.0\" y1=\"95.09589041095890410958904108\" y2=\"95.09589041095890410958904108\"/><text dy=\"0.32em\" fill=\"#9c9c9c\" font-family=\"Monaco\" text-anchor=\"end\" x=\"-8\" y=\"95.09589041095890410958904108\">BROWN</text></g><g class=\"tick\"><line stroke=\"#eee\" stroke-width=\"1\" x1=\"-4\" x2=\"586.0\" y1=\"80.46575342465753424657534248\" y2=\"80.46575342465753424657534248\"/><text dy=\"0.32em\" fill=\"#9c9c9c\" font-family=\"Monaco\" text-anchor=\"end\" x=\"-8\" y=\"80.46575342465753424657534248\">FINNEY</text></g><g class=\"tick\"><line stroke=\"#eee\" stroke-width=\"1\" x1=\"-4\" x2=\"586.0\" y1=\"65.83561643835616438356164388\" y2=\"65.83561643835616438356164388\"/><text dy=\"0.32em\" fill=\"#9c9c9c\" font-family=\"Monaco\" text-anchor=\"end\" x=\"-8\" y=\"65.83561643835616438356164388\">SALINE</text></g><g class=\"tick\"><line stroke=\"#eee\" stroke-width=\"1\" x1=\"-4\" x2=\"586.0\" y1=\"51.20547945205479452054794568\" y2=\"51.20547945205479452054794568\"/><text dy=\"0.32em\" fill=\"#9c9c9c\" font-family=\"Monaco\" text-anchor=\"end\" x=\"-8\" y=\"51.20547945205479452054794568\">JOHNSON</text></g><g class=\"tick\"><line stroke=\"#eee\" stroke-width=\"1\" x1=\"-4\" x2=\"586.0\" y1=\"36.57534246575342465753424668\" y2=\"36.57534246575342465753424668\"/><text dy=\"0.32em\" fill=\"#9c9c9c\" font-family=\"Monaco\" text-anchor=\"end\" x=\"-8\" y=\"36.57534246575342465753424668\">MONTGOMERY</text></g><g class=\"tick\"><line stroke=\"#eee\" stroke-width=\"1\" x1=\"-4\" x2=\"586.0\" y1=\"21.94520547945205479452054768\" y2=\"21.94520547945205479452054768\"/><text dy=\"0.32em\" fill=\"#9c9c9c\" font-family=\"Monaco\" text-anchor=\"end\" x=\"-8\" y=\"21.94520547945205479452054768\">COFFEY</text></g><g class=\"tick\"><line stroke=\"#eee\" stroke-width=\"1\" x1=\"-4\" x2=\"586.0\" y1=\"7.315068493150684931506849685\" y2=\"7.315068493150684931506849685\"/><text dy=\"0.32em\" fill=\"#9c9c9c\" font-family=\"Monaco\" text-anchor=\"end\" x=\"-8\" y=\"7.315068493150684931506849685\">SEDGWICK</text></g></g><g><g class=\"series bars\"><rect fill=\"#e41a1c\" height=\"13.167123287671232876712329\" width=\"0.080868\" x=\"0\" y=\"1054.101369863013698630136986\"/><rect fill=\"#e41a1c\" height=\"13.167123287671232876712328\" width=\"0.14064\" x=\"0\" y=\"1039.471232876712328767123288\"/><rect fill=\"#e41a1c\" height=\"13.167123287671232876712329\" width=\"0.151188\" x=\"0\" y=\"1024.841095890410958904109589\"/><rect fill=\"#e41a1c\" height=\"13.167123287671232876712329\" width=\"0.21848424\" x=\"0\" y=\"1010.210958904109589041095890\"/><rect fill=\"#e41a1c\" height=\"13.1671232876712328767123283\" width=\"0.242604\" x=\"0\" y=\"995.5808219178082191780821917\"/><rect fill=\"#e41a1c\" height=\"13.1671232876712328767123288\" width=\"0.28128\" x=\"0\" y=\"980.9506849315068493150684931\"/><rect fill=\"#e41a1c\" height=\"13.1671232876712328767123288\" width=\"0.35610048\" x=\"0\" y=\"966.3205479452054794520547945\"/><rect fill=\"#e41a1c\" height=\"13.1671232876712328767123288\" width=\"0.362734\" x=\"0\" y=\"951.6904109589041095890410959\"/><rect fill=\"#e41a1c\" height=\"13.1671232876712328767123289\" width=\"0.39562618\" x=\"0\" y=\"937.0602739726027397260273972\"/><rect fill=\"#e41a1c\" height=\"13.1671232876712328767123288\" width=\"0.40434\" x=\"0\" y=\"922.4301369863013698630136986\"/><rect fill=\"#e41a1c\" height=\"13.1671232876712328767123288\" width=\"0.42192\" x=\"0\" y=\"907.8000000000000000000000000\"/><rect fill=\"#e41a1c\" height=\"13.1671232876712328767123289\" width=\"0.48855406\" x=\"0\" y=\"893.1698630136986301369863013\"/><rect fill=\"#e41a1c\" height=\"13.1671232876712328767123288\" width=\"0.49224\" x=\"0\" y=\"878.5397260273972602739726027\"/><rect fill=\"#e41a1c\" height=\"13.1671232876712328767123288\" width=\"0.58063224\" x=\"0\" y=\"863.9095890410958904109589041\"/><rect fill=\"#e41a1c\" height=\"13.1671232876712328767123288\" width=\"0.584828\" x=\"0\" y=\"849.2794520547945205479452055\"/><rect fill=\"#e41a1c\" height=\"13.1671232876712328767123289\" width=\"0.584828\" x=\"0\" y=\"834.6493150684931506849315068\"/><rect fill=\"#e41a1c\" height=\"13.1671232876712328767123288\" width=\"0.714334\" x=\"0\" y=\"820.0191780821917808219178082\"/><rect fill=\"#e41a1c\" height=\"13.1671232876712328767123288\" width=\"0.94554030\" x=\"0\" y=\"805.3890410958904109589041096\"/><rect fill=\"#e41a1c\" height=\"13.1671232876712328767123289\" width=\"1.12512\" x=\"0\" y=\"790.7589041095890410958904109\"/><rect fill=\"#e41a1c\" height=\"13.1671232876712328767123288\" width=\"1.169656\" x=\"0\" y=\"776.1287671232876712328767123\"/><rect fill=\"#e41a1c\" height=\"13.1671232876712328767123288\" width=\"1.4064\" x=\"0\" y=\"761.4986301369863013698630137\"/><rect fill=\"#e41a1c\" height=\"13.1671232876712328767123289\" width=\"1.421050\" x=\"0\" y=\"746.8684931506849315068493150\"/><rect fill=\"#e41a1c\" height=\"13.1671232876712328767123288\" width=\"1.427496\" x=\"0\" y=\"732.2383561643835616438356164\"/><rect fill=\"#e41a1c\" height=\"13.1671232876712328767123288\" width=\"1.46666424\" x=\"0\" y=\"717.6082191780821917808219178\"/><rect fill=\"#e41a1c\" height=\"13.1671232876712328767123289\" width=\"1.57373230\" x=\"0\" y=\"702.9780821917808219178082191\"/><rect fill=\"#e41a1c\" height=\"13.1671232876712328767123288\" width=\"1.685336\" x=\"0\" y=\"688.3479452054794520547945205\"/><rect fill=\"#e41a1c\" height=\"13.1671232876712328767123288\" width=\"1.754484\" x=\"0\" y=\"673.7178082191780821917808219\"/><rect fill=\"#e41a1c\" height=\"13.1671232876712328767123288\" width=\"1.84662078\" x=\"0\" y=\"659.0876712328767123287671233\"/><rect fill=\"#e41a1c\" height=\"13.1671232876712328767123289\" width=\"2.083816\" x=\"0\" y=\"644.4575342465753424657534246\"/><rect fill=\"#e41a1c\" height=\"13.1671232876712328767123288\" width=\"2.094950\" x=\"0\" y=\"629.8273972602739726027397260\"/><rect fill=\"#e41a1c\" height=\"13.1671232876712328767123288\" width=\"2.13109448\" x=\"0\" y=\"615.1972602739726027397260274\"/><rect fill=\"#e41a1c\" height=\"13.1671232876712328767123289\" width=\"2.14164248\" x=\"0\" y=\"600.5671232876712328767123287\"/><rect fill=\"#e41a1c\" height=\"13.1671232876712328767123288\" width=\"2.39422606\" x=\"0\" y=\"585.9369863013698630136986301\"/><rect fill=\"#e41a1c\" height=\"13.1671232876712328767123288\" width=\"2.501048\" x=\"0\" y=\"571.3068493150684931506849315\"/><rect fill=\"#e41a1c\" height=\"13.1671232876712328767123288\" width=\"2.90729836\" x=\"0\" y=\"556.6767123287671232876712329\"/><rect fill=\"#e41a1c\" height=\"13.1671232876712328767123289\" width=\"2.92414\" x=\"0\" y=\"542.0465753424657534246575342\"/><rect fill=\"#e41a1c\" height=\"13.1671232876712328767123288\" width=\"3.201318\" x=\"0\" y=\"527.4164383561643835616438356\"/><rect fill=\"#e41a1c\" height=\"13.1671232876712328767123288\" width=\"3.231204\" x=\"0\" y=\"512.7863013698630136986301370\"/><rect fill=\"#e41a1c\" height=\"13.1671232876712328767123289\" width=\"3.92635236\" x=\"0\" y=\"498.1561643835616438356164383\"/><rect fill=\"#e41a1c\" height=\"13.1671232876712328767123288\" width=\"4.239124\" x=\"0\" y=\"483.5260273972602739726027397\"/><rect fill=\"#e41a1c\" height=\"13.1671232876712328767123288\" width=\"4.372146\" x=\"0\" y=\"468.8958904109589041095890411\"/><rect fill=\"#e41a1c\" height=\"13.1671232876712328767123289\" width=\"5.30906624\" x=\"0\" y=\"454.2657534246575342465753424\"/><rect fill=\"#e41a1c\" height=\"13.1671232876712328767123288\" width=\"5.359556\" x=\"0\" y=\"439.6356164383561643835616438\"/><rect fill=\"#e41a1c\" height=\"13.1671232876712328767123288\" width=\"5.76552508\" x=\"0\" y=\"425.0054794520547945205479452\"/><rect fill=\"#e41a1c\" height=\"13.1671232876712328767123289\" width=\"6.2163466\" x=\"0\" y=\"410.3753424657534246575342465\"/><rect fill=\"#e41a1c\" height=\"13.1671232876712328767123288\" width=\"6.50252556\" x=\"0\" y=\"395.7452054794520547945205479\"/><rect fill=\"#e41a1c\" height=\"13.1671232876712328767123288\" width=\"8.40280636\" x=\"0\" y=\"381.1150684931506849315068493\"/><rect fill=\"#e41a1c\" height=\"13.1671232876712328767123288\" width=\"10.547414\" x=\"0\" y=\"366.4849315068493150684931507\"/><rect fill=\"#e41a1c\" height=\"13.1671232876712328767123289\" width=\"10.643518\" x=\"0\" y=\"351.8547945205479452054794520\"/><rect fill=\"#e41a1c\" height=\"13.1671232876712328767123288\" width=\"13.57467828\" x=\"0\" y=\"337.2246575342465753424657534\"/><rect fill=\"#e41a1c\" height=\"13.1671232876712328767123288\" width=\"14.650\" x=\"0\" y=\"322.5945205479452054794520548\"/><rect fill=\"#e41a1c\" height=\"13.1671232876712328767123289\" width=\"14.650\" x=\"0\" y=\"307.9643835616438356164383561\"/><rect fill=\"#e41a1c\" height=\"13.1671232876712328767123288\" width=\"15.60758846\" x=\"0\" y=\"293.3342465753424657534246575\"/><rect fill=\"#e41a1c\" height=\"13.1671232876712328767123288\" width=\"16.04902812\" x=\"0\" y=\"278.7041095890410958904109589\"/><rect fill=\"#e41a1c\" height=\"13.1671232876712328767123288\" width=\"20.105074\" x=\"0\" y=\"264.0739726027397260273972603\"/><rect fill=\"#e41a1c\" height=\"13.1671232876712328767123289\" width=\"20.9469216\" x=\"0\" y=\"249.4438356164383561643835616\"/><rect fill=\"#e41a1c\" height=\"13.1671232876712328767123288\" width=\"21.07895912\" x=\"0\" y=\"234.8136986301369863013698630\"/><rect fill=\"#e41a1c\" height=\"13.1671232876712328767123288\" width=\"26.5220670\" x=\"0\" y=\"220.1835616438356164383561644\"/><rect fill=\"#e41a1c\" height=\"13.1671232876712328767123289\" width=\"28.121554\" x=\"0\" y=\"205.5534246575342465753424657\"/><rect fill=\"#e41a1c\" height=\"13.1671232876712328767123288\" width=\"30.024296\" x=\"0\" y=\"190.9232876712328767123287671\"/><rect fill=\"#e41a1c\" height=\"13.1671232876712328767123288\" width=\"37.90897874\" x=\"0\" y=\"176.2931506849315068493150685\"/><rect fill=\"#e41a1c\" height=\"13.1671232876712328767123289\" width=\"39.88868012\" x=\"0\" y=\"161.6630136986301369863013698\"/><rect fill=\"#e41a1c\" height=\"13.1671232876712328767123288\" width=\"40.857092\" x=\"0\" y=\"147.0328767123287671232876712\"/><rect fill=\"#e41a1c\" height=\"13.1671232876712328767123288\" width=\"41.47708\" x=\"0\" y=\"132.4027397260273972602739726\"/><rect fill=\"#e41a1c\" height=\"13.1671232876712328767123289\" width=\"43.8018006\" x=\"0\" y=\"117.7726027397260273972602739\"/><rect fill=\"#e41a1c\" height=\"13.1671232876712328767123288\" width=\"57.412764\" x=\"0\" y=\"103.1424657534246575342465753\"/><rect fill=\"#e41a1c\" height=\"13.16712328767123287671232877\" width=\"85.11940656\" x=\"0\" y=\"88.51232876712328767123287673\"/><rect fill=\"#e41a1c\" height=\"13.16712328767123287671232874\" width=\"100.7112492\" x=\"0\" y=\"73.88219178082191780821917813\"/><rect fill=\"#e41a1c\" height=\"13.16712328767123287671232834\" width=\"143.83384064\" x=\"0\" y=\"59.25205479452054794520547993\"/><rect fill=\"#e41a1c\" height=\"13.16712328767123287671232914\" width=\"246.488008\" x=\"0\" y=\"44.62191780821917808219178093\"/><rect fill=\"#e41a1c\" height=\"13.16712328767123287671232914\" width=\"262.2825832\" x=\"0\" y=\"29.99178082191780821917808193\"/><rect fill=\"#e41a1c\" height=\"13.16712328767123287671232814\" width=\"405.36493158\" x=\"0\" y=\"15.36164383561643835616438393\"/><rect fill=\"#e41a1c\" height=\"13.16712328767123287671232914\" width=\"572.62422770\" x=\"0\" y=\"0.7315068493150684931506849315\"/></g></g></g></g></g></g></svg>"
      ],
      "text/plain": [
       "<IPython.core.display.SVG object>"
      ]
     },
     "execution_count": 63,
     "metadata": {},
     "output_type": "execute_result"
    }
   ],
   "source": [
    "counties = leso.group_by('county')\n",
    "\n",
    "spending_by_county = counties.aggregate([\n",
    "    ('total_cost_sum', agate.Sum('total_cost'))\n",
    "])\n",
    "\n",
    "spending_by_county.order_by('total_cost_sum', reverse=True).bar_chart(height=1200)"
   ]
  },
  {
   "cell_type": "markdown",
   "metadata": {},
   "source": [
    "There are couple things worth pointing out about this code:\n",
    "\n",
    "* If you don't specify any arguments, agate will use the first and second columns of the table as `label` and `value` axes, respectively. If you're doing simple aggregations this saves you retyping the column names as they are already in the correct order.\n",
    "* Leather will try to maintain a reasonable aspect ratio for charts, in this case that makes the chart too short to display correctly. We've used the `height` argument to make the chart a little taller.\n",
    "\n",
    "Leather tries to smart about the data types you give it. For example, we can make a line chart using [`Date`](http://agate.readthedocs.io/en/1.5.0/api/data_types.html#agate.Date) or [`DateTime`](http://agate.readthedocs.io/en/1.4.0/api/data_types.html#agate.DateTime) columns."
   ]
  },
  {
   "cell_type": "code",
   "execution_count": 76,
   "metadata": {
    "collapsed": false
   },
   "outputs": [
    {
     "data": {
      "image/svg+xml": [
       "<svg height=\"600\" version=\"1.1\" width=\"800\" xmlns=\"http://www.w3.org/2000/svg\"><g><rect fill=\"#f9f9f9\" height=\"600\" width=\"800\" x=\"0\" y=\"0\"/><g transform=\"translate(40 40)\"><g transform=\"translate(86 0)\"/><g transform=\"translate(0 0)\"><g transform=\"translate(86 0)\"><g class=\"axis bottom\"><text dy=\"1em\" fill=\"#666\" font-family=\"Monaco\" text-anchor=\"middle\" transform=\"\" x=\"317.0\" y=\"506.0\">0</text><g class=\"tick\"><line stroke=\"#eee\" stroke-width=\"1\" x1=\"0.0\" x2=\"0.0\" y1=\"0\" y2=\"472.0\"/><text dy=\"1em\" fill=\"#9c9c9c\" font-family=\"Monaco\" text-anchor=\"middle\" x=\"0.0\" y=\"476.0\">2004</text></g><g class=\"tick\"><line stroke=\"#eee\" stroke-width=\"1\" x1=\"211.33333333333331\" x2=\"211.33333333333331\" y1=\"0\" y2=\"472.0\"/><text dy=\"1em\" fill=\"#9c9c9c\" font-family=\"Monaco\" text-anchor=\"middle\" x=\"211.33333333333331\" y=\"476.0\">2008</text></g><g class=\"tick\"><line stroke=\"#eee\" stroke-width=\"1\" x1=\"422.66666666666663\" x2=\"422.66666666666663\" y1=\"0\" y2=\"472.0\"/><text dy=\"1em\" fill=\"#9c9c9c\" font-family=\"Monaco\" text-anchor=\"middle\" x=\"422.66666666666663\" y=\"476.0\">2012</text></g><g class=\"tick\"><line stroke=\"#eee\" stroke-width=\"1\" x1=\"634.0\" x2=\"634.0\" y1=\"0\" y2=\"472.0\"/><text dy=\"1em\" fill=\"#9c9c9c\" font-family=\"Monaco\" text-anchor=\"middle\" x=\"634.0\" y=\"476.0\">2016</text></g></g><g class=\"axis left\"><text dy=\"\" fill=\"#666\" font-family=\"Monaco\" text-anchor=\"middle\" transform=\"rotate(270 -64 234)\" x=\"-64\" y=\"234.0\">1</text><g class=\"tick\"><line stroke=\"#eee\" stroke-width=\"1\" x1=\"-4\" x2=\"634.0\" y1=\"312.0000000000000000000000000\" y2=\"312.0000000000000000000000000\"/><text dy=\"0.32em\" fill=\"#9c9c9c\" font-family=\"Monaco\" text-anchor=\"end\" x=\"-8\" y=\"312.0000000000000000000000000\">250000</text></g><g class=\"tick\"><line stroke=\"#eee\" stroke-width=\"1\" x1=\"-4\" x2=\"634.0\" y1=\"156.0000000000000000000000000\" y2=\"156.0000000000000000000000000\"/><text dy=\"0.32em\" fill=\"#9c9c9c\" font-family=\"Monaco\" text-anchor=\"end\" x=\"-8\" y=\"156.0000000000000000000000000\">500000</text></g><g class=\"tick\"><line stroke=\"#eee\" stroke-width=\"1\" x1=\"-4\" x2=\"634.0\" y1=\"0\" y2=\"0\"/><text dy=\"0.32em\" fill=\"#9c9c9c\" font-family=\"Monaco\" text-anchor=\"end\" x=\"-8\" y=\"0\">750000</text></g><g class=\"tick\"><line stroke=\"#a8a8a8\" stroke-width=\"1\" x1=\"-4\" x2=\"634.0\" y1=\"468\" y2=\"468\"/><text dy=\"0.32em\" fill=\"#9c9c9c\" font-family=\"Monaco\" text-anchor=\"end\" x=\"-8\" y=\"468\">0</text></g></g><g><g class=\"series lines\"><path d=\"M 122.518366415697 464.8862400000000000000000000 L 125.55601186402006 467.1208027200000000000000000 L 125.70066164727356 466.4100480000000000000000000 L 129.17225644535705 467.47584 L 144.9390828199863 462.93116688 L 145.37303216974675 417.5957760000000000000000000 L 147.54277891854892 467.76734784 L 151.44832306639287 467.827776 L 153.61806981519507 462.1486272000000000000000000 L 153.907369381702 467.5280188800000000000000000 L 154.77526808122292 466.49384496 L 155.6431667807438 467.92672992 L 159.98266027834816 467.3772480000000000000000000 L 160.12731006160166 467.655552 L 165.04540269221994 467.827776 L 167.3597992242756 422.4544272 L 169.67419575633127 467.913888 L 178.20853296828656 427.39632 L 206.41524070271504 463.436064 L 207.2831394022359 467.311104 L 207.71708875199633 467.6025120000000000000000000 L 225.79831165868126 464.8862400000000000000000000 L 230.86105407255303 467.6886240000000000000000000 L 234.47729865389002 467.483328 L 244.89208304814056 467.40096 L 245.036732831394 467.065872 L 245.1813826146475 466.7544960000000000000000000 L 247.06182979694273 467.92512 L 249.08692676249143 466.4431200000000000000000000 L 249.66552589550534 461.257056 L 249.81017567875884 466.4100480000000000000000000 L 249.95482546201234 459.853056 L 250.09947524526578 467.85024 L 252.1245722108145 467.70048 L 257.3319644079398 467.3772480000000000000000000 L 265.4323522701346 466.131744 L 266.0109514031485 467.6289446400000000000000000 L 266.3002509696555 467.96336496 L 267.89139858544377 451.4970720000000000000000000 L 270.4950946840064 467.913888 L 271.3629933835273 464.8800000000000000000000000 L 272.3755418663016 467.55072 L 278.30618297969426 466.9766400000000000000000000 L 291.7586128222679 467.7953280000000000000000000 L 294.3623089208305 466.4672064 L 296.67670545288615 466.771968 L 298.2678530686744 467.6886240000000000000000000 L 300.5822496007301 462.395232 L 303.9091946155601 467.655552 L 305.5003422313484 467.55072 L 308.68263746292496 457.41384 L 308.8272872461784 464.88001248 L 325.0280629705681 467.0983200000000000000000000 L 326.0406114533425 467.90525808 L 337.32329454711385 467.6529936000000000000000000 L 340.07164042893 427.39632 L 340.2162902121834 467.7419448 L 342.2413871777321 427.39632 L 345.85763175906914 467.47584 L 347.88272872461783 459.96058368 L 348.0273785078713 466.82736048 L 356.99566506958706 467.7293088 L 359.3100616016427 467.6256 L 359.4547113848962 463.65696 L 360.4672598676705 466.3152 L 360.6119096509241 467.50901184 L 361.19050878393796 467.6256 L 367.26579968058405 467.827776 L 367.41044946383755 466.77148128 L 367.55509924709105 467.24161536 L 369.58019621263975 466.7544960000000000000000000 L 370.4480949121606 467.49815424 L 373.3410905772302 467.6336496 L 376.8126853753137 467.9519520000000000000000000 L 377.82523385808804 467.55072 L 379.9949806068903 452.4000000000000000000000000 L 380.2842801733972 467.3059872000000000000000000 L 381.8754277891855 452.4000000000000000000000000 L 384.6237736710016 466.083072 L 385.057723020762 467.15256432 L 385.347022587269 452.4000000000000000000000000 L 385.9256217202829 467.10626976 L 387.6614191193247 468 L 393.44741044946386 436.8000000000000000000000000 L 395.0385580652521 452.4000000000000000000000000 L 395.47250741501256 424.3200000000000000000000000 L 395.76180698151956 451.8739056000000000000000000 L 395.906456764773 442.258128 L 397.49760438056126 452.4000000000000000000000000 L 398.7994524298426 452.4000000000000000000000000 L 400.67989961213783 421.2 L 400.8245493953913 452.4000000000000000000000000 L 401.69244809491215 452.4000000000000000000000000 L 403.5728952772074 467.3573486400000000000000000 L 405.0193931097422 440.0934720000000000000000000 L 413.2644307551905 343.2000000000000000000000000 L 419.3397216518366 465.82848 L 419.77367100159705 466.65216 L 421.22016883413187 452.4000000000000000000000000 L 422.2327173169062 466.9766400000000000000000000 L 423.968514715948 452.4000000000000000000000000 L 424.11316449920145 466.14542832 L 424.9810631987223 467.3772480000000000000000000 L 425.55966233173626 466.2319022400000000000000000 L 425.9936116814967 409.2578880000000000000000000 L 427.1508099475245 459.1560480000000000000000000 L 427.295459730778 467.5497216000000000000000000 L 427.584759297285 466.70832 L 428.1633584302989 462.92478336 L 428.30800821355234 465.63192 L 429.3205566963267 436.8000000000000000000000000 L 430.62240474560804 466.92148464 L 431.0563540953685 466.14050496 L 431.2010038786219 452.4000000000000000000000000 L 432.35820214464974 462.7706616 L 434.238649326945 466.5592588800000000000000000 L 435.1065480264659 468 L 437.42094455852157 451.52035344 L 437.99954369153545 460.8485544000000000000000000 L 438.5781428245494 462.4448899200000000000000000 L 443.2069358886607 446.8651449600000000000000000 L 443.3515856719142 466.41512736 L 445.5213324207164 467.6724 L 446.53388090349074 465.1632960000000000000000000 L 454.4896189824321 467.827776 L 455.35751768195297 465.65174448 L 456.65936573123435 465.573888 L 469.67784622404747 466.4431200000000000000000000 L 479.0800821355236 466.3570080000000000000000000 L 485.87862194843717 465.8203680000000000000000000 L 491.0860141455624 466.5916320000000000000000000 L 493.2557608943646 467.77536 L 494.9915582934064 452.4000000000000000000000000 L 500.3436002737851 467.7429120000000000000000000 L 501.9347478895734 467.074296 L 502.80264658909425 438.0548640000000000000000000 L 511.3369838010495 57.4080000000000000000000000 L 515.2425279488934 210.9120000000000000000000000 L 515.5318275154003 210.9120000000000000000000000 L 521.1731690622861 57.4080000000000000000000000 L 521.4624686287931 467.7777624000000000000000000 L 524.3554642938626 467.7777624000000000000000000 L 528.1163586584531 408.1097280000000000000000000 L 530.4307551905088 467.2569408000000000000000000 L 531.7326032397901 467.92512 L 533.6130504220853 399.3600000000000000000000000 L 533.7577002053389 459.2646240000000000000000000 L 537.2292950034223 467.6886240000000000000000000 L 540.4115902349988 468 L 543.7385352498288 440.5446240000000000000000000\" fill=\"none\" stroke=\"#e41a1c\" stroke-width=\"2\"/></g></g></g></g></g></g></svg>"
      ],
      "text/plain": [
       "<IPython.core.display.SVG object>"
      ]
     },
     "execution_count": 76,
     "metadata": {},
     "output_type": "execute_result"
    }
   ],
   "source": [
    "days = leso.group_by('ship_date')\n",
    "\n",
    "shipments_by_day = days.aggregate([\n",
    "    ('total_cost_sum', agate.Sum('total_cost'))\n",
    "])\n",
    "\n",
    "shipments_by_day.order_by('ship_date').line_chart()"
   ]
  },
  {
   "cell_type": "markdown",
   "metadata": {},
   "source": [
    "The real power of agate's automated charting comes when we want to compare different facets of data. With leather, agate can automatically render a [`Lattice`]() of charts for each group in a TableSet.\n",
    "\n",
    "For example, let's look at a chart of receipts over time for counties receiving more than $200,000 worth of equipment."
   ]
  },
  {
   "cell_type": "code",
   "execution_count": 105,
   "metadata": {
    "collapsed": false
   },
   "outputs": [
    {
     "ename": "ValueError",
     "evalue": "All series must have the same values for scale display.",
     "output_type": "error",
     "traceback": [
      "\u001b[0;31m---------------------------------------------------------------------------\u001b[0m",
      "\u001b[0;31mValueError\u001b[0m                                Traceback (most recent call last)",
      "\u001b[0;32m<ipython-input-105-ed28ead4c510>\u001b[0m in \u001b[0;36m<module>\u001b[0;34m()\u001b[0m\n\u001b[1;32m     18\u001b[0m \u001b[0;34m\u001b[0m\u001b[0m\n\u001b[1;32m     19\u001b[0m \u001b[0;31m# Sort by item, regroup by county, and then plot a line chart for each county\u001b[0m\u001b[0;34m\u001b[0m\u001b[0;34m\u001b[0m\u001b[0m\n\u001b[0;32m---> 20\u001b[0;31m \u001b[0mcounts\u001b[0m\u001b[0;34m.\u001b[0m\u001b[0morder_by\u001b[0m\u001b[0;34m(\u001b[0m\u001b[0;34m'quantity_sum'\u001b[0m\u001b[0;34m,\u001b[0m \u001b[0mreverse\u001b[0m\u001b[0;34m=\u001b[0m\u001b[0;32mTrue\u001b[0m\u001b[0;34m)\u001b[0m\u001b[0;34m.\u001b[0m\u001b[0mgroup_by\u001b[0m\u001b[0;34m(\u001b[0m\u001b[0;34m'federal_supply_category_name'\u001b[0m\u001b[0;34m)\u001b[0m\u001b[0;34m.\u001b[0m\u001b[0mbar_chart\u001b[0m\u001b[0;34m(\u001b[0m\u001b[0mlabel\u001b[0m\u001b[0;34m=\u001b[0m\u001b[0;34m'federal_supply_category_name'\u001b[0m\u001b[0;34m,\u001b[0m \u001b[0mvalue\u001b[0m\u001b[0;34m=\u001b[0m\u001b[0;34m'quantity_sum'\u001b[0m\u001b[0;34m)\u001b[0m\u001b[0;34m\u001b[0m\u001b[0m\n\u001b[0m",
      "\u001b[0;32m/Users/cgroskopf/src/agate/agate/tableset/bar_chart.py\u001b[0m in \u001b[0;36mbar_chart\u001b[0;34m(self, label, value, path, width, height)\u001b[0m\n\u001b[1;32m     31\u001b[0m         \u001b[0mlabel_name\u001b[0m \u001b[0;34m=\u001b[0m \u001b[0mlabel\u001b[0m\u001b[0;34m\u001b[0m\u001b[0m\n\u001b[1;32m     32\u001b[0m \u001b[0;34m\u001b[0m\u001b[0m\n\u001b[0;32m---> 33\u001b[0;31m     \u001b[0;32mif\u001b[0m \u001b[0mtype\u001b[0m\u001b[0;34m(\u001b[0m\u001b[0mvalue\u001b[0m\u001b[0;34m)\u001b[0m \u001b[0;32mis\u001b[0m \u001b[0mint\u001b[0m\u001b[0;34m:\u001b[0m\u001b[0;34m\u001b[0m\u001b[0m\n\u001b[0m\u001b[1;32m     34\u001b[0m         \u001b[0mvalue_name\u001b[0m \u001b[0;34m=\u001b[0m \u001b[0mself\u001b[0m\u001b[0;34m.\u001b[0m\u001b[0mcolumn_names\u001b[0m\u001b[0;34m[\u001b[0m\u001b[0mvalue\u001b[0m\u001b[0;34m]\u001b[0m\u001b[0;34m\u001b[0m\u001b[0m\n\u001b[1;32m     35\u001b[0m     \u001b[0;32melse\u001b[0m\u001b[0;34m:\u001b[0m\u001b[0;34m\u001b[0m\u001b[0m\n",
      "\u001b[0;32m/Users/cgroskopf/.virtualenvs/agate/lib/python3.5/site-packages/leather/lattice.py\u001b[0m in \u001b[0;36mto_svg\u001b[0;34m(self, path, width, height)\u001b[0m\n\u001b[1;32m    150\u001b[0m \u001b[0;34m\u001b[0m\u001b[0m\n\u001b[1;32m    151\u001b[0m         \u001b[0;32mif\u001b[0m \u001b[0;32mnot\u001b[0m \u001b[0mself\u001b[0m\u001b[0;34m.\u001b[0m\u001b[0m_scales\u001b[0m\u001b[0;34m[\u001b[0m\u001b[0mY\u001b[0m\u001b[0;34m]\u001b[0m\u001b[0;34m:\u001b[0m\u001b[0;34m\u001b[0m\u001b[0m\n\u001b[0;32m--> 152\u001b[0;31m             \u001b[0mself\u001b[0m\u001b[0;34m.\u001b[0m\u001b[0m_scales\u001b[0m\u001b[0;34m[\u001b[0m\u001b[0mY\u001b[0m\u001b[0;34m]\u001b[0m\u001b[0;34m=\u001b[0m \u001b[0mScale\u001b[0m\u001b[0;34m.\u001b[0m\u001b[0minfer\u001b[0m\u001b[0;34m(\u001b[0m\u001b[0mlayers\u001b[0m\u001b[0;34m,\u001b[0m \u001b[0mY\u001b[0m\u001b[0;34m,\u001b[0m \u001b[0mself\u001b[0m\u001b[0;34m.\u001b[0m\u001b[0m_types\u001b[0m\u001b[0;34m[\u001b[0m\u001b[0mY\u001b[0m\u001b[0;34m]\u001b[0m\u001b[0;34m)\u001b[0m\u001b[0;34m\u001b[0m\u001b[0m\n\u001b[0m\u001b[1;32m    153\u001b[0m \u001b[0;34m\u001b[0m\u001b[0m\n\u001b[1;32m    154\u001b[0m         \u001b[0;32mif\u001b[0m \u001b[0;32mnot\u001b[0m \u001b[0mself\u001b[0m\u001b[0;34m.\u001b[0m\u001b[0m_axes\u001b[0m\u001b[0;34m[\u001b[0m\u001b[0mX\u001b[0m\u001b[0;34m]\u001b[0m\u001b[0;34m:\u001b[0m\u001b[0;34m\u001b[0m\u001b[0m\n",
      "\u001b[0;32m/Users/cgroskopf/.virtualenvs/agate/lib/python3.5/site-packages/leather/scales/base.py\u001b[0m in \u001b[0;36minfer\u001b[0;34m(cls, layers, dimension, data_type)\u001b[0m\n\u001b[1;32m     87\u001b[0m \u001b[0;34m\u001b[0m\u001b[0m\n\u001b[1;32m     88\u001b[0m                 \u001b[0;32mif\u001b[0m \u001b[0mseries\u001b[0m\u001b[0;34m.\u001b[0m\u001b[0mvalues\u001b[0m\u001b[0;34m(\u001b[0m\u001b[0mdimension\u001b[0m\u001b[0;34m)\u001b[0m \u001b[0;34m!=\u001b[0m \u001b[0mscale_values\u001b[0m\u001b[0;34m:\u001b[0m\u001b[0;34m\u001b[0m\u001b[0m\n\u001b[0;32m---> 89\u001b[0;31m                     \u001b[0;32mraise\u001b[0m \u001b[0mValueError\u001b[0m\u001b[0;34m(\u001b[0m\u001b[0;34m'All series must have the same values for scale display.'\u001b[0m\u001b[0;34m)\u001b[0m\u001b[0;34m\u001b[0m\u001b[0m\n\u001b[0m\u001b[1;32m     90\u001b[0m \u001b[0;34m\u001b[0m\u001b[0m\n\u001b[1;32m     91\u001b[0m             \u001b[0mscale\u001b[0m \u001b[0;34m=\u001b[0m \u001b[0mOrdinal\u001b[0m\u001b[0;34m(\u001b[0m\u001b[0mscale_values\u001b[0m\u001b[0;34m)\u001b[0m\u001b[0;34m\u001b[0m\u001b[0m\n",
      "\u001b[0;31mValueError\u001b[0m: All series must have the same values for scale display."
     ]
    }
   ],
   "source": [
    "import agate\n",
    "\n",
    "# Group by county\n",
    "counties = leso.group_by('county')\n",
    "\n",
    "# Filter to counties with more than $200,000 in equipment\n",
    "top_counties = counties.having([\n",
    "    ('total_cost_sum', agate.Sum('total_cost'))\n",
    "], lambda t: t['total_cost_sum'] > 200000)\n",
    "\n",
    "# Group a second time—see the section on \"Multidimensional aggregation\"\n",
    "counties_and_items = top_counties.group_by('federal_supply_category_name')\n",
    "\n",
    "# Aggregate sums by county and item\n",
    "counts = counties_and_items.aggregate([\n",
    "    ('quantity_sum', agate.Sum('quantity'))\n",
    "])\n",
    "\n",
    "# Sort by item, regroup by county, and then plot a line chart for each county\n",
    "counts.order_by('quantity_sum', reverse=True).group_by('federal_supply_category_name').bar_chart(label='federal_supply_category_name', value='quantity_sum')"
   ]
  },
  {
   "cell_type": "markdown",
   "metadata": {
    "collapsed": true
   },
   "source": [
    "Where to go next\n",
    "================\n",
    "\n",
    "This tutorial only scratches the surface of agate's features. For many more ideas on how to apply agate, check out the [`cookbook`](http://agate.readthedocs.io/en/1.5.0/cookbook.html, which includes dozens of examples of specific features of agate as well as recipes for substituting agate for Excel, SQL, R and more. Also check out the agate's [`extensions`](http://agate.readthedocs.io/en/1.5.0/extensions.html) which add support for reading/writing SQL tables, performing statistical analysis and more.\n",
    "\n",
    "Also, if you're going to be doing data processing in Python you really ought to check out [`proof`](http://proof.readthedocs.org/en/1.5.0/), a library for building data processing pipelines that are repeatable and self-documenting. It will make your code cleaner and save you tons of time.\n",
    "\n",
    "Good luck in your reporting!"
   ]
  },
  {
   "cell_type": "code",
   "execution_count": null,
   "metadata": {
    "collapsed": true
   },
   "outputs": [],
   "source": []
  }
 ],
 "metadata": {
  "kernelspec": {
   "display_name": "Python 3",
   "language": "python",
   "name": "python3"
  },
  "language_info": {
   "codemirror_mode": {
    "name": "ipython",
    "version": 3
   },
   "file_extension": ".py",
   "mimetype": "text/x-python",
   "name": "python",
   "nbconvert_exporter": "python",
   "pygments_lexer": "ipython3",
   "version": "3.5.0"
  }
 },
 "nbformat": 4,
 "nbformat_minor": 0
}
