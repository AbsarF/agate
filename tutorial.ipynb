{
 "cells": [
  {
   "cell_type": "markdown",
   "metadata": {},
   "source": [
    "# The Agate Tutorial\n",
    "\n",
    "The best way to learn to use any tool is to actually use it. In this tutorial we will use agate to answer some basic questions about a dataset.\n",
    "\n",
    "The data we will be using is a copy of the [National Registery of Exonerations]( http://www.law.umich.edu/special/exoneration/Pages/detaillist.aspx) made on August 28th, 2015. This dataset lists individuals who are known to have been exonerated after having been wrongly convicted in United States courts. At the time this data was copied there were 1,651 entries in the registry."
   ]
  },
  {
   "cell_type": "markdown",
   "metadata": {},
   "source": [
    "## Installing agate\n",
    "\n",
    "Installing agate from the command line is easy:\n",
    "\n",
    "    pip install agate\n",
    "\n",
    "Note: You should be installing agate inside a [virtualenv](http://virtualenv.readthedocs.org/en/1.5.0/>). If for some crazy reason you aren't using virtualenv you will need to add a ``sudo`` to the previous command.*\n",
    "\n",
    "For more detailed installation instructions, see the [Installation](http://agate.readthedocs.io/en/1.5.0/install.html) section of the documentation."
   ]
  },
  {
   "cell_type": "markdown",
   "metadata": {},
   "source": [
    "## Getting the data\n",
    "\n",
    "If you're just reading this tutorial you can skip this section. If you want to try working through it on your own then you'll need to download the data.\n",
    "\n",
    "It can be downloaded from\n",
    "\n",
    "    curl -L -O https://github.com/onyxfish/agate/raw/master/examples/realdata/exonerations-20150828.csv\n",
    "\n",
    "The rest of this tutorial will expect that data to be located in `examples/realdata`."
   ]
  },
  {
   "cell_type": "markdown",
   "metadata": {},
   "source": [
    "## Importing agate\n",
    "\n",
    "Let's get started!"
   ]
  },
  {
   "cell_type": "code",
   "execution_count": 1,
   "metadata": {
    "collapsed": true
   },
   "outputs": [],
   "source": [
    "import agate"
   ]
  },
  {
   "cell_type": "markdown",
   "metadata": {},
   "source": [
    "## Loading data from a CSV\n",
    "\n",
    "The [`Table`](http://agate.readthedocs.io/en/1.5.0/api/table.html#module-agate.table) is the basic class in agate. To create a table from a CSV we use the [`Table.from_csv`](http://agate.readthedocs.io/en/1.5.0/api/table.html#agate.Table.from_csv) class method:"
   ]
  },
  {
   "cell_type": "code",
   "execution_count": 2,
   "metadata": {
    "collapsed": false
   },
   "outputs": [],
   "source": [
    "exonerations = agate.Table.from_csv('examples/realdata/exonerations-20150828.csv')"
   ]
  },
  {
   "cell_type": "markdown",
   "metadata": {},
   "source": [
    "With no other arguments specified, agate will automatically create an instance of [`TypeTester`](http://agate.readthedocs.io/en/1.5.0/api/type_tester.html#agate.TypeTester) and use it to figure out the type of each column. TypeTester is a \"best guess\" approach to determining the kinds of data in your table. It can guess wrong. In that case you can create a TypeTester manually and use the ``force`` argument to override its guess for a specific column:"
   ]
  },
  {
   "cell_type": "code",
   "execution_count": 3,
   "metadata": {
    "collapsed": false
   },
   "outputs": [],
   "source": [
    "tester = agate.TypeTester(force={\n",
    "    'false_evidence': agate.Boolean()\n",
    "})\n",
    "\n",
    "exonerations = agate.Table.from_csv('examples/realdata/exonerations-20150828.csv', column_types=tester)"
   ]
  },
  {
   "cell_type": "markdown",
   "metadata": {},
   "source": [
    "If you already know the types of your data you may wish to skip the TypeTester entirely. You may pass sequences of column names and column types to [`Table.from_csv`](http://agate.readthedocs.io/en/1.5.0/api/table.html#agate.Table.from_csv) as the ``column_names`` and ``column_types`` arguments, respectively.\n",
    "\n",
    "For larger datasets the [`TypeTester`](http://agate.readthedocs.io/en/1.5.0/api/type_tester.html#agate.TypeTester) can be slow to evaluate the data. In that case you can specify a `limit` argument to restrict the amount of data it will use to infer types:"
   ]
  },
  {
   "cell_type": "code",
   "execution_count": 4,
   "metadata": {
    "collapsed": false
   },
   "outputs": [],
   "source": [
    "tester = agate.TypeTester(limit=100)\n",
    "\n",
    "exonerations = agate.Table.from_csv('examples/realdata/exonerations-20150828.csv', column_types=tester)"
   ]
  },
  {
   "cell_type": "markdown",
   "metadata": {},
   "source": [
    "The dataset we are using in this tutorial is simple enough that we can rely on the built-in TypeTester to guess quickly and accurately.\n",
    "\n",
    "**Note:** agate's CSV reader and writer support unicode and other encodings for both Python 2 and Python 3. Try using them as a drop-in replacement for Python's builtin module: `from agate import csv`.\n",
    "\n",
    "**Note:** agate also has [`Table.from_json`](http://agate.readthedocs.io/en/1.5.0/api/table.html#agate.Table.from_json) for creating tables from JSON data."
   ]
  },
  {
   "cell_type": "markdown",
   "metadata": {},
   "source": [
    "Describing the table\n",
    "====================\n",
    "\n",
    "If you're working with new data, or you just need a refresher, you may want to review what columns are in the table. You can do this with the [`.Table.print_structure`](http://agate.readthedocs.io/en/1.5.0/api/table.html#agate.Table.print_structure) method or by just calling `print` on the table:"
   ]
  },
  {
   "cell_type": "code",
   "execution_count": 5,
   "metadata": {
    "collapsed": false
   },
   "outputs": [
    {
     "name": "stdout",
     "output_type": "stream",
     "text": [
      "| column              | data_type |\n",
      "| ------------------- | --------- |\n",
      "| last_name           | Text      |\n",
      "| first_name          | Text      |\n",
      "| age                 | Number    |\n",
      "| race                | Text      |\n",
      "| state               | Text      |\n",
      "| tags                | Text      |\n",
      "| crime               | Text      |\n",
      "| sentence            | Text      |\n",
      "| convicted           | Number    |\n",
      "| exonerated          | Number    |\n",
      "| dna                 | Boolean   |\n",
      "| dna_essential       | Text      |\n",
      "| mistake_witness     | Boolean   |\n",
      "| false_confession    | Boolean   |\n",
      "| perjury             | Boolean   |\n",
      "| false_evidence      | Boolean   |\n",
      "| official_misconduct | Boolean   |\n",
      "| inadequate_defense  | Boolean   |\n",
      "\n"
     ]
    }
   ],
   "source": [
    "print(exonerations)"
   ]
  },
  {
   "cell_type": "markdown",
   "metadata": {},
   "source": [
    "Navigating table data\n",
    "=====================\n",
    "\n",
    "agate goes to great pains to make accessing the data in your tables work seamlessly for a wide variety of use-cases. Access by both [`Column`](http://agate.readthedocs.io/en/1.5.0/api/columns_and_rows.html#agate.Column) and [`Row`](http://agate.readthedocs.io/en/1.5.0/api/columns_and_rows.html#agate.Row) is supported, via the [`Table.columns`](http://agate.readthedocs.io/en/1.5.0/api/table.html#agate.Table.columns) and [`Table.rows`](http://agate.readthedocs.io/en/1.5.0/api/table.html#agate.Table.rows) attributes respectively.\n",
    "\n",
    "All four of these objects are examples of [`.MappedSequence`](http://agate.readthedocs.io/en/1.5.0/api/columns_and_rows.html#agate.MappedSequence), the foundational type that underlies much of agate's functionality. A MappedSequence functions very similar to a standard Python [`dict`](https://docs.python.org/3/tutorial/datastructures.html#dictionaries), with a few important exceptions:\n",
    "\n",
    "* Data may be accessed either by numeric index (e.g. column number) or by a non-integer key (e.g. column name).\n",
    "* Items are ordered, just like an instance of [`collections.OrderedDict`](https://docs.python.org/3.5/library/collections.html#collections.OrderedDict).\n",
    "* Iterating over the sequence returns its *values*, rather than its *keys*.\n",
    "\n",
    "To demonstrate the first point, these two lines are both valid ways of getting the first column in the `exonerations` table:"
   ]
  },
  {
   "cell_type": "code",
   "execution_count": 6,
   "metadata": {
    "collapsed": false
   },
   "outputs": [
    {
     "name": "stderr",
     "output_type": "stream",
     "text": [
      "/Users/cgroskopf/.pyenv/versions/3.5.0/lib/python3.5/site-packages/IPython/core/formatters.py:92: DeprecationWarning: DisplayFormatter._ipython_display_formatter_default is deprecated: use @default decorator instead.\n",
      "/Users/cgroskopf/.pyenv/versions/3.5.0/lib/python3.5/site-packages/IPython/core/formatters.py:98: DeprecationWarning: DisplayFormatter._formatters_default is deprecated: use @default decorator instead.\n",
      "/Users/cgroskopf/.pyenv/versions/3.5.0/lib/python3.5/site-packages/IPython/core/formatters.py:677: DeprecationWarning: PlainTextFormatter._deferred_printers_default is deprecated: use @default decorator instead.\n",
      "/Users/cgroskopf/.pyenv/versions/3.5.0/lib/python3.5/site-packages/IPython/core/formatters.py:669: DeprecationWarning: PlainTextFormatter._singleton_printers_default is deprecated: use @default decorator instead.\n",
      "/Users/cgroskopf/.pyenv/versions/3.5.0/lib/python3.5/site-packages/IPython/core/formatters.py:672: DeprecationWarning: PlainTextFormatter._type_printers_default is deprecated: use @default decorator instead.\n",
      "/Users/cgroskopf/.pyenv/versions/3.5.0/lib/python3.5/site-packages/IPython/core/formatters.py:669: DeprecationWarning: PlainTextFormatter._singleton_printers_default is deprecated: use @default decorator instead.\n",
      "/Users/cgroskopf/.pyenv/versions/3.5.0/lib/python3.5/site-packages/IPython/core/formatters.py:672: DeprecationWarning: PlainTextFormatter._type_printers_default is deprecated: use @default decorator instead.\n",
      "/Users/cgroskopf/.pyenv/versions/3.5.0/lib/python3.5/site-packages/IPython/core/formatters.py:677: DeprecationWarning: PlainTextFormatter._deferred_printers_default is deprecated: use @default decorator instead.\n"
     ]
    },
    {
     "data": {
      "text/plain": [
       "<agate.columns.Column at 0x10d5375e8>"
      ]
     },
     "execution_count": 6,
     "metadata": {},
     "output_type": "execute_result"
    }
   ],
   "source": [
    "exonerations.columns['last_name']"
   ]
  },
  {
   "cell_type": "code",
   "execution_count": 7,
   "metadata": {
    "collapsed": false
   },
   "outputs": [
    {
     "data": {
      "text/plain": [
       "<agate.columns.Column at 0x10d5375e8>"
      ]
     },
     "execution_count": 7,
     "metadata": {},
     "output_type": "execute_result"
    }
   ],
   "source": [
    "exonerations.columns[0]"
   ]
  },
  {
   "cell_type": "markdown",
   "metadata": {},
   "source": [
    "In the same way, rows can be accessed either by numeric index or by an optional, unique \"row name\" specified when the table is created. In this tutorial we won't use row names, but here is an example of how they work:"
   ]
  },
  {
   "cell_type": "code",
   "execution_count": 8,
   "metadata": {
    "collapsed": false
   },
   "outputs": [
    {
     "data": {
      "text/plain": [
       "<agate.rows.Row at 0x10d9da480>"
      ]
     },
     "execution_count": 8,
     "metadata": {},
     "output_type": "execute_result"
    }
   ],
   "source": [
    "exonerations = agate.Table.from_csv('examples/realdata/exonerations-20150828.csv', row_names=lambda r: '%(last_name)s, %(first_name)s' % (r))\n",
    "\n",
    "exonerations.rows[0]"
   ]
  },
  {
   "cell_type": "code",
   "execution_count": 9,
   "metadata": {
    "collapsed": false
   },
   "outputs": [
    {
     "data": {
      "text/plain": [
       "<agate.rows.Row at 0x10d9da480>"
      ]
     },
     "execution_count": 9,
     "metadata": {},
     "output_type": "execute_result"
    }
   ],
   "source": [
    "exonerations.rows['Abbitt, Joseph Lamont']"
   ]
  },
  {
   "cell_type": "markdown",
   "metadata": {},
   "source": [
    "In this case we create our row names using a [`lambda`](https://docs.python.org/3/tutorial/controlflow.html#lambda-expressions) function that takes a row and returns an unique identifer. If your data has a unique column, you can also just pass the column name. (For example, a column of USPS abbrevations or FIPS codes.) Note, however, that your row names can never be `int`, because that is reserved for indexing by numeric order. (A [`decimal.Decimal`](https://docs.python.org/3.5/library/decimal.html#decimal.Decimal) or stringified integer is just fine.)\n",
    "\n",
    "Once you've got a specific row, you can then access its individual values (cells, in spreadsheet-speak) either by numeric index or column name:"
   ]
  },
  {
   "cell_type": "code",
   "execution_count": 10,
   "metadata": {
    "collapsed": false
   },
   "outputs": [
    {
     "data": {
      "text/plain": [
       "'Abbitt'"
      ]
     },
     "execution_count": 10,
     "metadata": {},
     "output_type": "execute_result"
    }
   ],
   "source": [
    "row = exonerations.rows[0]\n",
    "\n",
    "row[0]"
   ]
  },
  {
   "cell_type": "code",
   "execution_count": 11,
   "metadata": {
    "collapsed": false
   },
   "outputs": [
    {
     "data": {
      "text/plain": [
       "'Abbitt'"
      ]
     },
     "execution_count": 11,
     "metadata": {},
     "output_type": "execute_result"
    }
   ],
   "source": [
    "row['last_name']"
   ]
  },
  {
   "cell_type": "markdown",
   "metadata": {},
   "source": [
    "And the same goes for columns, which can be indexed numerically or by row name (if one has been setup):"
   ]
  },
  {
   "cell_type": "code",
   "execution_count": 12,
   "metadata": {
    "collapsed": false
   },
   "outputs": [
    {
     "data": {
      "text/plain": [
       "'Child Sex Abuse'"
      ]
     },
     "execution_count": 12,
     "metadata": {},
     "output_type": "execute_result"
    }
   ],
   "source": [
    "column = exonerations.columns['crime']\n",
    "\n",
    "column[0]"
   ]
  },
  {
   "cell_type": "code",
   "execution_count": 13,
   "metadata": {
    "collapsed": false
   },
   "outputs": [
    {
     "data": {
      "text/plain": [
       "'Child Sex Abuse'"
      ]
     },
     "execution_count": 13,
     "metadata": {},
     "output_type": "execute_result"
    }
   ],
   "source": [
    "column['Abbitt, Joseph Lamont']"
   ]
  },
  {
   "cell_type": "markdown",
   "metadata": {},
   "source": [
    "For any instance of [`.MappedSequence`](http://agate.readthedocs.io/en/1.5.0/api/columns_and_rows.html#agate.MappedSequence), iteration returns values, *in order*. Here we print only the first ten:"
   ]
  },
  {
   "cell_type": "code",
   "execution_count": 14,
   "metadata": {
    "collapsed": false
   },
   "outputs": [
    {
     "name": "stdout",
     "output_type": "stream",
     "text": [
      "Abbitt\n",
      "Abdal\n",
      "Abernathy\n",
      "Acero\n",
      "Adams\n",
      "Adams\n",
      "Adams\n",
      "Adams\n",
      "Adams\n",
      "Adams\n"
     ]
    }
   ],
   "source": [
    "for row in exonerations.rows[:10]:\n",
    "    print(row['last_name'])"
   ]
  },
  {
   "cell_type": "markdown",
   "metadata": {
    "collapsed": true
   },
   "source": [
    "To summarize, the four most common data structures in agate ([`Column`](http://agate.readthedocs.io/en/1.5.0/api/columns_and_rows.html#agate.Column), [`Row`](http://agate.readthedocs.io/en/1.5.0/api/columns_and_rows.html#agate.Row), [`Table.columns`](http://agate.readthedocs.io/en/1.5.0/api/table.html#agate.Table.columns) and [`Table.rows`](http://agate.readthedocs.io/en/1.5.0/api/table.html#agate.Table.rows)) are all instances of [`MappedSequence`](http://agate.readthedocs.io/en/1.5.0/api/columns_and_rows.html#agate.MappedSequence) and therefore all behave in a uniform way. This is also true of [`TableSet`](http://agate.readthedocs.io/en/1.5.0/api/tableset.html), which will discuss later on."
   ]
  },
  {
   "cell_type": "markdown",
   "metadata": {},
   "source": [
    "Aggregating column data\n",
    "=======================\n",
    "\n",
    "With the basics out of the way, let's do some actual analysis. Analysis begins with questions, so let's ask some.\n",
    "\n",
    "**Question:** How many exonerations involved a false confession?\n",
    "\n",
    "Answering this question involves counting the number of ``True`` values in the ``false_confession`` column. When we created the table we specified that the data in this column contained [`Boolean`](http://agate.readthedocs.io/en/1.5.0/api/data_types.html#agate.Boolean) data. Because of this, agate has taken care of coercing the original text data from the CSV into Python's ``True`` and ``False`` values.\n",
    "\n",
    "We'll answer the question using an instance of [`Count`](http://agate.readthedocs.io/en/1.5.0/api/aggregations.html#agate.Count) which is a type of [`Aggregation`](http://agate.readthedocs.io/en/1.5.0/api/aggregations.html#agate.Aggregation). Aggregations are used to perform \"column-wise\" calculations. That is, they derive a new single value from the contents of a column. The [`Count`](http://agate.readthedocs.io/en/1.5.0/api/aggregations.html#agate.Count) aggregation can count either all values in a column, or how many times a particular value appears.\n",
    "\n",
    "An Aggregation is applied to a table using [`Table.aggregate`](http://agate.readthedocs.io/en/1.5.0/api/table.html#agate.Table.aggregate).\n",
    "\n",
    "It sounds complicated, but it's really simple. Putting it all together looks like this:"
   ]
  },
  {
   "cell_type": "code",
   "execution_count": 15,
   "metadata": {
    "collapsed": false
   },
   "outputs": [
    {
     "data": {
      "text/plain": [
       "211"
      ]
     },
     "execution_count": 15,
     "metadata": {},
     "output_type": "execute_result"
    }
   ],
   "source": [
    "exonerations.aggregate(agate.Count('false_confession', True))"
   ]
  },
  {
   "cell_type": "markdown",
   "metadata": {},
   "source": [
    "Let's look at another example, this time using a numerical aggregation.\n",
    "\n",
    "**Question:** What was the median age of exonerated indviduals at time of arrest?"
   ]
  },
  {
   "cell_type": "code",
   "execution_count": 16,
   "metadata": {
    "collapsed": false
   },
   "outputs": [
    {
     "name": "stderr",
     "output_type": "stream",
     "text": [
      "/Users/cgroskopf/src/agate/agate/aggregations/median.py:37: NullCalculationWarning: Column \"age\" contains nulls. These will be excluded from Median calculation.\n"
     ]
    },
    {
     "data": {
      "text/plain": [
       "Decimal('26')"
      ]
     },
     "execution_count": 16,
     "metadata": {},
     "output_type": "execute_result"
    }
   ],
   "source": [
    "exonerations.aggregate(agate.Median('age'))"
   ]
  },
  {
   "cell_type": "markdown",
   "metadata": {},
   "source": [
    "The answer to our question is \"26 years old\", however, as the warnings indicate, not every exonerated individual in the data has a value for the ``age`` column. The [`Median`](http://agate.readthedocs.io/en/1.5.0/api/aggregations.html#agate.Median) statistical operation has no standard way of accounting for null values, so it leaves them out of the calculation.\n",
    "\n",
    "**Question:** How many individuals do not have an age specified in the data?\n",
    "\n",
    "Now that we know there are null values in the ``age`` column, we might worry about our sample size. What if most of the rows don't have an age?"
   ]
  },
  {
   "cell_type": "code",
   "execution_count": 17,
   "metadata": {
    "collapsed": false
   },
   "outputs": [
    {
     "data": {
      "text/plain": [
       "9"
      ]
     },
     "execution_count": 17,
     "metadata": {},
     "output_type": "execute_result"
    }
   ],
   "source": [
    "exonerations.aggregate(agate.Count('age', None))"
   ]
  },
  {
   "cell_type": "markdown",
   "metadata": {
    "collapsed": true
   },
   "source": [
    "Only nine rows in this dataset don't have age, so it's certainly still useful to compute a median. However, we might still want to filter those rows out so we could have a consistent sample for all of our calculations. In the next section you'll learn how to do just that.\n",
    "\n",
    "Different [`aggregations`](http://agate.readthedocs.io/en/1.5.0/api/aggregations.html) can be applied depending on the type of data in each column. If none of the provided aggregations suit your needs you can use [`Summary`](http://agate.readthedocs.io/en/1.5.0/api/aggregations.html#agate.Summary) to apply an arbitrary function to a column. If that still doesn't suit your needs you can always create your own aggregation from scratch by subclassing [`Aggregation`](http://agate.readthedocs.io/en/1.5.0/api/aggregations.html#agate.Aggregation)."
   ]
  },
  {
   "cell_type": "markdown",
   "metadata": {},
   "source": [
    "Selecting and filtering data\n",
    "============================\n",
    "\n",
    "So what if those rows with no age were going to flummox our analysis? Agate's [`Table`](http://agate.readthedocs.io/en/1.5.0/api/table.html#agate.Table) class provides a full suite of SQL-like operations including [`Table.select`](http://agate.readthedocs.io/en/1.5.0/api/table.html#agate.Table.select) for grabbing specific columns, [`Table.where`](http://agate.readthedocs.io/en/1.5.0/api/table.html#agate.Table.where) for selecting particular rows and [`Table.group_by`](http://agate.readthedocs.io/en/1.5.0/api/table.html#agate.Table.group_by) for grouping rows by common values.\n",
    "\n",
    "Let's use [`Table.where`](http://agate.readthedocs.io/en/1.5.0/api/table.html#agate.Table.where) to filter our exonerations table to only those individuals that have an age specified."
   ]
  },
  {
   "cell_type": "code",
   "execution_count": 18,
   "metadata": {
    "collapsed": true
   },
   "outputs": [],
   "source": [
    "with_age = exonerations.where(lambda row: row['age'] is not None)"
   ]
  },
  {
   "cell_type": "markdown",
   "metadata": {},
   "source": [
    "You'll notice we provide a [`lambda`](https://docs.python.org/3/tutorial/controlflow.html#lambda-expressions) function to the [`Table.where`](http://agate.readthedocs.io/en/1.5.0/api/table.html#agate.Table.where). This function is applied to each row and if it returns ``True``, then the row is included in the output table.\n",
    "\n",
    "A crucial thing to understand about these table methods is that they return **new tables**. In our example above ``exonerations`` was a [`Table`](http://agate.readthedocs.io/en/1.5.0/api/table.html#agate.Table) instance and we applied [`Table.where`](http://agate.readthedocs.io/en/1.5.0/api/table.html#agate.Table.where), so ``with_age`` is a new, different [`Table`](http://agate.readthedocs.io/en/1.5.0/api/table.html#agate.Table). The tables themselves can't be changed. You can create new tables with these methods, but you can't modify them in-place. (If this seems weird, just trust me. There are lots of good computer science-y reasons to do it this way.)\n",
    "\n",
    "We can verify this did what we expected by counting the rows in the original table and rows in the new table:"
   ]
  },
  {
   "cell_type": "code",
   "execution_count": 19,
   "metadata": {
    "collapsed": false
   },
   "outputs": [
    {
     "data": {
      "text/plain": [
       "9"
      ]
     },
     "execution_count": 19,
     "metadata": {},
     "output_type": "execute_result"
    }
   ],
   "source": [
    "len(exonerations.rows) - len(with_age.rows)"
   ]
  },
  {
   "cell_type": "markdown",
   "metadata": {},
   "source": [
    "Nine rows were removed, which is the number of nulls we had already identified were in the column.\n",
    "\n",
    "Now if we calculate the median age of these individuals, we don't see the warning anymore."
   ]
  },
  {
   "cell_type": "code",
   "execution_count": 20,
   "metadata": {
    "collapsed": false
   },
   "outputs": [
    {
     "data": {
      "text/plain": [
       "Decimal('26')"
      ]
     },
     "execution_count": 20,
     "metadata": {},
     "output_type": "execute_result"
    }
   ],
   "source": [
    "with_age.aggregate(agate.Median('age'))"
   ]
  },
  {
   "cell_type": "markdown",
   "metadata": {},
   "source": [
    "Computing new columns\n",
    "=====================\n",
    "\n",
    "In addition to \"column-wise\" [`aggregations`](http://agate.readthedocs.io/en/1.5.0/api/aggregations.html#module-agate.aggregations) there are also \"row-wise\" [`computations`](http://agate.readthedocs.io/en/1.5.0/api/computations.html#module-agate.computations). Computations go through a [`Table`](http://agate.readthedocs.io/en/1.5.0/api/table.html#agate.Table) row-by-row and derive a new column using the existing data. To perform row computations in agate we use subclasses of [`Computation`](http://agate.readthedocs.io/en/1.5.0/api/computations.html#agate.Computation).\n",
    "\n",
    "When one or more instances of [`Computation`](http://agate.readthedocs.io/en/1.5.0/api/computations.html#agate.Computation) are applied with the [`Table.compute`](http://agate.readthedocs.io/en/1.5.0/api/table.html#agate.Table.compute) method, a new table is created with additional columns.\n",
    "\n",
    "**Question:** How long did individuals remain in prison before being exonerated?\n",
    "\n",
    "To answer this question we will apply the [`Change`](http://agate.readthedocs.io/en/1.5.0/api/computations.html#agate.Change) computation to the ``convicted`` and ``exonerated`` columns. Each of these columns contains the individual's age at the time of that event. All that [`Change`](http://agate.readthedocs.io/en/1.5.0/api/computations.html#agate.Change) does is compute the difference between two numbers. (In this case each of these columns contain a [`Number`](http://agate.readthedocs.io/en/1.5.0/api/data_types.html#agate.Number), but this will also work with [`Date`](http://agate.readthedocs.io/en/1.5.0/api/data_types.html#agate.Date) or [`DateTime`](http://agate.readthedocs.io/en/1.5.0/api/data_types.html#agate.DateTime).)"
   ]
  },
  {
   "cell_type": "code",
   "execution_count": 21,
   "metadata": {
    "collapsed": false
   },
   "outputs": [
    {
     "data": {
      "text/plain": [
       "Decimal('8')"
      ]
     },
     "execution_count": 21,
     "metadata": {},
     "output_type": "execute_result"
    }
   ],
   "source": [
    "with_years_in_prison = exonerations.compute([\n",
    "    ('years_in_prison', agate.Change('convicted', 'exonerated'))\n",
    "])\n",
    "\n",
    "with_years_in_prison.aggregate(agate.Median('years_in_prison'))"
   ]
  },
  {
   "cell_type": "markdown",
   "metadata": {},
   "source": [
    "The median number of years an exonerated individual spent in prison was 8 years.\n",
    "\n",
    "Sometimes, the built-in computations, such as [`Change`](http://agate.readthedocs.io/en/1.5.0/api/computations.html#agate.Change) won't suffice. I mentioned before that you could perform arbitrary column-wise aggregations using [`Summary`](http://agate.readthedocs.io/en/1.5.0/api/aggregations.html#agate.Summary). You can do the same thing for row-wise computations using [`Formula`](http://agate.readthedocs.io/en/1.5.0/api/computations.html#agate.Formula). This is somewhat analogous to Excel's cell formulas.\n",
    "\n",
    "For example, this code will create a ``full_name`` column from the ``first_name`` and ``last_name`` columns in the data:"
   ]
  },
  {
   "cell_type": "code",
   "execution_count": 22,
   "metadata": {
    "collapsed": true
   },
   "outputs": [],
   "source": [
    "full_names = exonerations.compute([\n",
    "    ('full_name', agate.Formula(agate.Text(), lambda row: '%(first_name)s %(last_name)s' % row))\n",
    "])"
   ]
  },
  {
   "cell_type": "markdown",
   "metadata": {},
   "source": [
    "For efficiency's sake, agate allows you to perform several computations at once (though their results can't depend on one another):"
   ]
  },
  {
   "cell_type": "code",
   "execution_count": 23,
   "metadata": {
    "collapsed": true
   },
   "outputs": [],
   "source": [
    "with_computations = exonerations.compute([\n",
    "    ('full_name', agate.Formula(agate.Text(), lambda row: '%(first_name)s %(last_name)s' % row)),\n",
    "    ('years_in_prison', agate.Change('convicted', 'exonerated'))\n",
    "])"
   ]
  },
  {
   "cell_type": "markdown",
   "metadata": {},
   "source": [
    "You can also compute new columns to clean up your raw data. In the initial data, the ``state`` column has some values with a 'F-' prefix on the state abbreviation. Cases with that prefix are federal cases as opposed to state prosecutions. To make the data easier to use, we can create a new ``federal`` column to tag federal cases and clean up the original state column:"
   ]
  },
  {
   "cell_type": "code",
   "execution_count": 24,
   "metadata": {
    "collapsed": true
   },
   "outputs": [],
   "source": [
    "clean_state_data = exonerations.compute([\n",
    "    ('federal', agate.Formula(agate.Boolean(), lambda row: row['state'].startswith('F-'))),\n",
    "    ('state', agate.Formula(agate.Text(), lambda row: row['state'][2:] if row['state'].startswith('F-') else row['state']))\n",
    "], replace=True)"
   ]
  },
  {
   "cell_type": "markdown",
   "metadata": {
    "collapsed": true
   },
   "source": [
    "We add the ``replace`` argument to our ``compute`` method to replace the state column in place.\n",
    "\n",
    "If [`Formula`](http://agate.readthedocs.io/en/1.5.0/api/computations.html#agate.Formula) is not flexible enough (for instance, if you needed to compute a new value based on the distribution of data in a column) you can always implement your own subclass of [`Computation`](http://agate.readthedocs.io/en/1.5.0/api/computations.html#agate.Computation). See the API documentation for [`computations`](http://agate.readthedocs.io/en/1.5.0/api/computations.html#module-agate.computations to see all of the supported ways to compute new data."
   ]
  },
  {
   "cell_type": "markdown",
   "metadata": {},
   "source": [
    "Sorting and slicing\n",
    "===================\n",
    "\n",
    "**Question:** Who are the ten exonerated individuals who were youngest at the time they were arrested?\n",
    "\n",
    "Remembering that methods of tables return tables, we will use [`Table.order_by`](http://agate.readthedocs.io/en/1.5.0/api/table.html#agate.Table.order_by) to sort our table:"
   ]
  },
  {
   "cell_type": "code",
   "execution_count": 25,
   "metadata": {
    "collapsed": true
   },
   "outputs": [],
   "source": [
    "sorted_by_age = exonerations.order_by('age')"
   ]
  },
  {
   "cell_type": "markdown",
   "metadata": {},
   "source": [
    "We can then use [`Table.limit`](http://agate.readthedocs.io/en/1.5.0/api/table.html#agate.Table.limit) get only the first ten rows of the data."
   ]
  },
  {
   "cell_type": "code",
   "execution_count": 26,
   "metadata": {
    "collapsed": true
   },
   "outputs": [],
   "source": [
    "youngest_ten = sorted_by_age.limit(10)"
   ]
  },
  {
   "cell_type": "markdown",
   "metadata": {},
   "source": [
    "Now let's use [`Table.print_table`](http://agate.readthedocs.io/en/1.5.0/api/table.html#agate.Table.print_table) to help us pretty the results in a way we can easily review:"
   ]
  },
  {
   "cell_type": "code",
   "execution_count": 27,
   "metadata": {
    "collapsed": false
   },
   "outputs": [
    {
     "name": "stdout",
     "output_type": "stream",
     "text": [
      "| last_name | first_name | age | race      | state | tags    | crime   | ... |\n",
      "| --------- | ---------- | --- | --------- | ----- | ------- | ------- | --- |\n",
      "| Murray    | Lacresha   |  11 | Black     | TX    | CV, F   | Murder  | ... |\n",
      "| Adams     | Johnathan  |  12 | Caucasian | GA    | CV, P   | Murder  | ... |\n",
      "| Harris    | Anthony    |  12 | Black     | OH    | CV      | Murder  | ... |\n",
      "| Edmonds   | Tyler      |  13 | Caucasian | MS    |         | Murder  | ... |\n",
      "| Handley   | Zachary    |  13 | Caucasian | PA    | A, CV   | Arson   | ... |\n",
      "| Jimenez   | Thaddeus   |  13 | Hispanic  | IL    |         | Murder  | ... |\n",
      "| Pacek     | Jerry      |  13 | Caucasian | PA    |         | Murder  | ... |\n",
      "| Barr      | Jonathan   |  14 | Black     | IL    | CDC, CV | Murder  | ... |\n",
      "| Brim      | Dominique  |  14 | Black     | MI    | F       | Assault | ... |\n",
      "| Brown     | Timothy    |  14 | Black     | FL    |         | Murder  | ... |\n"
     ]
    }
   ],
   "source": [
    "youngest_ten.print_table(max_columns=7)"
   ]
  },
  {
   "cell_type": "markdown",
   "metadata": {},
   "source": [
    "If you find it impossible to believe that an eleven year-old was convicted of murder, I encourage you to read the Registry's [description of the case](http://www.law.umich.edu/special/exoneration/Pages/casedetail.aspx?caseid=3499>).\n",
    "\n",
    "**Note:**  In the previous example we could have omitted the [`Table.limit`](http://agate.readthedocs.io/en/1.5.0/api/table.html#agate.Table.limit) and passed a ``max_rows=10`` to [`Table.print_table`](http://agate.readthedocs.io/en/1.5.0/api/table.html#agate.Table.print_table) instead. In this case they accomplish exactly the same goal.\n",
    "\n",
    "What if we were more curious about the *distribution* of ages, rather than the highest or lowest? agate includes the [`Table.pivot`](http://agate.readthedocs.io/en/1.5.0/api/table.html#agate.Table.pivot) and [`Table.bins`](http://agate.readthedocs.io/en/1.5.0/api/table.html#agate.Table.bins) methods for counting values individually or by ranges. Let's try binning the ages. Then, instead of using [`Table.print_table`](http://agate.readthedocs.io/en/1.5.0/api/table.html#agate.Table.print_table), we'll use [`Table.print_bars`](http://agate.readthedocs.io/en/1.5.0/api/table.html#agate.Table.print_bars) to generate a simple, text bar chart."
   ]
  },
  {
   "cell_type": "code",
   "execution_count": 28,
   "metadata": {
    "collapsed": false
   },
   "outputs": [
    {
     "name": "stdout",
     "output_type": "stream",
     "text": [
      "age       Count\n",
      "[10 - 19)   227 ▓░░░░░░░░░░░░░░░░░░░░                                           \n",
      "[19 - 28)   688 ▓░░░░░░░░░░░░░░░░░░░░░░░░░░░░░░░░░░░░░░░░░░░░░░░░░░░░░░░░░░░░░░ \n",
      "[28 - 37)   405 ▓░░░░░░░░░░░░░░░░░░░░░░░░░░░░░░░░░░░░                           \n",
      "[37 - 46)   213 ▓░░░░░░░░░░░░░░░░░░░                                            \n",
      "[46 - 55)    81 ▓░░░░░░░                                                        \n",
      "[55 - 64)    24 ▓░░                                                             \n",
      "[64 - 73)     3 ▓                                                               \n",
      "[82 - 91)     1 ▓                                                               \n",
      "None          9 ▓░                                                              \n",
      "                +---------------+---------------+--------------+---------------+\n",
      "                0              175             350            525            700\n"
     ]
    }
   ],
   "source": [
    "binned_ages = exonerations.bins('age', 10, 0, 100)\n",
    "binned_ages.print_bars('age', 'Count', width=80)"
   ]
  },
  {
   "cell_type": "markdown",
   "metadata": {
    "collapsed": true
   },
   "source": [
    "Notice that we specify we want :code:`10` bins spanning the range :code:`0` to :code:`100`. If these values are omitted agate will attempt to infer good defaults. We also specify that we want our bar chart to span a width of :code:`80` characters. This can be adjusted to a suitable width for your terminal or document.\n",
    "\n",
    "**Note:** If you use a monospaced font, such as Courier, you can copy and paste agate bar charts into emails or documents. No screenshots required."
   ]
  },
  {
   "cell_type": "markdown",
   "metadata": {},
   "source": [
    "Grouping and aggregating\n",
    "========================\n",
    "\n",
    "**Question:** Which state has seen the most exonerations?\n",
    "\n",
    "This question can't be answered by operating on a single column. What we need is the equivalent of SQL's ``GROUP BY``. agate supports a full set of SQL-like operations on tables. Unlike SQL, agate breaks grouping and aggregation into two discrete steps.\n",
    "\n",
    "First, we use [`Table.group_by`](http://agate.readthedocs.io/en/1.5.0/api/table.html#agate.Table.group_by) to group the data by state."
   ]
  },
  {
   "cell_type": "code",
   "execution_count": 29,
   "metadata": {
    "collapsed": true
   },
   "outputs": [],
   "source": [
    "by_state = clean_state_data.group_by('state')"
   ]
  },
  {
   "cell_type": "markdown",
   "metadata": {},
   "source": [
    "This takes our original [`Table`](http://agate.readthedocs.io/en/1.5.0/api/table.html#agate.Table) and groups it into a [`TableSet`](http://agate.readthedocs.io/en/1.5.0/api/tableset.html#agate.TableSet), which contains one table per state. As mentioned much earlier in this tutorial, TableSets are instances of [`MappedSequence`](http://agate.readthedocs.io/en/1.5.0/api/columns_and_rows.html#agate.MappedSequence). That means they work very much like [`Column`](http://agate.readthedocs.io/en/1.5.0/api/columns_and_rows.html#agate.Column) and [`Row`](http://agate.readthedocs.io/en/1.5.0/api/columns_and_rows.html#agate.Row).\n",
    "\n",
    "Now we need to aggregate the total for each state. This works in a very similar way to how it did when we were aggregating columns of a single table, except that we'll use the [`Count`](http://agate.readthedocs.io/en/1.5.0/api/aggregations.html#agate.Count) aggregation to count the total number of rows in each group."
   ]
  },
  {
   "cell_type": "code",
   "execution_count": 30,
   "metadata": {
    "collapsed": false
   },
   "outputs": [
    {
     "name": "stdout",
     "output_type": "stream",
     "text": [
      "| state | count |\n",
      "| ----- | ----- |\n",
      "| TX    |   217 |\n",
      "| NY    |   209 |\n",
      "| CA    |   164 |\n",
      "| IL    |   158 |\n",
      "| MI    |    63 |\n",
      "| ...   |   ... |\n"
     ]
    }
   ],
   "source": [
    "state_totals = by_state.aggregate([\n",
    "    ('count', agate.Count())\n",
    "])\n",
    "\n",
    "sorted_totals = state_totals.order_by('count', reverse=True)\n",
    "\n",
    "sorted_totals.print_table(max_rows=5)"
   ]
  },
  {
   "cell_type": "markdown",
   "metadata": {},
   "source": [
    "You'll notice we pass a sequence of tuples to [`TableSet.aggregate`](http://agate.readthedocs.io/en/1.5.0/api/tableset.html#agate.TableSet.aggregate). Each one includes two elements. The first is the new column name being created. The second is an instance of some [`Aggregation`](http://agate.readthedocs.io/en/1.5.0/api/aggregations.html#agate.Aggregation). Unsurpringly, in this case the results appear to be roughly proportional to population.\n",
    "\n",
    "**Question:** What state has the longest median time in prison prior to exoneration?\n",
    "\n",
    "This is a much more complicated question that's going to pull together a lot of the features we've been using. We'll repeat the computations we applied before, but this time we're going to roll those computations up in state-by-state groups and then take the [`Median`](http://agate.readthedocs.io/en/1.5.0/api/aggregations.html#agate.Median of each group. Then we'll sort the data and see where people have been stuck in prison the longest."
   ]
  },
  {
   "cell_type": "code",
   "execution_count": 31,
   "metadata": {
    "collapsed": false
   },
   "outputs": [
    {
     "name": "stdout",
     "output_type": "stream",
     "text": [
      "| state | count | median_years_in_p... |\n",
      "| ----- | ----- | -------------------- |\n",
      "| DC    |    15 |                   27 |\n",
      "| NE    |     9 |                   20 |\n",
      "| ID    |     2 |                   19 |\n",
      "| VT    |     1 |                   18 |\n",
      "| LA    |    45 |                   16 |\n",
      "| ...   |   ... |                  ... |\n"
     ]
    }
   ],
   "source": [
    "with_years_in_prison = exonerations.compute([\n",
    "    ('years_in_prison', agate.Change('convicted', 'exonerated'))\n",
    "])\n",
    "\n",
    "state_totals = with_years_in_prison.group_by('state')\n",
    "\n",
    "medians = state_totals.aggregate([\n",
    "    ('count', agate.Count()),\n",
    "    ('median_years_in_prison', agate.Median('years_in_prison'))\n",
    "])\n",
    "\n",
    "sorted_medians = medians.order_by('median_years_in_prison', reverse=True)\n",
    "\n",
    "sorted_medians.print_table(max_rows=5)"
   ]
  },
  {
   "cell_type": "markdown",
   "metadata": {
    "collapsed": true
   },
   "source": [
    "DC? Nebraska? What accounts for these states having the longest times in prison before exoneration? I have no idea! Given that the group sizes are small, it would probably be wise to look for outliers.\n",
    "\n",
    "As with [`Table.aggregate`]()http://agate.readthedocs.io/en/1.5.0/api/table.html#agate.Table.aggregate and [`Table.compute`](http://agate.readthedocs.io/en/1.5.0/api/table.html#agate.Table.compute), the [`TableSet.aggregate`](http://agate.readthedocs.io/en/1.5.0/api/tableset.html#agate.TableSet.aggregate) method takes a list of aggregations to perform. You can aggregate as many columns as you like in a single step and they will all appear in the output table."
   ]
  },
  {
   "cell_type": "markdown",
   "metadata": {},
   "source": [
    "Multi-dimensional aggregation\n",
    "=============================\n",
    "\n",
    "I've already shown you that you can use [`TableSet`](http://agate.readthedocs.io/en/1.5.0/api/tableset.html#agate.TableSet) to group instances of [`Table`](http://agate.readthedocs.io/en/1.5.0/api/table.html#agate.Table). However, you can also use a [`TableSet`](http://agate.readthedocs.io/en/1.5.0/api/tableset.html#agate.TableSet) to group *other TableSets*. To put that another way, instances of [`TableSet`](http://agate.readthedocs.io/en/1.5.0/api/tableset.html#agate.TableSet) can be *nested*.\n",
    "\n",
    "The key to nesting data in this way is to use `TableSet.group_by`. This is one of many methods that can be called on a TableSet, which will then be applied to all the tables it contains. In the last section we used [`Table.group_by`](http://agate.readthedocs.io/en/1.5.0/api/table.html#agate.Table.group_by) to split data up into a group of tables. By calling `TableSet.group_by`, which essentially called ``group_by`` on each table and collect the results. This can be pretty hard to wrap your head around, so let's look at a concrete example.\n",
    "\n",
    "**Question:** Is there a collective relationship between race, age and time spent in prison prior to exoneration?\n",
    "\n",
    "I'm not going to explain every stage of this analysis as most of it repeats patterns used previously. The key part to look for is the two separate uses of ``group_by``:"
   ]
  },
  {
   "cell_type": "code",
   "execution_count": 32,
   "metadata": {
    "collapsed": false
   },
   "outputs": [
    {
     "name": "stdout",
     "output_type": "stream",
     "text": [
      "| race            | age_group | count | median_years_in_p... |\n",
      "| --------------- | --------- | ----- | -------------------- |\n",
      "| Native American | 20s       |     2 |                 21.5 |\n",
      "|                 | 20s       |     1 |                 19.0 |\n",
      "| Native American | 10s       |     2 |                 15.0 |\n",
      "| Native American | 30s       |     2 |                 14.5 |\n",
      "| Black           | 10s       |   188 |                 14.0 |\n",
      "| Black           | 20s       |   358 |                 13.0 |\n",
      "| Asian           | 20s       |     4 |                 12.0 |\n",
      "| Black           | 30s       |   156 |                 10.0 |\n",
      "| Caucasian       | 10s       |    76 |                  8.0 |\n",
      "| Caucasian       | 20s       |   255 |                  8.0 |\n",
      "| ...             | ...       |   ... |                  ... |\n"
     ]
    }
   ],
   "source": [
    "# Filters rows without age data\n",
    "only_with_age = with_years_in_prison.where(\n",
    "    lambda r: r['age'] is not None\n",
    ")\n",
    "\n",
    "# Group by race\n",
    "race_groups = only_with_age.group_by('race')\n",
    "\n",
    "# Sub-group by age cohorts (20s, 30s, etc.)\n",
    "race_and_age_groups = race_groups.group_by(\n",
    "    lambda r: '%i0s' % (r['age'] // 10),\n",
    "    key_name='age_group'\n",
    ")\n",
    "\n",
    "# Aggregate medians for each group\n",
    "medians = race_and_age_groups.aggregate([\n",
    "    ('count', agate.Count()),\n",
    "    ('median_years_in_prison', agate.Median('years_in_prison'))\n",
    "])\n",
    "\n",
    "# Sort the results\n",
    "sorted_groups = medians.order_by('median_years_in_prison', reverse=True)\n",
    "\n",
    "# Print out the results\n",
    "sorted_groups.print_table(max_rows=10)"
   ]
  },
  {
   "cell_type": "markdown",
   "metadata": {},
   "source": [
    "## Exploratory charting\n",
    "\n",
    "Beginning with version 1.5.0, agate includes the pure-Python SVG charting library [leather](http://leather.readthedocs.io/en/latest/). Leather allows you to generate \"good enough\" charts with as little as one line of code. It's especially useful if you're working in a Jupyter Notebook, as the results will render inline.\n",
    "\n",
    "There are currently four chart types support: [`Table.bar_chart`](http://agate.readthedocs.io/en/1.5.0/api/table.html#agate.Table.bar_chart), [`Table.column_chart`](http://agate.readthedocs.io/en/1.5.0/api/table.html#agate.Table.column_chart), [`Table.line_chart`](http://agate.readthedocs.io/en/1.5.0/api/table.html#agate.Table.line_chart), and [`Table.scatterplot`](http://agate.readthedocs.io/en/1.5.0/api/table.html#agate.Table.scatterplot).\n",
    "\n",
    "Let's make charts from some slices of the exonerations dataset. We'll start by recreating the chart of binned ages that we made earlier with [`Table.print_bars`](http://agate.readthedocs.io/en/1.5.0/api/table.html#agate.Table.print_bars):"
   ]
  },
  {
   "cell_type": "markdown",
   "metadata": {},
   "source": [
    "### Exonerated by age at time of crime"
   ]
  },
  {
   "cell_type": "code",
   "execution_count": 36,
   "metadata": {
    "collapsed": false
   },
   "outputs": [
    {
     "data": {
      "image/svg+xml": [
       "<svg height=\"600\" version=\"1.1\" width=\"800\" xmlns=\"http://www.w3.org/2000/svg\"><g><rect fill=\"#f9f9f9\" height=\"600\" width=\"800\" x=\"0\" y=\"0\"/><g transform=\"translate(40 40)\"><g transform=\"translate(110 0)\"/><g transform=\"translate(0 0)\"><g transform=\"translate(110 0)\"><g class=\"axis bottom\"><text dy=\"1em\" fill=\"#666\" font-family=\"Monaco\" text-anchor=\"middle\" transform=\"\" x=\"305.0\" y=\"506.0\">Count</text><g class=\"tick\"><line stroke=\"#eee\" stroke-width=\"1\" x1=\"203.3333333333333333333333333\" x2=\"203.3333333333333333333333333\" y1=\"0\" y2=\"472.0\"/><text dy=\"1em\" fill=\"#9c9c9c\" font-family=\"Monaco\" text-anchor=\"middle\" x=\"203.3333333333333333333333333\" y=\"476.0\">250</text></g><g class=\"tick\"><line stroke=\"#eee\" stroke-width=\"1\" x1=\"406.6666666666666666666666667\" x2=\"406.6666666666666666666666667\" y1=\"0\" y2=\"472.0\"/><text dy=\"1em\" fill=\"#9c9c9c\" font-family=\"Monaco\" text-anchor=\"middle\" x=\"406.6666666666666666666666667\" y=\"476.0\">500</text></g><g class=\"tick\"><line stroke=\"#eee\" stroke-width=\"1\" x1=\"610\" x2=\"610\" y1=\"0\" y2=\"472.0\"/><text dy=\"1em\" fill=\"#9c9c9c\" font-family=\"Monaco\" text-anchor=\"middle\" x=\"610\" y=\"476.0\">750</text></g><g class=\"tick\"><line stroke=\"#a8a8a8\" stroke-width=\"1\" x1=\"0\" x2=\"0\" y1=\"0\" y2=\"472.0\"/><text dy=\"1em\" fill=\"#9c9c9c\" font-family=\"Monaco\" text-anchor=\"middle\" x=\"0\" y=\"476.0\">0</text></g></g><g class=\"axis left\"><text dy=\"\" fill=\"#666\" font-family=\"Monaco\" text-anchor=\"middle\" transform=\"rotate(270 -88 234)\" x=\"-88\" y=\"234.0\">age</text><g class=\"tick\"><line stroke=\"#eee\" stroke-width=\"1\" x1=\"-4\" x2=\"610.0\" y1=\"442\" y2=\"442\"/><text dy=\"0.32em\" fill=\"#9c9c9c\" font-family=\"Monaco\" text-anchor=\"end\" x=\"-8\" y=\"442\">None</text></g><g class=\"tick\"><line stroke=\"#eee\" stroke-width=\"1\" x1=\"-4\" x2=\"610.0\" y1=\"390\" y2=\"390\"/><text dy=\"0.32em\" fill=\"#9c9c9c\" font-family=\"Monaco\" text-anchor=\"end\" x=\"-8\" y=\"390\">[82 - 91)</text></g><g class=\"tick\"><line stroke=\"#eee\" stroke-width=\"1\" x1=\"-4\" x2=\"610.0\" y1=\"338\" y2=\"338\"/><text dy=\"0.32em\" fill=\"#9c9c9c\" font-family=\"Monaco\" text-anchor=\"end\" x=\"-8\" y=\"338\">[64 - 73)</text></g><g class=\"tick\"><line stroke=\"#eee\" stroke-width=\"1\" x1=\"-4\" x2=\"610.0\" y1=\"286\" y2=\"286\"/><text dy=\"0.32em\" fill=\"#9c9c9c\" font-family=\"Monaco\" text-anchor=\"end\" x=\"-8\" y=\"286\">[55 - 64)</text></g><g class=\"tick\"><line stroke=\"#eee\" stroke-width=\"1\" x1=\"-4\" x2=\"610.0\" y1=\"234\" y2=\"234\"/><text dy=\"0.32em\" fill=\"#9c9c9c\" font-family=\"Monaco\" text-anchor=\"end\" x=\"-8\" y=\"234\">[46 - 55)</text></g><g class=\"tick\"><line stroke=\"#eee\" stroke-width=\"1\" x1=\"-4\" x2=\"610.0\" y1=\"182\" y2=\"182\"/><text dy=\"0.32em\" fill=\"#9c9c9c\" font-family=\"Monaco\" text-anchor=\"end\" x=\"-8\" y=\"182\">[37 - 46)</text></g><g class=\"tick\"><line stroke=\"#eee\" stroke-width=\"1\" x1=\"-4\" x2=\"610.0\" y1=\"130\" y2=\"130\"/><text dy=\"0.32em\" fill=\"#9c9c9c\" font-family=\"Monaco\" text-anchor=\"end\" x=\"-8\" y=\"130\">[28 - 37)</text></g><g class=\"tick\"><line stroke=\"#eee\" stroke-width=\"1\" x1=\"-4\" x2=\"610.0\" y1=\"78\" y2=\"78\"/><text dy=\"0.32em\" fill=\"#9c9c9c\" font-family=\"Monaco\" text-anchor=\"end\" x=\"-8\" y=\"78\">[19 - 28)</text></g><g class=\"tick\"><line stroke=\"#eee\" stroke-width=\"1\" x1=\"-4\" x2=\"610.0\" y1=\"26\" y2=\"26\"/><text dy=\"0.32em\" fill=\"#9c9c9c\" font-family=\"Monaco\" text-anchor=\"end\" x=\"-8\" y=\"26\">[10 - 19)</text></g></g><g><g class=\"series bars\"><rect fill=\"#e41a1c\" height=\"46.8\" width=\"0.8133333333333333333333333331\" x=\"0\" y=\"366.6\"/><rect fill=\"#e41a1c\" height=\"46.8\" width=\"2.440\" x=\"0\" y=\"314.6\"/><rect fill=\"#e41a1c\" height=\"46.8\" width=\"19.520\" x=\"0\" y=\"262.6\"/><rect fill=\"#e41a1c\" height=\"46.8\" width=\"65.880\" x=\"0\" y=\"210.6\"/><rect fill=\"#e41a1c\" height=\"46.8\" width=\"173.240\" x=\"0\" y=\"158.6\"/><rect fill=\"#e41a1c\" height=\"46.8\" width=\"329.40\" x=\"0\" y=\"106.6\"/><rect fill=\"#e41a1c\" height=\"46.8\" width=\"559.5733333333333333333333333\" x=\"0\" y=\"54.6\"/><rect fill=\"#e41a1c\" height=\"46.8\" width=\"184.6266666666666666666666667\" x=\"0\" y=\"2.6\"/></g></g></g></g></g></g></svg>"
      ],
      "text/plain": [
       "<IPython.core.display.SVG object>"
      ]
     },
     "execution_count": 36,
     "metadata": {},
     "output_type": "execute_result"
    }
   ],
   "source": [
    "binned_ages.bar_chart()"
   ]
  },
  {
   "cell_type": "markdown",
   "metadata": {
    "collapsed": true
   },
   "source": [
    "By default charts will use the first and second columns as their `x` and `y` axes, respectively. This can be especially handy when counting a single column for quickly evaluating distributions:"
   ]
  },
  {
   "cell_type": "markdown",
   "metadata": {},
   "source": [
    "### Years in prison prior to exoneration, by type of crime"
   ]
  },
  {
   "cell_type": "code",
   "execution_count": 47,
   "metadata": {
    "collapsed": false
   },
   "outputs": [
    {
     "data": {
      "image/svg+xml": [
       "<svg height=\"1200\" version=\"1.1\" width=\"800\" xmlns=\"http://www.w3.org/2000/svg\"><g><rect fill=\"#f9f9f9\" height=\"1200\" width=\"800\" x=\"0\" y=\"0\"/><g transform=\"translate(40 40)\"><g transform=\"translate(270 0)\"/><g transform=\"translate(0 0)\"><g transform=\"translate(270 0)\"><g class=\"axis bottom\"><text dy=\"1em\" fill=\"#666\" font-family=\"Monaco\" text-anchor=\"middle\" transform=\"\" x=\"225.0\" y=\"1106.0\">median_years_in_prison</text><g class=\"tick\"><line stroke=\"#eee\" stroke-width=\"1\" x1=\"150.0000000000000000000000000\" x2=\"150.0000000000000000000000000\" y1=\"0\" y2=\"1072.0\"/><text dy=\"1em\" fill=\"#9c9c9c\" font-family=\"Monaco\" text-anchor=\"middle\" x=\"150.0000000000000000000000000\" y=\"1076.0\">5</text></g><g class=\"tick\"><line stroke=\"#eee\" stroke-width=\"1\" x1=\"300.0000000000000000000000000\" x2=\"300.0000000000000000000000000\" y1=\"0\" y2=\"1072.0\"/><text dy=\"1em\" fill=\"#9c9c9c\" font-family=\"Monaco\" text-anchor=\"middle\" x=\"300.0000000000000000000000000\" y=\"1076.0\">10</text></g><g class=\"tick\"><line stroke=\"#eee\" stroke-width=\"1\" x1=\"450\" x2=\"450\" y1=\"0\" y2=\"1072.0\"/><text dy=\"1em\" fill=\"#9c9c9c\" font-family=\"Monaco\" text-anchor=\"middle\" x=\"450\" y=\"1076.0\">15</text></g><g class=\"tick\"><line stroke=\"#a8a8a8\" stroke-width=\"1\" x1=\"0\" x2=\"0\" y1=\"0\" y2=\"1072.0\"/><text dy=\"1em\" fill=\"#9c9c9c\" font-family=\"Monaco\" text-anchor=\"middle\" x=\"0\" y=\"1076.0\">0</text></g></g><g class=\"axis left\"><text dy=\"\" fill=\"#666\" font-family=\"Monaco\" text-anchor=\"middle\" transform=\"rotate(270 -248 534)\" x=\"-248\" y=\"534.0\">crime</text><g class=\"tick\"><line stroke=\"#eee\" stroke-width=\"1\" x1=\"-4\" x2=\"450.0\" y1=\"1054.975609756097560975609756\" y2=\"1054.975609756097560975609756\"/><text dy=\"0.32em\" fill=\"#9c9c9c\" font-family=\"Monaco\" text-anchor=\"end\" x=\"-8\" y=\"1054.975609756097560975609756\">Destruction of Property</text></g><g class=\"tick\"><line stroke=\"#eee\" stroke-width=\"1\" x1=\"-4\" x2=\"450.0\" y1=\"1028.926829268292682926829268\" y2=\"1028.926829268292682926829268\"/><text dy=\"0.32em\" fill=\"#9c9c9c\" font-family=\"Monaco\" text-anchor=\"end\" x=\"-8\" y=\"1028.926829268292682926829268\">Threats</text></g><g class=\"tick\"><line stroke=\"#eee\" stroke-width=\"1\" x1=\"-4\" x2=\"450.0\" y1=\"1002.878048780487804878048780\" y2=\"1002.878048780487804878048780\"/><text dy=\"0.32em\" fill=\"#9c9c9c\" font-family=\"Monaco\" text-anchor=\"end\" x=\"-8\" y=\"1002.878048780487804878048780\">Harassment</text></g><g class=\"tick\"><line stroke=\"#eee\" stroke-width=\"1\" x1=\"-4\" x2=\"450.0\" y1=\"976.8292682926829268292682927\" y2=\"976.8292682926829268292682927\"/><text dy=\"0.32em\" fill=\"#9c9c9c\" font-family=\"Monaco\" text-anchor=\"end\" x=\"-8\" y=\"976.8292682926829268292682927\">Supporting Terrorism</text></g><g class=\"tick\"><line stroke=\"#eee\" stroke-width=\"1\" x1=\"-4\" x2=\"450.0\" y1=\"950.7804878048780487804878049\" y2=\"950.7804878048780487804878049\"/><text dy=\"0.32em\" fill=\"#9c9c9c\" font-family=\"Monaco\" text-anchor=\"end\" x=\"-8\" y=\"950.7804878048780487804878049\">Stalking</text></g><g class=\"tick\"><line stroke=\"#eee\" stroke-width=\"1\" x1=\"-4\" x2=\"450.0\" y1=\"924.7317073170731707317073171\" y2=\"924.7317073170731707317073171\"/><text dy=\"0.32em\" fill=\"#9c9c9c\" font-family=\"Monaco\" text-anchor=\"end\" x=\"-8\" y=\"924.7317073170731707317073171\">Obstruction of Justice</text></g><g class=\"tick\"><line stroke=\"#eee\" stroke-width=\"1\" x1=\"-4\" x2=\"450.0\" y1=\"898.6829268292682926829268293\" y2=\"898.6829268292682926829268293\"/><text dy=\"0.32em\" fill=\"#9c9c9c\" font-family=\"Monaco\" text-anchor=\"end\" x=\"-8\" y=\"898.6829268292682926829268293\">Drug Possession or Sale</text></g><g class=\"tick\"><line stroke=\"#eee\" stroke-width=\"1\" x1=\"-4\" x2=\"450.0\" y1=\"872.6341463414634146341463415\" y2=\"872.6341463414634146341463415\"/><text dy=\"0.32em\" fill=\"#9c9c9c\" font-family=\"Monaco\" text-anchor=\"end\" x=\"-8\" y=\"872.6341463414634146341463415\">Menacing</text></g><g class=\"tick\"><line stroke=\"#eee\" stroke-width=\"1\" x1=\"-4\" x2=\"450.0\" y1=\"846.5853658536585365853658537\" y2=\"846.5853658536585365853658537\"/><text dy=\"0.32em\" fill=\"#9c9c9c\" font-family=\"Monaco\" text-anchor=\"end\" x=\"-8\" y=\"846.5853658536585365853658537\">Theft</text></g><g class=\"tick\"><line stroke=\"#eee\" stroke-width=\"1\" x1=\"-4\" x2=\"450.0\" y1=\"820.5365853658536585365853659\" y2=\"820.5365853658536585365853659\"/><text dy=\"0.32em\" fill=\"#9c9c9c\" font-family=\"Monaco\" text-anchor=\"end\" x=\"-8\" y=\"820.5365853658536585365853659\">Forgery</text></g><g class=\"tick\"><line stroke=\"#eee\" stroke-width=\"1\" x1=\"-4\" x2=\"450.0\" y1=\"794.4878048780487804878048781\" y2=\"794.4878048780487804878048781\"/><text dy=\"0.32em\" fill=\"#9c9c9c\" font-family=\"Monaco\" text-anchor=\"end\" x=\"-8\" y=\"794.4878048780487804878048781\">Tax Evasion/Fraud</text></g><g class=\"tick\"><line stroke=\"#eee\" stroke-width=\"1\" x1=\"-4\" x2=\"450.0\" y1=\"768.4390243902439024390243903\" y2=\"768.4390243902439024390243903\"/><text dy=\"0.32em\" fill=\"#9c9c9c\" font-family=\"Monaco\" text-anchor=\"end\" x=\"-8\" y=\"768.4390243902439024390243903\">Conspiracy</text></g><g class=\"tick\"><line stroke=\"#eee\" stroke-width=\"1\" x1=\"-4\" x2=\"450.0\" y1=\"742.3902439024390243902439025\" y2=\"742.3902439024390243902439025\"/><text dy=\"0.32em\" fill=\"#9c9c9c\" font-family=\"Monaco\" text-anchor=\"end\" x=\"-8\" y=\"742.3902439024390243902439025\">Sex Offender Registration</text></g><g class=\"tick\"><line stroke=\"#eee\" stroke-width=\"1\" x1=\"-4\" x2=\"450.0\" y1=\"716.3414634146341463414634147\" y2=\"716.3414634146341463414634147\"/><text dy=\"0.32em\" fill=\"#9c9c9c\" font-family=\"Monaco\" text-anchor=\"end\" x=\"-8\" y=\"716.3414634146341463414634147\">Immigration</text></g><g class=\"tick\"><line stroke=\"#eee\" stroke-width=\"1\" x1=\"-4\" x2=\"450.0\" y1=\"690.2926829268292682926829269\" y2=\"690.2926829268292682926829269\"/><text dy=\"0.32em\" fill=\"#9c9c9c\" font-family=\"Monaco\" text-anchor=\"end\" x=\"-8\" y=\"690.2926829268292682926829269\">Official Misconduct</text></g><g class=\"tick\"><line stroke=\"#eee\" stroke-width=\"1\" x1=\"-4\" x2=\"450.0\" y1=\"664.2439024390243902439024391\" y2=\"664.2439024390243902439024391\"/><text dy=\"0.32em\" fill=\"#9c9c9c\" font-family=\"Monaco\" text-anchor=\"end\" x=\"-8\" y=\"664.2439024390243902439024391\">Traffic Offense</text></g><g class=\"tick\"><line stroke=\"#eee\" stroke-width=\"1\" x1=\"-4\" x2=\"450.0\" y1=\"638.1951219512195121951219513\" y2=\"638.1951219512195121951219513\"/><text dy=\"0.32em\" fill=\"#9c9c9c\" font-family=\"Monaco\" text-anchor=\"end\" x=\"-8\" y=\"638.1951219512195121951219513\">Gun Possession or Sale</text></g><g class=\"tick\"><line stroke=\"#eee\" stroke-width=\"1\" x1=\"-4\" x2=\"450.0\" y1=\"612.1463414634146341463414635\" y2=\"612.1463414634146341463414635\"/><text dy=\"0.32em\" fill=\"#9c9c9c\" font-family=\"Monaco\" text-anchor=\"end\" x=\"-8\" y=\"612.1463414634146341463414635\">Attempt, Violent</text></g><g class=\"tick\"><line stroke=\"#eee\" stroke-width=\"1\" x1=\"-4\" x2=\"450.0\" y1=\"586.0975609756097560975609757\" y2=\"586.0975609756097560975609757\"/><text dy=\"0.32em\" fill=\"#9c9c9c\" font-family=\"Monaco\" text-anchor=\"end\" x=\"-8\" y=\"586.0975609756097560975609757\">Other Violent Felony</text></g><g class=\"tick\"><line stroke=\"#eee\" stroke-width=\"1\" x1=\"-4\" x2=\"450.0\" y1=\"560.0487804878048780487804879\" y2=\"560.0487804878048780487804879\"/><text dy=\"0.32em\" fill=\"#9c9c9c\" font-family=\"Monaco\" text-anchor=\"end\" x=\"-8\" y=\"560.0487804878048780487804879\">Assault</text></g><g class=\"tick\"><line stroke=\"#eee\" stroke-width=\"1\" x1=\"-4\" x2=\"450.0\" y1=\"534.0000000000000000000000001\" y2=\"534.0000000000000000000000001\"/><text dy=\"0.32em\" fill=\"#9c9c9c\" font-family=\"Monaco\" text-anchor=\"end\" x=\"-8\" y=\"534.0000000000000000000000001\">Dependent Adult Abuse</text></g><g class=\"tick\"><line stroke=\"#eee\" stroke-width=\"1\" x1=\"-4\" x2=\"450.0\" y1=\"507.9512195121951219512195123\" y2=\"507.9512195121951219512195123\"/><text dy=\"0.32em\" fill=\"#9c9c9c\" font-family=\"Monaco\" text-anchor=\"end\" x=\"-8\" y=\"507.9512195121951219512195123\">Failure to Pay Child Support</text></g><g class=\"tick\"><line stroke=\"#eee\" stroke-width=\"1\" x1=\"-4\" x2=\"450.0\" y1=\"481.9024390243902439024390245\" y2=\"481.9024390243902439024390245\"/><text dy=\"0.32em\" fill=\"#9c9c9c\" font-family=\"Monaco\" text-anchor=\"end\" x=\"-8\" y=\"481.9024390243902439024390245\">Other Nonviolent Felony</text></g><g class=\"tick\"><line stroke=\"#eee\" stroke-width=\"1\" x1=\"-4\" x2=\"450.0\" y1=\"455.8536585365853658536585367\" y2=\"455.8536585365853658536585367\"/><text dy=\"0.32em\" fill=\"#9c9c9c\" font-family=\"Monaco\" text-anchor=\"end\" x=\"-8\" y=\"455.8536585365853658536585367\">Perjury</text></g><g class=\"tick\"><line stroke=\"#eee\" stroke-width=\"1\" x1=\"-4\" x2=\"450.0\" y1=\"429.8048780487804878048780489\" y2=\"429.8048780487804878048780489\"/><text dy=\"0.32em\" fill=\"#9c9c9c\" font-family=\"Monaco\" text-anchor=\"end\" x=\"-8\" y=\"429.8048780487804878048780489\">Fraud</text></g><g class=\"tick\"><line stroke=\"#eee\" stroke-width=\"1\" x1=\"-4\" x2=\"450.0\" y1=\"403.7560975609756097560975611\" y2=\"403.7560975609756097560975611\"/><text dy=\"0.32em\" fill=\"#9c9c9c\" font-family=\"Monaco\" text-anchor=\"end\" x=\"-8\" y=\"403.7560975609756097560975611\">Burglary/Unlawful Entry</text></g><g class=\"tick\"><line stroke=\"#eee\" stroke-width=\"1\" x1=\"-4\" x2=\"450.0\" y1=\"377.7073170731707317073170733\" y2=\"377.7073170731707317073170733\"/><text dy=\"0.32em\" fill=\"#9c9c9c\" font-family=\"Monaco\" text-anchor=\"end\" x=\"-8\" y=\"377.7073170731707317073170733\">Manslaughter</text></g><g class=\"tick\"><line stroke=\"#eee\" stroke-width=\"1\" x1=\"-4\" x2=\"450.0\" y1=\"351.6585365853658536585365855\" y2=\"351.6585365853658536585365855\"/><text dy=\"0.32em\" fill=\"#9c9c9c\" font-family=\"Monaco\" text-anchor=\"end\" x=\"-8\" y=\"351.6585365853658536585365855\">Child Abuse</text></g><g class=\"tick\"><line stroke=\"#eee\" stroke-width=\"1\" x1=\"-4\" x2=\"450.0\" y1=\"325.6097560975609756097560977\" y2=\"325.6097560975609756097560977\"/><text dy=\"0.32em\" fill=\"#9c9c9c\" font-family=\"Monaco\" text-anchor=\"end\" x=\"-8\" y=\"325.6097560975609756097560977\">Arson</text></g><g class=\"tick\"><line stroke=\"#eee\" stroke-width=\"1\" x1=\"-4\" x2=\"450.0\" y1=\"299.5609756097560975609756099\" y2=\"299.5609756097560975609756099\"/><text dy=\"0.32em\" fill=\"#9c9c9c\" font-family=\"Monaco\" text-anchor=\"end\" x=\"-8\" y=\"299.5609756097560975609756099\">Bribery</text></g><g class=\"tick\"><line stroke=\"#eee\" stroke-width=\"1\" x1=\"-4\" x2=\"450.0\" y1=\"273.5121951219512195121951221\" y2=\"273.5121951219512195121951221\"/><text dy=\"0.32em\" fill=\"#9c9c9c\" font-family=\"Monaco\" text-anchor=\"end\" x=\"-8\" y=\"273.5121951219512195121951221\">Robbery</text></g><g class=\"tick\"><line stroke=\"#eee\" stroke-width=\"1\" x1=\"-4\" x2=\"450.0\" y1=\"247.4634146341463414634146343\" y2=\"247.4634146341463414634146343\"/><text dy=\"0.32em\" fill=\"#9c9c9c\" font-family=\"Monaco\" text-anchor=\"end\" x=\"-8\" y=\"247.4634146341463414634146343\">Solicitation</text></g><g class=\"tick\"><line stroke=\"#eee\" stroke-width=\"1\" x1=\"-4\" x2=\"450.0\" y1=\"221.4146341463414634146341465\" y2=\"221.4146341463414634146341465\"/><text dy=\"0.32em\" fill=\"#9c9c9c\" font-family=\"Monaco\" text-anchor=\"end\" x=\"-8\" y=\"221.4146341463414634146341465\">Possession of Stolen Property</text></g><g class=\"tick\"><line stroke=\"#eee\" stroke-width=\"1\" x1=\"-4\" x2=\"450.0\" y1=\"195.3658536585365853658536587\" y2=\"195.3658536585365853658536587\"/><text dy=\"0.32em\" fill=\"#9c9c9c\" font-family=\"Monaco\" text-anchor=\"end\" x=\"-8\" y=\"195.3658536585365853658536587\">Military Justice Offense</text></g><g class=\"tick\"><line stroke=\"#eee\" stroke-width=\"1\" x1=\"-4\" x2=\"450.0\" y1=\"169.3170731707317073170731709\" y2=\"169.3170731707317073170731709\"/><text dy=\"0.32em\" fill=\"#9c9c9c\" font-family=\"Monaco\" text-anchor=\"end\" x=\"-8\" y=\"169.3170731707317073170731709\">Filing a False Report</text></g><g class=\"tick\"><line stroke=\"#eee\" stroke-width=\"1\" x1=\"-4\" x2=\"450.0\" y1=\"143.2682926829268292682926831\" y2=\"143.2682926829268292682926831\"/><text dy=\"0.32em\" fill=\"#9c9c9c\" font-family=\"Monaco\" text-anchor=\"end\" x=\"-8\" y=\"143.2682926829268292682926831\">Attempted Murder</text></g><g class=\"tick\"><line stroke=\"#eee\" stroke-width=\"1\" x1=\"-4\" x2=\"450.0\" y1=\"117.2195121951219512195121953\" y2=\"117.2195121951219512195121953\"/><text dy=\"0.32em\" fill=\"#9c9c9c\" font-family=\"Monaco\" text-anchor=\"end\" x=\"-8\" y=\"117.2195121951219512195121953\">Child Sex Abuse</text></g><g class=\"tick\"><line stroke=\"#eee\" stroke-width=\"1\" x1=\"-4\" x2=\"450.0\" y1=\"91.17073170731707317073170750\" y2=\"91.17073170731707317073170750\"/><text dy=\"0.32em\" fill=\"#9c9c9c\" font-family=\"Monaco\" text-anchor=\"end\" x=\"-8\" y=\"91.17073170731707317073170750\">Kidnapping</text></g><g class=\"tick\"><line stroke=\"#eee\" stroke-width=\"1\" x1=\"-4\" x2=\"450.0\" y1=\"65.12195121951219512195121970\" y2=\"65.12195121951219512195121970\"/><text dy=\"0.32em\" fill=\"#9c9c9c\" font-family=\"Monaco\" text-anchor=\"end\" x=\"-8\" y=\"65.12195121951219512195121970\">Sexual Assault</text></g><g class=\"tick\"><line stroke=\"#eee\" stroke-width=\"1\" x1=\"-4\" x2=\"450.0\" y1=\"39.07317073170731707317073210\" y2=\"39.07317073170731707317073210\"/><text dy=\"0.32em\" fill=\"#9c9c9c\" font-family=\"Monaco\" text-anchor=\"end\" x=\"-8\" y=\"39.07317073170731707317073210\">Accessory to Murder</text></g><g class=\"tick\"><line stroke=\"#eee\" stroke-width=\"1\" x1=\"-4\" x2=\"450.0\" y1=\"13.02439024390243902439024410\" y2=\"13.02439024390243902439024410\"/><text dy=\"0.32em\" fill=\"#9c9c9c\" font-family=\"Monaco\" text-anchor=\"end\" x=\"-8\" y=\"13.02439024390243902439024410\">Murder</text></g></g><g><g class=\"series bars\"><rect fill=\"#e41a1c\" height=\"23.443902439024390243902440\" width=\"15.00000000000000000000000000\" x=\"0\" y=\"1043.253658536585365853658536\"/><rect fill=\"#e41a1c\" height=\"23.443902439024390243902440\" width=\"30.00000000000000000000000000\" x=\"0\" y=\"1017.204878048780487804878048\"/><rect fill=\"#e41a1c\" height=\"23.4439024390243902439024390\" width=\"30.00000000000000000000000000\" x=\"0\" y=\"991.1560975609756097560975610\"/><rect fill=\"#e41a1c\" height=\"23.4439024390243902439024390\" width=\"30.00000000000000000000000000\" x=\"0\" y=\"965.1073170731707317073170732\"/><rect fill=\"#e41a1c\" height=\"23.4439024390243902439024390\" width=\"30.00000000000000000000000000\" x=\"0\" y=\"939.0585365853658536585365854\"/><rect fill=\"#e41a1c\" height=\"23.4439024390243902439024390\" width=\"30.00000000000000000000000000\" x=\"0\" y=\"913.0097560975609756097560976\"/><rect fill=\"#e41a1c\" height=\"23.4439024390243902439024390\" width=\"30.00000000000000000000000000\" x=\"0\" y=\"886.9609756097560975609756098\"/><rect fill=\"#e41a1c\" height=\"23.4439024390243902439024390\" width=\"30.00000000000000000000000000\" x=\"0\" y=\"860.9121951219512195121951220\"/><rect fill=\"#e41a1c\" height=\"23.4439024390243902439024390\" width=\"45.0\" x=\"0\" y=\"834.8634146341463414634146342\"/><rect fill=\"#e41a1c\" height=\"23.4439024390243902439024390\" width=\"59.99999999999999999999999998\" x=\"0\" y=\"808.8146341463414634146341464\"/><rect fill=\"#e41a1c\" height=\"23.4439024390243902439024390\" width=\"59.99999999999999999999999998\" x=\"0\" y=\"782.7658536585365853658536586\"/><rect fill=\"#e41a1c\" height=\"23.4439024390243902439024390\" width=\"59.99999999999999999999999998\" x=\"0\" y=\"756.7170731707317073170731708\"/><rect fill=\"#e41a1c\" height=\"23.4439024390243902439024390\" width=\"59.99999999999999999999999998\" x=\"0\" y=\"730.6682926829268292682926830\"/><rect fill=\"#e41a1c\" height=\"23.4439024390243902439024390\" width=\"90.0\" x=\"0\" y=\"704.6195121951219512195121952\"/><rect fill=\"#e41a1c\" height=\"23.4439024390243902439024390\" width=\"90.0\" x=\"0\" y=\"678.5707317073170731707317074\"/><rect fill=\"#e41a1c\" height=\"23.4439024390243902439024390\" width=\"90.0\" x=\"0\" y=\"652.5219512195121951219512196\"/><rect fill=\"#e41a1c\" height=\"23.4439024390243902439024390\" width=\"90.0\" x=\"0\" y=\"626.4731707317073170731707318\"/><rect fill=\"#e41a1c\" height=\"23.4439024390243902439024390\" width=\"90.0\" x=\"0\" y=\"600.4243902439024390243902440\"/><rect fill=\"#e41a1c\" height=\"23.4439024390243902439024390\" width=\"90.0\" x=\"0\" y=\"574.3756097560975609756097562\"/><rect fill=\"#e41a1c\" height=\"23.4439024390243902439024390\" width=\"90.0\" x=\"0\" y=\"548.3268292682926829268292684\"/><rect fill=\"#e41a1c\" height=\"23.4439024390243902439024390\" width=\"120.0000000000000000000000000\" x=\"0\" y=\"522.2780487804878048780487806\"/><rect fill=\"#e41a1c\" height=\"23.4439024390243902439024390\" width=\"120.0000000000000000000000000\" x=\"0\" y=\"496.2292682926829268292682928\"/><rect fill=\"#e41a1c\" height=\"23.4439024390243902439024390\" width=\"120.0000000000000000000000000\" x=\"0\" y=\"470.1804878048780487804878050\"/><rect fill=\"#e41a1c\" height=\"23.4439024390243902439024390\" width=\"120.0000000000000000000000000\" x=\"0\" y=\"444.1317073170731707317073172\"/><rect fill=\"#e41a1c\" height=\"23.4439024390243902439024390\" width=\"120.0000000000000000000000000\" x=\"0\" y=\"418.0829268292682926829268294\"/><rect fill=\"#e41a1c\" height=\"23.4439024390243902439024390\" width=\"120.0000000000000000000000000\" x=\"0\" y=\"392.0341463414634146341463416\"/><rect fill=\"#e41a1c\" height=\"23.4439024390243902439024390\" width=\"120.0000000000000000000000000\" x=\"0\" y=\"365.9853658536585365853658538\"/><rect fill=\"#e41a1c\" height=\"23.4439024390243902439024390\" width=\"135.0\" x=\"0\" y=\"339.9365853658536585365853660\"/><rect fill=\"#e41a1c\" height=\"23.4439024390243902439024390\" width=\"135.0\" x=\"0\" y=\"313.8878048780487804878048782\"/><rect fill=\"#e41a1c\" height=\"23.4439024390243902439024390\" width=\"150.0000000000000000000000000\" x=\"0\" y=\"287.8390243902439024390243904\"/><rect fill=\"#e41a1c\" height=\"23.4439024390243902439024390\" width=\"150.0000000000000000000000000\" x=\"0\" y=\"261.7902439024390243902439026\"/><rect fill=\"#e41a1c\" height=\"23.4439024390243902439024390\" width=\"180.0\" x=\"0\" y=\"235.7414634146341463414634148\"/><rect fill=\"#e41a1c\" height=\"23.4439024390243902439024390\" width=\"180.0\" x=\"0\" y=\"209.6926829268292682926829270\"/><rect fill=\"#e41a1c\" height=\"23.4439024390243902439024390\" width=\"210.0000000000000000000000000\" x=\"0\" y=\"183.6439024390243902439024392\"/><rect fill=\"#e41a1c\" height=\"23.4439024390243902439024390\" width=\"210.0000000000000000000000000\" x=\"0\" y=\"157.5951219512195121951219514\"/><rect fill=\"#e41a1c\" height=\"23.4439024390243902439024390\" width=\"210.0000000000000000000000000\" x=\"0\" y=\"131.5463414634146341463414636\"/><rect fill=\"#e41a1c\" height=\"23.4439024390243902439024390\" width=\"240.0000000000000000000000000\" x=\"0\" y=\"105.4975609756097560975609758\"/><rect fill=\"#e41a1c\" height=\"23.44390243902439024390243901\" width=\"360.0\" x=\"0\" y=\"79.44878048780487804878048799\"/><rect fill=\"#e41a1c\" height=\"23.44390243902439024390243882\" width=\"360.0\" x=\"0\" y=\"53.40000000000000000000000039\"/><rect fill=\"#e41a1c\" height=\"23.44390243902439024390243922\" width=\"390.0000000000000000000000000\" x=\"0\" y=\"27.35121951219512195121951239\"/><rect fill=\"#e41a1c\" height=\"23.44390243902439024390243922\" width=\"390.0000000000000000000000000\" x=\"0\" y=\"1.30243902439024390243902439\"/></g></g></g></g></g></g></svg>"
      ],
      "text/plain": [
       "<IPython.core.display.SVG object>"
      ]
     },
     "execution_count": 47,
     "metadata": {},
     "output_type": "execute_result"
    }
   ],
   "source": [
    "years_by_crime = with_years_in_prison.group_by('crime').aggregate([\n",
    "    ('median_years_in_prison', agate.Median('years_in_prison'))\n",
    "])\n",
    "\n",
    "years_by_crime.order_by('median_years_in_prison', reverse=True).bar_chart(height=1200)"
   ]
  },
  {
   "cell_type": "markdown",
   "metadata": {},
   "source": [
    "### Number exonerated by year"
   ]
  },
  {
   "cell_type": "code",
   "execution_count": 49,
   "metadata": {
    "collapsed": false
   },
   "outputs": [
    {
     "data": {
      "image/svg+xml": [
       "<svg height=\"600\" version=\"1.1\" width=\"800\" xmlns=\"http://www.w3.org/2000/svg\"><g><rect fill=\"#f9f9f9\" height=\"600\" width=\"800\" x=\"0\" y=\"0\"/><g transform=\"translate(40 40)\"><g transform=\"translate(62 0)\"/><g transform=\"translate(0 0)\"><g transform=\"translate(62 0)\"><g class=\"axis bottom\"><text dy=\"1em\" fill=\"#666\" font-family=\"Monaco\" text-anchor=\"middle\" transform=\"\" x=\"329.0\" y=\"506.0\">exonerated</text><g class=\"tick\"><line stroke=\"#eee\" stroke-width=\"1\" x1=\"0\" x2=\"0\" y1=\"0\" y2=\"472.0\"/><text dy=\"1em\" fill=\"#9c9c9c\" font-family=\"Monaco\" text-anchor=\"middle\" x=\"0\" y=\"476.0\">1980</text></g><g class=\"tick\"><line stroke=\"#eee\" stroke-width=\"1\" x1=\"164.50\" x2=\"164.50\" y1=\"0\" y2=\"472.0\"/><text dy=\"1em\" fill=\"#9c9c9c\" font-family=\"Monaco\" text-anchor=\"middle\" x=\"164.50\" y=\"476.0\">1990</text></g><g class=\"tick\"><line stroke=\"#eee\" stroke-width=\"1\" x1=\"329.0\" x2=\"329.0\" y1=\"0\" y2=\"472.0\"/><text dy=\"1em\" fill=\"#9c9c9c\" font-family=\"Monaco\" text-anchor=\"middle\" x=\"329.0\" y=\"476.0\">2000</text></g><g class=\"tick\"><line stroke=\"#eee\" stroke-width=\"1\" x1=\"493.50\" x2=\"493.50\" y1=\"0\" y2=\"472.0\"/><text dy=\"1em\" fill=\"#9c9c9c\" font-family=\"Monaco\" text-anchor=\"middle\" x=\"493.50\" y=\"476.0\">2010</text></g><g class=\"tick\"><line stroke=\"#eee\" stroke-width=\"1\" x1=\"658\" x2=\"658\" y1=\"0\" y2=\"472.0\"/><text dy=\"1em\" fill=\"#9c9c9c\" font-family=\"Monaco\" text-anchor=\"middle\" x=\"658\" y=\"476.0\">2020</text></g></g><g class=\"axis left\"><text dy=\"\" fill=\"#666\" font-family=\"Monaco\" text-anchor=\"middle\" transform=\"rotate(270 -40 234)\" x=\"-40\" y=\"234.0\">count</text><g class=\"tick\"><line stroke=\"#eee\" stroke-width=\"1\" x1=\"-4\" x2=\"658.0\" y1=\"312.0000000000000000000000000\" y2=\"312.0000000000000000000000000\"/><text dy=\"0.32em\" fill=\"#9c9c9c\" font-family=\"Monaco\" text-anchor=\"end\" x=\"-8\" y=\"312.0000000000000000000000000\">50</text></g><g class=\"tick\"><line stroke=\"#eee\" stroke-width=\"1\" x1=\"-4\" x2=\"658.0\" y1=\"156.0000000000000000000000000\" y2=\"156.0000000000000000000000000\"/><text dy=\"0.32em\" fill=\"#9c9c9c\" font-family=\"Monaco\" text-anchor=\"end\" x=\"-8\" y=\"156.0000000000000000000000000\">100</text></g><g class=\"tick\"><line stroke=\"#eee\" stroke-width=\"1\" x1=\"-4\" x2=\"658.0\" y1=\"0\" y2=\"0\"/><text dy=\"0.32em\" fill=\"#9c9c9c\" font-family=\"Monaco\" text-anchor=\"end\" x=\"-8\" y=\"0\">150</text></g><g class=\"tick\"><line stroke=\"#a8a8a8\" stroke-width=\"1\" x1=\"-4\" x2=\"658.0\" y1=\"468\" y2=\"468\"/><text dy=\"0.32em\" fill=\"#9c9c9c\" font-family=\"Monaco\" text-anchor=\"end\" x=\"-8\" y=\"468\">0</text></g></g><g><g class=\"series lines\"><path d=\"M 148.050 399.3600000000000000000000000 L 164.50 383.76 L 180.950 349.4400000000000000000000000 L 197.4 358.8000000000000000000000000 L 213.850 361.9200000000000000000000000 L 230.30 371.2800000000000000000000000 L 246.750 352.5600000000000000000000000 L 263.2 324.4800000000000000000000000 L 279.650 324.4800000000000000000000000 L 296.10 365.04 L 312.550 308.88 L 329.0 237.1200000000000000000000000 L 345.450 199.6800000000000000000000000 L 361.90 287.0400000000000000000000000 L 378.350 227.7600000000000000000000000 L 394.8 290.16 L 411.250 280.8 L 427.70 271.44 L 444.150 246.4800000000000000000000000 L 460.6 268.3200000000000000000000000 L 477.050 190.3200000000000000000000000 L 493.50 243.36 L 509.950 246.4800000000000000000000000 L 526.4 171.6000000000000000000000000 L 542.850 180.9600000000000000000000000 L 559.30 43.6800000000000000000000000 L 575.750 199.6800000000000000000000000\" fill=\"none\" stroke=\"#e41a1c\" stroke-width=\"2\"/></g></g></g></g></g></g></svg>"
      ],
      "text/plain": [
       "<IPython.core.display.SVG object>"
      ]
     },
     "execution_count": 49,
     "metadata": {},
     "output_type": "execute_result"
    }
   ],
   "source": [
    "exonerated_by_year = exonerations.group_by('exonerated').aggregate([\n",
    "    ('count', agate.Count())\n",
    "])\n",
    "\n",
    "exonerated_by_year.order_by('exonerated').line_chart('exonerated', 'count')"
   ]
  },
  {
   "cell_type": "markdown",
   "metadata": {},
   "source": [
    "That's it—you made it through the tutorial! Now it's your turn!"
   ]
  },
  {
   "cell_type": "code",
   "execution_count": 57,
   "metadata": {
    "collapsed": false
   },
   "outputs": [
    {
     "ename": "TypeError",
     "evalue": "unhashable type: 'list'",
     "output_type": "error",
     "traceback": [
      "\u001b[0;31m---------------------------------------------------------------------------\u001b[0m",
      "\u001b[0;31mTypeError\u001b[0m                                 Traceback (most recent call last)",
      "\u001b[0;32m<ipython-input-57-5d78415c46c1>\u001b[0m in \u001b[0;36m<module>\u001b[0;34m()\u001b[0m\n\u001b[1;32m      4\u001b[0m ])\n\u001b[1;32m      5\u001b[0m \u001b[0;34m\u001b[0m\u001b[0m\n\u001b[0;32m----> 6\u001b[0;31m \u001b[0mstates\u001b[0m\u001b[0;34m.\u001b[0m\u001b[0mbar_chart\u001b[0m\u001b[0;34m(\u001b[0m\u001b[0mlabel\u001b[0m\u001b[0;34m=\u001b[0m\u001b[0;34m'state'\u001b[0m\u001b[0;34m,\u001b[0m \u001b[0mvalue\u001b[0m\u001b[0;34m=\u001b[0m\u001b[0;34m[\u001b[0m\u001b[0;34m'mistake_witness'\u001b[0m\u001b[0;34m,\u001b[0m \u001b[0;34m'false_confession'\u001b[0m\u001b[0;34m]\u001b[0m\u001b[0;34m)\u001b[0m\u001b[0;34m\u001b[0m\u001b[0m\n\u001b[0m",
      "\u001b[0;32m/Users/cgroskopf/src/agate/agate/table/bar_chart.py\u001b[0m in \u001b[0;36mbar_chart\u001b[0;34m(self, label, value, path, width, height)\u001b[0m\n\u001b[1;32m     39\u001b[0m     \u001b[0mchart\u001b[0m\u001b[0;34m.\u001b[0m\u001b[0madd_x_axis\u001b[0m\u001b[0;34m(\u001b[0m\u001b[0mname\u001b[0m\u001b[0;34m=\u001b[0m\u001b[0mvalue_name\u001b[0m\u001b[0;34m)\u001b[0m\u001b[0;34m\u001b[0m\u001b[0m\n\u001b[1;32m     40\u001b[0m     \u001b[0mchart\u001b[0m\u001b[0;34m.\u001b[0m\u001b[0madd_y_axis\u001b[0m\u001b[0;34m(\u001b[0m\u001b[0mname\u001b[0m\u001b[0;34m=\u001b[0m\u001b[0mlabel_name\u001b[0m\u001b[0;34m)\u001b[0m\u001b[0;34m\u001b[0m\u001b[0m\n\u001b[0;32m---> 41\u001b[0;31m     \u001b[0mchart\u001b[0m\u001b[0;34m.\u001b[0m\u001b[0madd_bars\u001b[0m\u001b[0;34m(\u001b[0m\u001b[0mself\u001b[0m\u001b[0;34m,\u001b[0m \u001b[0mx\u001b[0m\u001b[0;34m=\u001b[0m\u001b[0mvalue\u001b[0m\u001b[0;34m,\u001b[0m \u001b[0my\u001b[0m\u001b[0;34m=\u001b[0m\u001b[0mlabel\u001b[0m\u001b[0;34m)\u001b[0m\u001b[0;34m\u001b[0m\u001b[0m\n\u001b[0m\u001b[1;32m     42\u001b[0m \u001b[0;34m\u001b[0m\u001b[0m\n\u001b[1;32m     43\u001b[0m     \u001b[0;32mreturn\u001b[0m \u001b[0mchart\u001b[0m\u001b[0;34m.\u001b[0m\u001b[0mto_svg\u001b[0m\u001b[0;34m(\u001b[0m\u001b[0mpath\u001b[0m\u001b[0;34m=\u001b[0m\u001b[0mpath\u001b[0m\u001b[0;34m,\u001b[0m \u001b[0mwidth\u001b[0m\u001b[0;34m=\u001b[0m\u001b[0mwidth\u001b[0m\u001b[0;34m,\u001b[0m \u001b[0mheight\u001b[0m\u001b[0;34m=\u001b[0m\u001b[0mheight\u001b[0m\u001b[0;34m)\u001b[0m\u001b[0;34m\u001b[0m\u001b[0m\n",
      "\u001b[0;32m/Users/cgroskopf/.virtualenvs/agate/lib/python3.5/site-packages/leather/chart.py\u001b[0m in \u001b[0;36madd_bars\u001b[0;34m(self, data, x, y, name, fill_color)\u001b[0m\n\u001b[1;32m    145\u001b[0m         \"\"\"\n\u001b[1;32m    146\u001b[0m         self.add_series(\n\u001b[0;32m--> 147\u001b[0;31m             \u001b[0mSeries\u001b[0m\u001b[0;34m(\u001b[0m\u001b[0mlist\u001b[0m\u001b[0;34m(\u001b[0m\u001b[0mreversed\u001b[0m\u001b[0;34m(\u001b[0m\u001b[0mdata\u001b[0m\u001b[0;34m)\u001b[0m\u001b[0;34m)\u001b[0m\u001b[0;34m,\u001b[0m \u001b[0mx\u001b[0m\u001b[0;34m=\u001b[0m\u001b[0mx\u001b[0m\u001b[0;34m,\u001b[0m \u001b[0my\u001b[0m\u001b[0;34m=\u001b[0m\u001b[0my\u001b[0m\u001b[0;34m,\u001b[0m \u001b[0mname\u001b[0m\u001b[0;34m=\u001b[0m\u001b[0mname\u001b[0m\u001b[0;34m)\u001b[0m\u001b[0;34m,\u001b[0m\u001b[0;34m\u001b[0m\u001b[0m\n\u001b[0m\u001b[1;32m    148\u001b[0m             \u001b[0mBars\u001b[0m\u001b[0;34m(\u001b[0m\u001b[0mfill_color\u001b[0m\u001b[0;34m)\u001b[0m\u001b[0;34m\u001b[0m\u001b[0m\n\u001b[1;32m    149\u001b[0m         )\n",
      "\u001b[0;32m/Users/cgroskopf/.virtualenvs/agate/lib/python3.5/site-packages/leather/series/base.py\u001b[0m in \u001b[0;36m__init__\u001b[0;34m(self, data, x, y, name)\u001b[0m\n\u001b[1;32m     54\u001b[0m \u001b[0;34m\u001b[0m\u001b[0m\n\u001b[1;32m     55\u001b[0m         self._types = [\n\u001b[0;32m---> 56\u001b[0;31m             \u001b[0mself\u001b[0m\u001b[0;34m.\u001b[0m\u001b[0m_infer_type\u001b[0m\u001b[0;34m(\u001b[0m\u001b[0mself\u001b[0m\u001b[0;34m.\u001b[0m\u001b[0m_keys\u001b[0m\u001b[0;34m[\u001b[0m\u001b[0mX\u001b[0m\u001b[0;34m]\u001b[0m\u001b[0;34m)\u001b[0m\u001b[0;34m,\u001b[0m\u001b[0;34m\u001b[0m\u001b[0m\n\u001b[0m\u001b[1;32m     57\u001b[0m             \u001b[0mself\u001b[0m\u001b[0;34m.\u001b[0m\u001b[0m_infer_type\u001b[0m\u001b[0;34m(\u001b[0m\u001b[0mself\u001b[0m\u001b[0;34m.\u001b[0m\u001b[0m_keys\u001b[0m\u001b[0;34m[\u001b[0m\u001b[0mY\u001b[0m\u001b[0;34m]\u001b[0m\u001b[0;34m)\u001b[0m\u001b[0;34m\u001b[0m\u001b[0m\n\u001b[1;32m     58\u001b[0m         ]\n",
      "\u001b[0;32m/Users/cgroskopf/.virtualenvs/agate/lib/python3.5/site-packages/leather/series/base.py\u001b[0m in \u001b[0;36m_infer_type\u001b[0;34m(self, key)\u001b[0m\n\u001b[1;32m     72\u001b[0m         \"\"\"\n\u001b[1;32m     73\u001b[0m         \u001b[0;32mfor\u001b[0m \u001b[0mi\u001b[0m\u001b[0;34m,\u001b[0m \u001b[0mrow\u001b[0m \u001b[0;32min\u001b[0m \u001b[0menumerate\u001b[0m\u001b[0;34m(\u001b[0m\u001b[0mself\u001b[0m\u001b[0;34m.\u001b[0m\u001b[0m_data\u001b[0m\u001b[0;34m)\u001b[0m\u001b[0;34m:\u001b[0m\u001b[0;34m\u001b[0m\u001b[0m\n\u001b[0;32m---> 74\u001b[0;31m             \u001b[0mv\u001b[0m \u001b[0;34m=\u001b[0m \u001b[0mkey\u001b[0m\u001b[0;34m(\u001b[0m\u001b[0mrow\u001b[0m\u001b[0;34m,\u001b[0m \u001b[0mi\u001b[0m\u001b[0;34m)\u001b[0m\u001b[0;34m\u001b[0m\u001b[0m\n\u001b[0m\u001b[1;32m     75\u001b[0m \u001b[0;34m\u001b[0m\u001b[0m\n\u001b[1;32m     76\u001b[0m             \u001b[0;32mif\u001b[0m \u001b[0mv\u001b[0m \u001b[0;32mis\u001b[0m \u001b[0;32mnot\u001b[0m \u001b[0;32mNone\u001b[0m\u001b[0;34m:\u001b[0m\u001b[0;34m\u001b[0m\u001b[0m\n",
      "\u001b[0;32m/Users/cgroskopf/.virtualenvs/agate/lib/python3.5/site-packages/leather/series/base.py\u001b[0m in \u001b[0;36m<lambda>\u001b[0;34m(row, index)\u001b[0m\n\u001b[1;32m     65\u001b[0m             \u001b[0;32mreturn\u001b[0m \u001b[0mkey\u001b[0m\u001b[0;34m\u001b[0m\u001b[0m\n\u001b[1;32m     66\u001b[0m         \u001b[0;32melse\u001b[0m\u001b[0;34m:\u001b[0m\u001b[0;34m\u001b[0m\u001b[0m\n\u001b[0;32m---> 67\u001b[0;31m             \u001b[0;32mreturn\u001b[0m \u001b[0;32mlambda\u001b[0m \u001b[0mrow\u001b[0m\u001b[0;34m,\u001b[0m \u001b[0mindex\u001b[0m\u001b[0;34m:\u001b[0m \u001b[0mrow\u001b[0m\u001b[0;34m[\u001b[0m\u001b[0mkey\u001b[0m\u001b[0;34m]\u001b[0m\u001b[0;34m\u001b[0m\u001b[0m\n\u001b[0m\u001b[1;32m     68\u001b[0m \u001b[0;34m\u001b[0m\u001b[0m\n\u001b[1;32m     69\u001b[0m     \u001b[0;32mdef\u001b[0m \u001b[0m_infer_type\u001b[0m\u001b[0;34m(\u001b[0m\u001b[0mself\u001b[0m\u001b[0;34m,\u001b[0m \u001b[0mkey\u001b[0m\u001b[0;34m)\u001b[0m\u001b[0;34m:\u001b[0m\u001b[0;34m\u001b[0m\u001b[0m\n",
      "\u001b[0;32m/Users/cgroskopf/src/agate/agate/mapped_sequence.py\u001b[0m in \u001b[0;36m__getitem__\u001b[0;34m(self, key)\u001b[0m\n\u001b[1;32m     92\u001b[0m             \u001b[0;32mreturn\u001b[0m \u001b[0mself\u001b[0m\u001b[0;34m.\u001b[0m\u001b[0mvalues\u001b[0m\u001b[0;34m(\u001b[0m\u001b[0;34m)\u001b[0m\u001b[0;34m[\u001b[0m\u001b[0mkey\u001b[0m\u001b[0;34m]\u001b[0m\u001b[0;34m\u001b[0m\u001b[0m\n\u001b[1;32m     93\u001b[0m         \u001b[0;32melse\u001b[0m\u001b[0;34m:\u001b[0m\u001b[0;34m\u001b[0m\u001b[0m\n\u001b[0;32m---> 94\u001b[0;31m             \u001b[0;32mreturn\u001b[0m \u001b[0mself\u001b[0m\u001b[0;34m.\u001b[0m\u001b[0mdict\u001b[0m\u001b[0;34m(\u001b[0m\u001b[0;34m)\u001b[0m\u001b[0;34m[\u001b[0m\u001b[0mkey\u001b[0m\u001b[0;34m]\u001b[0m\u001b[0;34m\u001b[0m\u001b[0m\n\u001b[0m\u001b[1;32m     95\u001b[0m \u001b[0;34m\u001b[0m\u001b[0m\n\u001b[1;32m     96\u001b[0m     \u001b[0;32mdef\u001b[0m \u001b[0m__setitem__\u001b[0m\u001b[0;34m(\u001b[0m\u001b[0mself\u001b[0m\u001b[0;34m,\u001b[0m \u001b[0mkey\u001b[0m\u001b[0;34m,\u001b[0m \u001b[0mvalue\u001b[0m\u001b[0;34m)\u001b[0m\u001b[0;34m:\u001b[0m\u001b[0;34m\u001b[0m\u001b[0m\n",
      "\u001b[0;31mTypeError\u001b[0m: unhashable type: 'list'"
     ]
    }
   ],
   "source": [
    "states = clean_state_data.group_by('state').aggregate([\n",
    "    ('k', agate.Count('mistake_witness')),\n",
    "    ('false_confession', agate.Count('false_confession'))\n",
    "])\n",
    "\n",
    "states.bar_chart(label='state', value=['mistake_witness', 'false_confession'])"
   ]
  },
  {
   "cell_type": "markdown",
   "metadata": {
    "collapsed": true
   },
   "source": [
    "Where to go next\n",
    "================\n",
    "\n",
    "This tutorial only scratches the surface of agate's features. For many more ideas on how to apply agate, check out the [`cookbook`](http://agate.readthedocs.io/en/1.5.0/cookbook.html, which includes dozens of examples of specific features of agate as well as recipes for substituting agate for Excel, SQL, R and more. Also check out the agate's [`extensions`](http://agate.readthedocs.io/en/1.5.0/extensions.html) which add support for reading/writing SQL tables, performing statistical analysis and more.\n",
    "\n",
    "Also, if you're going to be doing data processing in Python you really ought to check out [`proof`](http://proof.readthedocs.org/en/1.5.0/), a library for building data processing pipelines that are repeatable and self-documenting. It will make your code cleaner and save you tons of time.\n",
    "\n",
    "Good luck in your reporting!"
   ]
  },
  {
   "cell_type": "code",
   "execution_count": null,
   "metadata": {
    "collapsed": true
   },
   "outputs": [],
   "source": []
  }
 ],
 "metadata": {
  "kernelspec": {
   "display_name": "Python 3",
   "language": "python",
   "name": "python3"
  },
  "language_info": {
   "codemirror_mode": {
    "name": "ipython",
    "version": 3
   },
   "file_extension": ".py",
   "mimetype": "text/x-python",
   "name": "python",
   "nbconvert_exporter": "python",
   "pygments_lexer": "ipython3",
   "version": "3.5.0"
  }
 },
 "nbformat": 4,
 "nbformat_minor": 0
}
